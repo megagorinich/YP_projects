{
 "cells": [
  {
   "cell_type": "markdown",
   "source": [
    "# Определение перспективного тарифа для телеком компании\n",
    "\n",
    "Вы аналитик компании «Мегалайн» — федерального оператора сотовой связи. Клиентам предлагают два тарифных плана: «Смарт» и «Ультра». Чтобы скорректировать рекламный бюджет, коммерческий департамент хочет понять, какой тариф приносит больше денег.\n",
    "Вам предстоит сделать предварительный анализ тарифов на небольшой выборке клиентов. В вашем распоряжении данные 500 пользователей «Мегалайна»: кто они, откуда, каким тарифом пользуются, сколько звонков и сообщений каждый отправил за 2018 год. Нужно проанализировать поведение клиентов и сделать вывод — какой тариф лучше.\n",
    "\n",
    "\n",
    "**Описание тарифов**\n",
    "\n",
    "* Тариф «Смарт»\n",
    "* Ежемесячная плата: 550 рублей\n",
    "* Включено 500 минут разговора, 50 сообщений и 15 Гб интернет-трафика\n",
    "* Стоимость услуг сверх тарифного пакета:\n",
    "* минута разговора: 3 рубля\n",
    "* сообщение: 3 рубля\n",
    "* 1 Гб интернет-трафика: 200 рублей\n",
    "\n",
    "   \n",
    "* Тариф «Ультра»\n",
    "* Ежемесячная плата: 1950 рублей\n",
    "* Включено 3000 минут разговора, 1000 сообщений и 30 Гб интернет-трафика\n",
    "* Стоимость услуг сверх тарифного пакета:\n",
    "* минута разговора: 1 рубль\n",
    "* сообщение: 1 рубль\n",
    "* 1 Гб интернет-трафика: 150 рублей\n",
    "\n",
    "Обратите внимание: «Мегалайн» всегда округляет вверх значения минут и мегабайтов. Если пользователь проговорил всего 1 секунду, в тарифе засчитывается целая минута.\n",
    "\n",
    "\n",
    "**Описание данных**\n",
    "\n",
    "\n",
    "**Таблица users** (информация о пользователях):\n",
    "\n",
    "\n",
    "* user_id — уникальный идентификатор пользователя\n",
    "* first_name — имя пользователя\n",
    "* last_name — фамилия пользователя\n",
    "* age — возраст пользователя (годы)\n",
    "* reg_date — дата подключения тарифа (день, месяц, год)\n",
    "* churn_date — дата прекращения пользования тарифом (если значение пропущено, то тариф ещё действовал на момент выгрузки данных)\n",
    "* city — город проживания пользователя\n",
    "* tariff — название тарифного плана\n",
    "\n",
    "\n",
    "**Таблица calls** (информация о звонках):\n",
    "\n",
    "\n",
    "* id — уникальный номер звонка\n",
    "* call_date — дата звонка\n",
    "* duration — длительность звонка в минутах\n",
    "* user_id — идентификатор пользователя, сделавшего звонок\n",
    "\n",
    "\n",
    "**Таблица messages** (информация о сообщениях):\n",
    "\n",
    "\n",
    "* id — уникальный номер сообщения\n",
    "* message_date — дата сообщения\n",
    "* user_id — идентификатор пользователя, отправившего сообщение\n",
    "\n",
    "\n",
    "**Таблица internet** (информация об интернет-сессиях):\n",
    "\n",
    "\n",
    "* id — уникальный номер сессии\n",
    "* mb_used — объём потраченного за сессию интернет-трафика (в мегабайтах)\n",
    "* session_date — дата интернет-сессии\n",
    "* user_id — идентификатор пользователя\n",
    "\n",
    "\n",
    "**Таблица tariffs** (информация о тарифах):\n",
    "\n",
    "\n",
    "* tariff_name — название тарифа\n",
    "* rub_monthly_fee — ежемесячная абонентская плата в рублях\n",
    "* minutes_included — количество минут разговора в месяц, включённых в абонентскую плату\n",
    "* messages_included — количество сообщений в месяц, включённых в абонентскую плату\n",
    "* mb_per_month_included — объём интернет-трафика, включённого в абонентскую плату (в мегабайтах)\n",
    "* rub_per_minute — стоимость минуты разговора сверх тарифного пакета (например, если в тарифе 100 минут разговора в месяц, то со 101 минуты будет взиматься плата)\n",
    "* rub_per_message — стоимость отправки сообщения сверх тарифного пакета\n",
    "* rub_per_gb — стоимость дополнительного гигабайта интернет-трафика сверх тарифного пакета (1 гигабайт = 1024 мегабайта)\n",
    "\n",
    "\n",
    "Примечание. Если объединение таблиц методом merge приводит к ошибке dead kernell, примените метод join — это облегчит нагрузку на Jupyter Notebook."
   ],
   "metadata": {}
  },
  {
   "cell_type": "markdown",
   "source": [
    "### Шаг 1. Откройте файл с данными и изучите общую информацию"
   ],
   "metadata": {}
  },
  {
   "cell_type": "code",
   "execution_count": 1,
   "source": [
    "import pandas as pd\r\n",
    "import numpy as np\r\n",
    "import math\r\n",
    "from scipy import stats as st\r\n",
    "from IPython.display import display\r\n",
    "import matplotlib.pyplot as plt\r\n",
    "pd.options.display.max_columns = None\r\n",
    "\r\n",
    "calls_data = pd.read_csv('/datasets/calls.csv')\r\n",
    "users_data = pd.read_csv('/datasets/users.csv')\r\n",
    "messages_data = pd.read_csv('/datasets/messages.csv')\r\n",
    "internet_data = pd.read_csv('/datasets/internet.csv')\r\n",
    "tariffs_data = pd.read_csv('/datasets/tariffs.csv')\r\n",
    "\r\n",
    "display(\r\n",
    "    calls_data.head(2), \r\n",
    "    users_data.head(2),\r\n",
    "    messages_data.head(2),\r\n",
    "    internet_data.head(2),\r\n",
    "    tariffs_data\r\n",
    ")\r\n",
    "calls_data.info()\r\n",
    "users_data.info()\r\n",
    "messages_data.info()\r\n",
    "internet_data.info()\r\n",
    "tariffs_data.info()"
   ],
   "outputs": [
    {
     "output_type": "display_data",
     "data": {
      "text/plain": [
       "       id   call_date  duration  user_id\n",
       "0  1000_0  2018-07-25       0.0     1000\n",
       "1  1000_1  2018-08-17       0.0     1000"
      ],
      "text/html": [
       "<div>\n",
       "<style scoped>\n",
       "    .dataframe tbody tr th:only-of-type {\n",
       "        vertical-align: middle;\n",
       "    }\n",
       "\n",
       "    .dataframe tbody tr th {\n",
       "        vertical-align: top;\n",
       "    }\n",
       "\n",
       "    .dataframe thead th {\n",
       "        text-align: right;\n",
       "    }\n",
       "</style>\n",
       "<table border=\"1\" class=\"dataframe\">\n",
       "  <thead>\n",
       "    <tr style=\"text-align: right;\">\n",
       "      <th></th>\n",
       "      <th>id</th>\n",
       "      <th>call_date</th>\n",
       "      <th>duration</th>\n",
       "      <th>user_id</th>\n",
       "    </tr>\n",
       "  </thead>\n",
       "  <tbody>\n",
       "    <tr>\n",
       "      <td>0</td>\n",
       "      <td>1000_0</td>\n",
       "      <td>2018-07-25</td>\n",
       "      <td>0.0</td>\n",
       "      <td>1000</td>\n",
       "    </tr>\n",
       "    <tr>\n",
       "      <td>1</td>\n",
       "      <td>1000_1</td>\n",
       "      <td>2018-08-17</td>\n",
       "      <td>0.0</td>\n",
       "      <td>1000</td>\n",
       "    </tr>\n",
       "  </tbody>\n",
       "</table>\n",
       "</div>"
      ]
     },
     "metadata": {}
    },
    {
     "output_type": "display_data",
     "data": {
      "text/plain": [
       "   user_id  age churn_date       city first_name  last_name    reg_date tariff\n",
       "0     1000   52        NaN  Краснодар     Рафаил  Верещагин  2018-05-25  ultra\n",
       "1     1001   41        NaN     Москва       Иван       Ежов  2018-11-01  smart"
      ],
      "text/html": [
       "<div>\n",
       "<style scoped>\n",
       "    .dataframe tbody tr th:only-of-type {\n",
       "        vertical-align: middle;\n",
       "    }\n",
       "\n",
       "    .dataframe tbody tr th {\n",
       "        vertical-align: top;\n",
       "    }\n",
       "\n",
       "    .dataframe thead th {\n",
       "        text-align: right;\n",
       "    }\n",
       "</style>\n",
       "<table border=\"1\" class=\"dataframe\">\n",
       "  <thead>\n",
       "    <tr style=\"text-align: right;\">\n",
       "      <th></th>\n",
       "      <th>user_id</th>\n",
       "      <th>age</th>\n",
       "      <th>churn_date</th>\n",
       "      <th>city</th>\n",
       "      <th>first_name</th>\n",
       "      <th>last_name</th>\n",
       "      <th>reg_date</th>\n",
       "      <th>tariff</th>\n",
       "    </tr>\n",
       "  </thead>\n",
       "  <tbody>\n",
       "    <tr>\n",
       "      <td>0</td>\n",
       "      <td>1000</td>\n",
       "      <td>52</td>\n",
       "      <td>NaN</td>\n",
       "      <td>Краснодар</td>\n",
       "      <td>Рафаил</td>\n",
       "      <td>Верещагин</td>\n",
       "      <td>2018-05-25</td>\n",
       "      <td>ultra</td>\n",
       "    </tr>\n",
       "    <tr>\n",
       "      <td>1</td>\n",
       "      <td>1001</td>\n",
       "      <td>41</td>\n",
       "      <td>NaN</td>\n",
       "      <td>Москва</td>\n",
       "      <td>Иван</td>\n",
       "      <td>Ежов</td>\n",
       "      <td>2018-11-01</td>\n",
       "      <td>smart</td>\n",
       "    </tr>\n",
       "  </tbody>\n",
       "</table>\n",
       "</div>"
      ]
     },
     "metadata": {}
    },
    {
     "output_type": "display_data",
     "data": {
      "text/plain": [
       "       id message_date  user_id\n",
       "0  1000_0   2018-06-27     1000\n",
       "1  1000_1   2018-10-08     1000"
      ],
      "text/html": [
       "<div>\n",
       "<style scoped>\n",
       "    .dataframe tbody tr th:only-of-type {\n",
       "        vertical-align: middle;\n",
       "    }\n",
       "\n",
       "    .dataframe tbody tr th {\n",
       "        vertical-align: top;\n",
       "    }\n",
       "\n",
       "    .dataframe thead th {\n",
       "        text-align: right;\n",
       "    }\n",
       "</style>\n",
       "<table border=\"1\" class=\"dataframe\">\n",
       "  <thead>\n",
       "    <tr style=\"text-align: right;\">\n",
       "      <th></th>\n",
       "      <th>id</th>\n",
       "      <th>message_date</th>\n",
       "      <th>user_id</th>\n",
       "    </tr>\n",
       "  </thead>\n",
       "  <tbody>\n",
       "    <tr>\n",
       "      <td>0</td>\n",
       "      <td>1000_0</td>\n",
       "      <td>2018-06-27</td>\n",
       "      <td>1000</td>\n",
       "    </tr>\n",
       "    <tr>\n",
       "      <td>1</td>\n",
       "      <td>1000_1</td>\n",
       "      <td>2018-10-08</td>\n",
       "      <td>1000</td>\n",
       "    </tr>\n",
       "  </tbody>\n",
       "</table>\n",
       "</div>"
      ]
     },
     "metadata": {}
    },
    {
     "output_type": "display_data",
     "data": {
      "text/plain": [
       "   Unnamed: 0      id  mb_used session_date  user_id\n",
       "0           0  1000_0   112.95   2018-11-25     1000\n",
       "1           1  1000_1  1052.81   2018-09-07     1000"
      ],
      "text/html": [
       "<div>\n",
       "<style scoped>\n",
       "    .dataframe tbody tr th:only-of-type {\n",
       "        vertical-align: middle;\n",
       "    }\n",
       "\n",
       "    .dataframe tbody tr th {\n",
       "        vertical-align: top;\n",
       "    }\n",
       "\n",
       "    .dataframe thead th {\n",
       "        text-align: right;\n",
       "    }\n",
       "</style>\n",
       "<table border=\"1\" class=\"dataframe\">\n",
       "  <thead>\n",
       "    <tr style=\"text-align: right;\">\n",
       "      <th></th>\n",
       "      <th>Unnamed: 0</th>\n",
       "      <th>id</th>\n",
       "      <th>mb_used</th>\n",
       "      <th>session_date</th>\n",
       "      <th>user_id</th>\n",
       "    </tr>\n",
       "  </thead>\n",
       "  <tbody>\n",
       "    <tr>\n",
       "      <td>0</td>\n",
       "      <td>0</td>\n",
       "      <td>1000_0</td>\n",
       "      <td>112.95</td>\n",
       "      <td>2018-11-25</td>\n",
       "      <td>1000</td>\n",
       "    </tr>\n",
       "    <tr>\n",
       "      <td>1</td>\n",
       "      <td>1</td>\n",
       "      <td>1000_1</td>\n",
       "      <td>1052.81</td>\n",
       "      <td>2018-09-07</td>\n",
       "      <td>1000</td>\n",
       "    </tr>\n",
       "  </tbody>\n",
       "</table>\n",
       "</div>"
      ]
     },
     "metadata": {}
    },
    {
     "output_type": "display_data",
     "data": {
      "text/plain": [
       "   messages_included  mb_per_month_included  minutes_included  \\\n",
       "0                 50                  15360               500   \n",
       "1               1000                  30720              3000   \n",
       "\n",
       "   rub_monthly_fee  rub_per_gb  rub_per_message  rub_per_minute tariff_name  \n",
       "0              550         200                3               3       smart  \n",
       "1             1950         150                1               1       ultra  "
      ],
      "text/html": [
       "<div>\n",
       "<style scoped>\n",
       "    .dataframe tbody tr th:only-of-type {\n",
       "        vertical-align: middle;\n",
       "    }\n",
       "\n",
       "    .dataframe tbody tr th {\n",
       "        vertical-align: top;\n",
       "    }\n",
       "\n",
       "    .dataframe thead th {\n",
       "        text-align: right;\n",
       "    }\n",
       "</style>\n",
       "<table border=\"1\" class=\"dataframe\">\n",
       "  <thead>\n",
       "    <tr style=\"text-align: right;\">\n",
       "      <th></th>\n",
       "      <th>messages_included</th>\n",
       "      <th>mb_per_month_included</th>\n",
       "      <th>minutes_included</th>\n",
       "      <th>rub_monthly_fee</th>\n",
       "      <th>rub_per_gb</th>\n",
       "      <th>rub_per_message</th>\n",
       "      <th>rub_per_minute</th>\n",
       "      <th>tariff_name</th>\n",
       "    </tr>\n",
       "  </thead>\n",
       "  <tbody>\n",
       "    <tr>\n",
       "      <td>0</td>\n",
       "      <td>50</td>\n",
       "      <td>15360</td>\n",
       "      <td>500</td>\n",
       "      <td>550</td>\n",
       "      <td>200</td>\n",
       "      <td>3</td>\n",
       "      <td>3</td>\n",
       "      <td>smart</td>\n",
       "    </tr>\n",
       "    <tr>\n",
       "      <td>1</td>\n",
       "      <td>1000</td>\n",
       "      <td>30720</td>\n",
       "      <td>3000</td>\n",
       "      <td>1950</td>\n",
       "      <td>150</td>\n",
       "      <td>1</td>\n",
       "      <td>1</td>\n",
       "      <td>ultra</td>\n",
       "    </tr>\n",
       "  </tbody>\n",
       "</table>\n",
       "</div>"
      ]
     },
     "metadata": {}
    },
    {
     "output_type": "stream",
     "name": "stdout",
     "text": [
      "<class 'pandas.core.frame.DataFrame'>\n",
      "RangeIndex: 202607 entries, 0 to 202606\n",
      "Data columns (total 4 columns):\n",
      "id           202607 non-null object\n",
      "call_date    202607 non-null object\n",
      "duration     202607 non-null float64\n",
      "user_id      202607 non-null int64\n",
      "dtypes: float64(1), int64(1), object(2)\n",
      "memory usage: 6.2+ MB\n",
      "<class 'pandas.core.frame.DataFrame'>\n",
      "RangeIndex: 500 entries, 0 to 499\n",
      "Data columns (total 8 columns):\n",
      "user_id       500 non-null int64\n",
      "age           500 non-null int64\n",
      "churn_date    38 non-null object\n",
      "city          500 non-null object\n",
      "first_name    500 non-null object\n",
      "last_name     500 non-null object\n",
      "reg_date      500 non-null object\n",
      "tariff        500 non-null object\n",
      "dtypes: int64(2), object(6)\n",
      "memory usage: 31.4+ KB\n",
      "<class 'pandas.core.frame.DataFrame'>\n",
      "RangeIndex: 123036 entries, 0 to 123035\n",
      "Data columns (total 3 columns):\n",
      "id              123036 non-null object\n",
      "message_date    123036 non-null object\n",
      "user_id         123036 non-null int64\n",
      "dtypes: int64(1), object(2)\n",
      "memory usage: 2.8+ MB\n",
      "<class 'pandas.core.frame.DataFrame'>\n",
      "RangeIndex: 149396 entries, 0 to 149395\n",
      "Data columns (total 5 columns):\n",
      "Unnamed: 0      149396 non-null int64\n",
      "id              149396 non-null object\n",
      "mb_used         149396 non-null float64\n",
      "session_date    149396 non-null object\n",
      "user_id         149396 non-null int64\n",
      "dtypes: float64(1), int64(2), object(2)\n",
      "memory usage: 5.7+ MB\n",
      "<class 'pandas.core.frame.DataFrame'>\n",
      "RangeIndex: 2 entries, 0 to 1\n",
      "Data columns (total 8 columns):\n",
      "messages_included        2 non-null int64\n",
      "mb_per_month_included    2 non-null int64\n",
      "minutes_included         2 non-null int64\n",
      "rub_monthly_fee          2 non-null int64\n",
      "rub_per_gb               2 non-null int64\n",
      "rub_per_message          2 non-null int64\n",
      "rub_per_minute           2 non-null int64\n",
      "tariff_name              2 non-null object\n",
      "dtypes: int64(7), object(1)\n",
      "memory usage: 256.0+ bytes\n"
     ]
    }
   ],
   "metadata": {}
  },
  {
   "cell_type": "markdown",
   "source": [
    "### Вывод:"
   ],
   "metadata": {}
  },
  {
   "cell_type": "markdown",
   "source": [
    "1. Все таблицы разного размера\n",
    "2. Все таблицы объединяют столбцы `\"user_id\"` и `\"tariff\"`, `\"tariff_name\"`\n",
    "3. Есть ненужный столбец `\"Unnamed: 0`\"\n",
    "4. Столбец `\"duration\"` содержит значения `0.0`\n",
    "5. Столбец `\"churn_date\"` содержит `462` пропуска\n",
    "6. В столбцах с датами необходимо сменить тип данных\n",
    "7. Столбцы `\"duration\"` и `\"mb_used\"` необходимо округлить"
   ],
   "metadata": {}
  },
  {
   "cell_type": "markdown",
   "source": [
    "### Шаг 2. Подготовьте данные"
   ],
   "metadata": {}
  },
  {
   "cell_type": "markdown",
   "source": [
    "* Приведите данные к нужным типам;\n",
    "* Найдите и исправьте ошибки в данных.\n",
    "* Поясните, какие ошибки вы нашли и как их исправили. Обратите внимание, что длительность многих звонков — 0.0 минут. Это могут быть пропущенные звонки. Обрабатывать ли эти нулевые значения, решать вам — оцените, как их отсутствие повлияет на результаты анализа.\n",
    "* Посчитайте для каждого пользователя:\n",
    "* количество сделанных звонков и израсходованных минут разговора по месяцам;\n",
    "* количество отправленных сообщений по месяцам;\n",
    "* объем израсходованного интернет-трафика по месяцам;\n",
    "* помесячную выручку с каждого пользователя (вычтите бесплатный лимит из суммарного количества звонков, сообщений и интернет-трафика; остаток умножьте на значение из тарифного плана; прибавьте абонентскую плату, соответствующую тарифному плану)."
   ],
   "metadata": {}
  },
  {
   "cell_type": "code",
   "execution_count": 2,
   "source": [
    "display(internet_data.query('user_id == 1106'))"
   ],
   "outputs": [
    {
     "output_type": "display_data",
     "data": {
      "text/plain": [
       "       Unnamed: 0        id  mb_used session_date  user_id\n",
       "30198       30198    1106_0   275.28   2018-07-27     1106\n",
       "30199       30199    1106_1     0.00   2018-07-20     1106\n",
       "30200       30200    1106_2   162.24   2018-05-19     1106\n",
       "30201       30201    1106_3   424.60   2018-05-15     1106\n",
       "30202       30202    1106_4   575.64   2018-08-05     1106\n",
       "...           ...       ...      ...          ...      ...\n",
       "30512       30512  1106_314   445.65   2018-07-31     1106\n",
       "30513       30513  1106_315   443.63   2018-08-28     1106\n",
       "30514       30514  1106_316   401.66   2018-09-04     1106\n",
       "30515       30515  1106_317   834.46   2018-08-06     1106\n",
       "30516       30516  1106_318   242.94   2018-10-15     1106\n",
       "\n",
       "[319 rows x 5 columns]"
      ],
      "text/html": [
       "<div>\n",
       "<style scoped>\n",
       "    .dataframe tbody tr th:only-of-type {\n",
       "        vertical-align: middle;\n",
       "    }\n",
       "\n",
       "    .dataframe tbody tr th {\n",
       "        vertical-align: top;\n",
       "    }\n",
       "\n",
       "    .dataframe thead th {\n",
       "        text-align: right;\n",
       "    }\n",
       "</style>\n",
       "<table border=\"1\" class=\"dataframe\">\n",
       "  <thead>\n",
       "    <tr style=\"text-align: right;\">\n",
       "      <th></th>\n",
       "      <th>Unnamed: 0</th>\n",
       "      <th>id</th>\n",
       "      <th>mb_used</th>\n",
       "      <th>session_date</th>\n",
       "      <th>user_id</th>\n",
       "    </tr>\n",
       "  </thead>\n",
       "  <tbody>\n",
       "    <tr>\n",
       "      <td>30198</td>\n",
       "      <td>30198</td>\n",
       "      <td>1106_0</td>\n",
       "      <td>275.28</td>\n",
       "      <td>2018-07-27</td>\n",
       "      <td>1106</td>\n",
       "    </tr>\n",
       "    <tr>\n",
       "      <td>30199</td>\n",
       "      <td>30199</td>\n",
       "      <td>1106_1</td>\n",
       "      <td>0.00</td>\n",
       "      <td>2018-07-20</td>\n",
       "      <td>1106</td>\n",
       "    </tr>\n",
       "    <tr>\n",
       "      <td>30200</td>\n",
       "      <td>30200</td>\n",
       "      <td>1106_2</td>\n",
       "      <td>162.24</td>\n",
       "      <td>2018-05-19</td>\n",
       "      <td>1106</td>\n",
       "    </tr>\n",
       "    <tr>\n",
       "      <td>30201</td>\n",
       "      <td>30201</td>\n",
       "      <td>1106_3</td>\n",
       "      <td>424.60</td>\n",
       "      <td>2018-05-15</td>\n",
       "      <td>1106</td>\n",
       "    </tr>\n",
       "    <tr>\n",
       "      <td>30202</td>\n",
       "      <td>30202</td>\n",
       "      <td>1106_4</td>\n",
       "      <td>575.64</td>\n",
       "      <td>2018-08-05</td>\n",
       "      <td>1106</td>\n",
       "    </tr>\n",
       "    <tr>\n",
       "      <td>...</td>\n",
       "      <td>...</td>\n",
       "      <td>...</td>\n",
       "      <td>...</td>\n",
       "      <td>...</td>\n",
       "      <td>...</td>\n",
       "    </tr>\n",
       "    <tr>\n",
       "      <td>30512</td>\n",
       "      <td>30512</td>\n",
       "      <td>1106_314</td>\n",
       "      <td>445.65</td>\n",
       "      <td>2018-07-31</td>\n",
       "      <td>1106</td>\n",
       "    </tr>\n",
       "    <tr>\n",
       "      <td>30513</td>\n",
       "      <td>30513</td>\n",
       "      <td>1106_315</td>\n",
       "      <td>443.63</td>\n",
       "      <td>2018-08-28</td>\n",
       "      <td>1106</td>\n",
       "    </tr>\n",
       "    <tr>\n",
       "      <td>30514</td>\n",
       "      <td>30514</td>\n",
       "      <td>1106_316</td>\n",
       "      <td>401.66</td>\n",
       "      <td>2018-09-04</td>\n",
       "      <td>1106</td>\n",
       "    </tr>\n",
       "    <tr>\n",
       "      <td>30515</td>\n",
       "      <td>30515</td>\n",
       "      <td>1106_317</td>\n",
       "      <td>834.46</td>\n",
       "      <td>2018-08-06</td>\n",
       "      <td>1106</td>\n",
       "    </tr>\n",
       "    <tr>\n",
       "      <td>30516</td>\n",
       "      <td>30516</td>\n",
       "      <td>1106_318</td>\n",
       "      <td>242.94</td>\n",
       "      <td>2018-10-15</td>\n",
       "      <td>1106</td>\n",
       "    </tr>\n",
       "  </tbody>\n",
       "</table>\n",
       "<p>319 rows × 5 columns</p>\n",
       "</div>"
      ]
     },
     "metadata": {}
    }
   ],
   "metadata": {}
  },
  {
   "cell_type": "code",
   "execution_count": 3,
   "source": [
    "def rounded(duration_usedMb):\r\n",
    "    \"\"\"\r\n",
    "    функция округляет значения столбца\r\n",
    "    если дробная часть больше, чем .0, то округляет \r\n",
    "    целую часть в большую сторону\r\n",
    "    \"\"\"\r\n",
    "    result = math.ceil(duration_usedMb)\r\n",
    "    return result\r\n",
    "\r\n",
    "calls_data['duration'] = calls_data.apply(lambda row: rounded(row['duration']), axis=1) # применяю функцию к столбцу 'duration'\r\n",
    "internet_data['mb_used'] = internet_data.apply(lambda row: rounded(row['mb_used']), axis=1) # применяю функцию к столбцу 'mb_used'\r\n",
    "\r\n",
    "def types(data, column, types):\r\n",
    "    \"\"\"\r\n",
    "    функция для замены типов данных\r\n",
    "    \"\"\"\r\n",
    "    data[column] = data[column].astype(types)\r\n",
    "\r\n",
    "types(calls_data, 'call_date', 'datetime64[ns]')       # применяю функцию к столбцу 'call_date'\r\n",
    "types(users_data, 'reg_date', 'datetime64[ns]')        # применяю функцию к столбцу 'reg_date'\r\n",
    "types(messages_data, 'message_date', 'datetime64[ns]') # применяю функцию к столбцу 'message_date'\r\n",
    "types(internet_data, 'session_date', 'datetime64[ns]') # применяю функцию к столбцу 'session_date'\r\n",
    "\r\n",
    "internet_data.drop('Unnamed: 0', axis='columns') # удаляю ненужный столбец\r\n",
    "\r\n",
    "# проверяю данные на наличие выбросов для столбцов calls_data['duration'] и internet_data['mb_used']\r\n",
    "calls_data['duration'].hist(bins=100)\r\n",
    "plt.show()\r\n",
    "\r\n",
    "display(calls_data\r\n",
    "        .query('duration == 0')['user_id']\r\n",
    "        .value_counts()\r\n",
    "        .head(10))\r\n",
    "display(calls_data['user_id'].value_counts().head(10))\r\n",
    "\r\n",
    "internet_data['mb_used'].hist(bins=100)\r\n",
    "plt.show()\r\n",
    "\r\n",
    "display(internet_data\r\n",
    "        .query('mb_used == 0')['user_id']\r\n",
    "        .value_counts()\r\n",
    "        .head(10))\r\n",
    "display(internet_data['user_id'].value_counts().head(10))\r\n",
    "\r\n",
    "# calls_data = calls_data.query('duration != 0')\r\n",
    "internet_data = internet_data.query('mb_used != 0') # удалил нулевые значения из internet_data['mb_used']\r\n"
   ],
   "outputs": [
    {
     "output_type": "display_data",
     "data": {
      "text/plain": [
       "<Figure size 432x288 with 1 Axes>"
      ],
      "image/png": "[encoded data removed]"
     },
     "metadata": {
      "needs_background": "light"
     }
    },
    {
     "output_type": "display_data",
     "data": {
      "text/plain": [
       "1377    336\n",
       "1168    308\n",
       "1453    295\n",
       "1375    290\n",
       "1196    262\n",
       "1021    254\n",
       "1363    244\n",
       "1282    240\n",
       "1057    216\n",
       "1356    214\n",
       "Name: user_id, dtype: int64"
      ]
     },
     "metadata": {}
    },
    {
     "output_type": "display_data",
     "data": {
      "text/plain": [
       "1377    1760\n",
       "1168    1692\n",
       "1375    1560\n",
       "1453    1440\n",
       "1196    1240\n",
       "1021    1224\n",
       "1363    1200\n",
       "1282    1188\n",
       "1458    1155\n",
       "1381    1092\n",
       "Name: user_id, dtype: int64"
      ]
     },
     "metadata": {}
    },
    {
     "output_type": "display_data",
     "data": {
      "text/plain": [
       "<Figure size 432x288 with 1 Axes>"
      ],
      "image/png": "[encoded data removed]"
     },
     "metadata": {
      "needs_background": "light"
     }
    },
    {
     "output_type": "display_data",
     "data": {
      "text/plain": [
       "1204    144\n",
       "1496    141\n",
       "1429    125\n",
       "1119    124\n",
       "1227    121\n",
       "1314    117\n",
       "1219    115\n",
       "1135    115\n",
       "1045    113\n",
       "1251    112\n",
       "Name: user_id, dtype: int64"
      ]
     },
     "metadata": {}
    },
    {
     "output_type": "display_data",
     "data": {
      "text/plain": [
       "1496    834\n",
       "1227    812\n",
       "1204    789\n",
       "1240    764\n",
       "1251    759\n",
       "1385    755\n",
       "1072    745\n",
       "1429    736\n",
       "1373    711\n",
       "1219    708\n",
       "Name: user_id, dtype: int64"
      ]
     },
     "metadata": {}
    }
   ],
   "metadata": {
    "scrolled": true
   }
  },
  {
   "cell_type": "code",
   "execution_count": 4,
   "source": [
    "calls_data['month'] = calls_data['call_date'].dt.month          # добавляю столбец с номером месяца в таблицу calls_data\r\n",
    "calls_data['sum_calls'] = 1                                     # создаю столбец 'sum_calls' в таблице calls_data для подсчета кол-ва звонков в месяц для каждого абонента\r\n",
    "messages_data['month'] = messages_data['message_date'].dt.month # добавляю столбец с номером месяца в таблицу messages_data\r\n",
    "messages_data['sum_messages'] = 1                               # создаю столбец 'sum_messages' в таблице messages_data для подсчета кол-ва сообщений в месяц для каждого абонента\r\n",
    "internet_data['month'] = internet_data['session_date'].dt.month # добавляю столбец с номером месяца в таблицу internet_data\r\n",
    "\r\n",
    "data = (\r\n",
    "    calls_data\r\n",
    "    .groupby(['user_id', 'month'])['duration', 'sum_calls']\r\n",
    "    .sum()\r\n",
    "    .reset_index()\r\n",
    ") # группирую calls_data по столбцам 'user_id', 'month' с суммированием 'duration', 'sum_calls'\r\n",
    "data_1 = (\r\n",
    "    messages_data\r\n",
    "    .groupby(['user_id', 'month'])['sum_messages']\r\n",
    "    .sum()\r\n",
    "    .reset_index()\r\n",
    ") # группирую messages_data по столбцам 'user_id', 'month' с суммированием 'sum_messages'\r\n",
    "data_2 = (\r\n",
    "    internet_data\r\n",
    "    .groupby(['user_id', 'month'])['mb_used']\r\n",
    "    .sum()\r\n",
    "    .reset_index()\r\n",
    ") # группирую internet_data по столбцам 'user_id', 'month' с суммированием 'mb_used'\r\n",
    "\r\n",
    "data_merge = users_data.merge(data_2, on='user_id', how='outer')                      # объединение таблиц users_data и data по столбцу 'user_id'\r\n",
    "data_merge = data_merge.merge(data, on=['user_id', 'month'], how='outer')             # объединение таблиц data_merge и data_1 по столбцам 'user_id', 'month'\r\n",
    "data_merge = data_merge.merge(data_1, on=['user_id', 'month'], how='outer')           # объединение таблиц data_merge и data_2 по столбцам 'user_id', 'month'\r\n",
    "data_merge = data_merge.merge(tariffs_data, left_on='tariff', right_on='tariff_name') # объединение таблиц data_merge и tariffs_data по столбцам 'tariff', 'tariff_name'\r\n",
    "\r\n",
    "data_merge[['duration', 'sum_calls', 'sum_messages', 'mb_used']] = data_merge[['duration', 'sum_calls', 'sum_messages', 'mb_used']].fillna(0)\r\n",
    "# заменил NaN на 0 в определённых столбцах\r\n",
    "data_merge = data_merge[data_merge['month'].notna()] # удалил NaN из month\r\n",
    "data_merge.info()"
   ],
   "outputs": [
    {
     "output_type": "stream",
     "name": "stdout",
     "text": [
      "<class 'pandas.core.frame.DataFrame'>\n",
      "Int64Index: 3201 entries, 0 to 3203\n",
      "Data columns (total 21 columns):\n",
      "user_id                  3201 non-null int64\n",
      "age                      3201 non-null float64\n",
      "churn_date               186 non-null object\n",
      "city                     3201 non-null object\n",
      "first_name               3201 non-null object\n",
      "last_name                3201 non-null object\n",
      "reg_date                 3201 non-null datetime64[ns]\n",
      "tariff                   3201 non-null object\n",
      "month                    3201 non-null float64\n",
      "mb_used                  3201 non-null float64\n",
      "duration                 3201 non-null float64\n",
      "sum_calls                3201 non-null float64\n",
      "sum_messages             3201 non-null float64\n",
      "messages_included        3201 non-null int64\n",
      "mb_per_month_included    3201 non-null int64\n",
      "minutes_included         3201 non-null int64\n",
      "rub_monthly_fee          3201 non-null int64\n",
      "rub_per_gb               3201 non-null int64\n",
      "rub_per_message          3201 non-null int64\n",
      "rub_per_minute           3201 non-null int64\n",
      "tariff_name              3201 non-null object\n",
      "dtypes: datetime64[ns](1), float64(6), int64(8), object(6)\n",
      "memory usage: 550.2+ KB\n"
     ]
    }
   ],
   "metadata": {}
  },
  {
   "cell_type": "code",
   "execution_count": 10,
   "source": [
    "\r\n",
    "\r\n",
    "def func(rub_monthly_fee, \r\n",
    "         duration, \r\n",
    "         minutes_included, \r\n",
    "         rub_per_minute,\r\n",
    "         sum_messages,\r\n",
    "         messages_included,\r\n",
    "         rub_per_message,\r\n",
    "         mb_used,\r\n",
    "         mb_per_month_included,\r\n",
    "         rub_per_gb):\r\n",
    "    \r\n",
    "    \"\"\"\r\n",
    "    функция для подсчета суммы, \r\n",
    "    потраченной каждым абонентом \r\n",
    "    за каждый месяц пользования услугами компании\r\n",
    "    \"\"\"\r\n",
    "    \r\n",
    "    summ = 0\r\n",
    "    summ += rub_monthly_fee\r\n",
    "    if duration > minutes_included:\r\n",
    "        summ += (duration - minutes_included) * rub_per_minute\r\n",
    "    else:\r\n",
    "        summ += 0\r\n",
    "    if sum_messages > messages_included:\r\n",
    "        summ += (sum_messages - messages_included) * rub_per_message\r\n",
    "    else:\r\n",
    "        summ += 0\r\n",
    "    if mb_used > mb_per_month_included:\r\n",
    "        summ += math.ceil((mb_used - mb_per_month_included) / 1024) * rub_per_gb\r\n",
    "    else:\r\n",
    "        summ += 0    \r\n",
    "    return summ\r\n",
    "\r\n",
    "data_merge['monthly_profit_per_user'] = (\r\n",
    "    data_merge\r\n",
    "    .apply(lambda row: func(\r\n",
    "        row['rub_monthly_fee'], \r\n",
    "        row['duration'], \r\n",
    "        row['minutes_included'], \r\n",
    "        row['rub_per_minute'],\r\n",
    "        row['sum_messages'],\r\n",
    "        row['messages_included'],\r\n",
    "        row['rub_per_message'],\r\n",
    "        row['mb_used'],\r\n",
    "        row['mb_per_month_included'],\r\n",
    "        row['rub_per_gb']), axis=1))"
   ],
   "outputs": [],
   "metadata": {}
  },
  {
   "cell_type": "code",
   "execution_count": 6,
   "source": [
    "print(f'Количество клиентов: {data_merge.user_id.nunique()}')"
   ],
   "outputs": [
    {
     "output_type": "stream",
     "name": "stdout",
     "text": [
      "Количество клиентов: 497\n"
     ]
    }
   ],
   "metadata": {}
  },
  {
   "cell_type": "markdown",
   "source": [
    "<div class=\"alert alert-success\">\n",
    "<b>Комментарий ревьюера:</b>\n",
    "\n",
    "Выручка посчитана верно.\n",
    "</div>"
   ],
   "metadata": {}
  },
  {
   "cell_type": "code",
   "execution_count": 7,
   "source": [
    "data_merge['monthly_profit_per_user'].describe()"
   ],
   "outputs": [
    {
     "output_type": "execute_result",
     "data": {
      "text/plain": [
       "count    3201.000000\n",
       "mean     1531.771634\n",
       "std       800.523058\n",
       "min       550.000000\n",
       "25%       750.000000\n",
       "50%      1655.000000\n",
       "75%      1950.000000\n",
       "max      6770.000000\n",
       "Name: monthly_profit_per_user, dtype: float64"
      ]
     },
     "metadata": {},
     "execution_count": 7
    }
   ],
   "metadata": {}
  },
  {
   "cell_type": "markdown",
   "source": [
    "### Вывод:"
   ],
   "metadata": {}
  },
  {
   "cell_type": "markdown",
   "source": [
    "1. Округлил значения столбцов `\"duration\"` и `\"mb_used\"`.\n",
    "2. Заменил типы данных для столбцов `'call_date', 'reg_date', 'message_date', 'session_date'`\n",
    "3. Удалил столбец `'Unnamed: 0'`.\n",
    "4. Решил проверить столбцы `calls_data['duration']` и `internet_data['mb_used']` на выбросы.\n",
    "По гистограммам видно, что распределение данных в обоих случаях стремится к нормальному, но есть большие выбросы на `0` - около `40 тыс` для звонков и более `20 тыс` для интернет трафика.\n",
    "Стал исследовать все `'user_id'`, где значения равны `0` и обнаружил, что пользователи, которые чаще всего звонят или выходят в интернет и имеют больше всего `0`.\n",
    "В итоге принял решение, что из `internet_data` можно удалить все 0 значения, так как пользователи выходят в интернет не раз и не два за день и даже если группировать по дням, то в итоге нулевых значений почти не останется, а по месяцам и тем более.\n",
    "Из `calls_data` не стал удалять 0 по причине наличия столбца `sum_calls`. Вцелом удаление не повлияет на помесячную выручку с пользователей, но столбец `sum_calls` сильно изменится, так как удалится пятая часть данных.\n",
    "\n",
    "5. Добавил `calls_data['month']`, `messages_data['month']`, `internet_data['month']` - столбцы с номерами месяцев.\n",
    "6. Добавил `calls_data['sum_calls']`, `messages_data['sum_messages']` - столбцы, по которым можно посчитать количество сообщений и звонков для каждого пользователя за месяц.\n",
    "7. Сгруппировал `calls_data, messages_data, internet_data`.\n",
    "8. Объединил все таблицы в одну `data_merge`.\n",
    "9. Посчитал с помощью функции `помесячную выручку с каждого пользователя`.\n"
   ],
   "metadata": {}
  },
  {
   "cell_type": "markdown",
   "source": [
    "### Шаг 3. Проанализируйте данные"
   ],
   "metadata": {}
  },
  {
   "cell_type": "markdown",
   "source": [
    "Опишите поведение клиентов оператора, исходя из выборки. Сколько минут разговора, сколько сообщений и какой объём интернет-трафика требуется пользователям каждого тарифа в месяц? Посчитайте среднее количество, дисперсию и стандартное отклонение. Постройте гистограммы. Опишите распределения."
   ],
   "metadata": {}
  },
  {
   "cell_type": "code",
   "execution_count": 20,
   "source": [
    "data_filt_ultra = data_merge.query('tariff == \"ultra\"') # фильтрую data_merge по значениям \"ultra\"\r\n",
    "\r\n",
    "data_filt_ultra['duration'].hist(bins=100) # гистограмма для звонков\r\n",
    "plt.xlabel('duration')\r\n",
    "plt.ylabel(\"кол-во звонков\")\r\n",
    "plt.suptitle(\"Отношение длительности к звонка к частоте встречаемости для ultra\")\r\n",
    "plt.show()\r\n",
    "print('Для звонков тарифа ultra: среднее: {0}, дисперсия: {1}, стандартное отклонение: {2}, правило трёх сигм: {3}'.format(data_filt_ultra['duration'].mean(), data_filt_ultra['duration'].var(ddof=1), data_filt_ultra['duration'].std(ddof=1), data_filt_ultra['duration'].mean()+3*data_filt_ultra['duration'].std(ddof=1)))\r\n",
    "\r\n",
    "data_filt_ultra['mb_used'].hist(bins=100) # гистограмма для потраченных мегабайт\r\n",
    "plt.xlabel('mb_used')\r\n",
    "plt.ylabel(\"кол-во интернет-трафика\")\r\n",
    "plt.suptitle(\"Отношение потраченных mb к частоте встречаемости для ultra\")\r\n",
    "plt.show()\r\n",
    "print('Для интернет-трафика тарифа ultra: среднее: {0}, дисперсия: {1}, стандартное отклонение: {2}, правило трёх сигм: {3}'.format(data_filt_ultra['mb_used'].mean(), data_filt_ultra['mb_used'].var(ddof=1), data_filt_ultra['mb_used'].std(ddof=1), data_filt_ultra['mb_used'].mean()+3*data_filt_ultra['mb_used'].std(ddof=1)))\r\n",
    "\r\n",
    "data_filt_ultra['sum_messages'].hist(bins=100) # гистограмма для сообщений\r\n",
    "plt.xlabel('sum_messages')\r\n",
    "plt.ylabel(\"кол-во сообщений\")\r\n",
    "plt.suptitle(\"Отношение потраченных sms к частоте встречаемости для ultra\")\r\n",
    "plt.show()\r\n",
    "print('Для сообщений тарифа ultra: среднее: {0}, дисперсия: {1}, стандартное отклонение: {2}, правило трёх сигм: {3}'.format(data_filt_ultra['sum_messages'].mean(), data_filt_ultra['sum_messages'].var(ddof=1), data_filt_ultra['sum_messages'].std(ddof=1), data_filt_ultra['sum_messages'].mean()+3*data_filt_ultra['sum_messages'].std(ddof=1)))\r\n",
    "\r\n",
    "data_filt_ultra['monthly_profit_per_user'].hist(bins=100)                         # строю гистограмму\r\n",
    "plt.xlabel('monthly_profit_per_user')\r\n",
    "plt.ylabel(\"кол-во платежей\")\r\n",
    "plt.suptitle(\"Отношение стоимости платежа к частоте встречаемости для ultra\")\r\n",
    "plt.show()\r\n",
    "display(data_filt_ultra['monthly_profit_per_user'].describe())                    # вывод общей информации о таблице\r\n",
    "print('Дисперсия равна:', data_filt_ultra['monthly_profit_per_user'].var(ddof=1)) # расчет дисперсии\r\n",
    "\r\n",
    "\r\n",
    "data_filt_smart = data_merge.query('tariff == \"smart\"') # фильтрую data_merge по значениям \"smart\"\r\n",
    "\r\n",
    "data_filt_smart['duration'].hist(bins=100) # гистограмма для звонков\r\n",
    "plt.xlabel('duration')\r\n",
    "plt.ylabel(\"кол-во звонков\")\r\n",
    "plt.suptitle(\"Отношение длительности к звонка к частоте встречаемости для smart\")\r\n",
    "plt.show()\r\n",
    "print('Для звонков тарифа smart: среднее: {0}, дисперсия: {1}, стандартное отклонение: {2}, правило трёх сигм: {3}'.format(data_filt_smart['duration'].mean(), data_filt_smart['duration'].var(ddof=1), data_filt_smart['duration'].std(ddof=1), data_filt_smart['duration'].mean()+3*data_filt_smart['duration'].std(ddof=1)))\r\n",
    "\r\n",
    "data_filt_smart['mb_used'].hist(bins=100) # гистограмма для потраченных мегабайт\r\n",
    "plt.xlabel('mb_used')\r\n",
    "plt.ylabel(\"кол-во интернет-трафика\")\r\n",
    "plt.suptitle(\"Отношение потраченных mb к частоте встречаемости для smart\")\r\n",
    "plt.show()\r\n",
    "print('Для интернет-трафика тарифа smart: среднее: {0}, дисперсия: {1}, стандартное отклонение: {2}, правило трёх сигм: {3}'.format(data_filt_smart['mb_used'].mean(), data_filt_smart['mb_used'].var(ddof=1), data_filt_smart['mb_used'].std(ddof=1), data_filt_smart['mb_used'].mean()+3*data_filt_smart['mb_used'].std(ddof=1)))\r\n",
    "\r\n",
    "data_filt_smart['sum_messages'].hist(bins=100) # гистограмма для сообщений\r\n",
    "plt.xlabel('sum_messages')\r\n",
    "plt.ylabel(\"кол-во сообщений\")\r\n",
    "plt.suptitle(\"Отношение потраченных sms к частоте встречаемости для smart\")\r\n",
    "plt.show()\r\n",
    "print('Для сообщений тарифа smart: среднее: {0}, дисперсия: {1}, стандартное отклонение: {2}, правило трёх сигм: {3}'.format(data_filt_smart['sum_messages'].mean(), data_filt_smart['sum_messages'].var(ddof=1), data_filt_smart['sum_messages'].std(ddof=1), data_filt_smart['sum_messages'].mean()+3*data_filt_smart['sum_messages'].std(ddof=1)))\r\n",
    "\r\n",
    "data_filt_smart['monthly_profit_per_user'].hist(bins=100)                         # строю гистограмму\r\n",
    "plt.xlabel('monthly_profit_per_user')\r\n",
    "plt.ylabel(\"кол-во платежей\")\r\n",
    "plt.suptitle(\"Отношение стоимости платежа к частоте встречаемости для smart\")\r\n",
    "plt.show()\r\n",
    "display(data_filt_smart['monthly_profit_per_user'].describe())                    # вывод общей информации о таблице\r\n",
    "print('Дисперсия равна:', data_filt_smart['monthly_profit_per_user'].var(ddof=1)) # расчет дисперсии"
   ],
   "outputs": [
    {
     "output_type": "display_data",
     "data": {
      "text/plain": [
       "<Figure size 432x288 with 1 Axes>"
      ],
      "image/png": "[encoded data removed]"
     },
     "metadata": {
      "needs_background": "light"
     }
    },
    {
     "output_type": "stream",
     "name": "stdout",
     "text": [
      "Для звонков тарифа ultra: среднее: 530.1837782340863, дисперсия: 100803.63628334647, стандартное отклонение: 317.49588388410086, правило трёх сигм: 1482.671429886389\n"
     ]
    },
    {
     "output_type": "display_data",
     "data": {
      "text/plain": [
       "<Figure size 432x288 with 1 Axes>"
      ],
      "image/png": "[encoded data removed]"
     },
     "metadata": {
      "needs_background": "light"
     }
    },
    {
     "output_type": "stream",
     "name": "stdout",
     "text": [
      "Для интернет-трафика тарифа ultra: среднее: 19706.979466119097, дисперсия: 98746498.93277423, стандартное отклонение: 9937.127297804644, правило трёх сигм: 49518.361359533024\n"
     ]
    },
    {
     "output_type": "display_data",
     "data": {
      "text/plain": [
       "<Figure size 432x288 with 1 Axes>"
      ],
      "image/png": "[encoded data removed]"
     },
     "metadata": {
      "needs_background": "light"
     }
    },
    {
     "output_type": "stream",
     "name": "stdout",
     "text": [
      "Для сообщений тарифа ultra: среднее: 49.63347022587269, дисперсия: 2302.0577069585165, стандартное отклонение: 47.979763515033255, правило трёх сигм: 193.57276077097245\n"
     ]
    },
    {
     "output_type": "display_data",
     "data": {
      "text/plain": [
       "<Figure size 432x288 with 1 Axes>"
      ],
      "image/png": "[encoded data removed]"
     },
     "metadata": {
      "needs_background": "light"
     }
    },
    {
     "output_type": "display_data",
     "data": {
      "text/plain": [
       "count     974.000000\n",
       "mean     2072.433265\n",
       "std       380.717575\n",
       "min      1950.000000\n",
       "25%      1950.000000\n",
       "50%      1950.000000\n",
       "75%      1950.000000\n",
       "max      4800.000000\n",
       "Name: monthly_profit_per_user, dtype: float64"
      ]
     },
     "metadata": {}
    },
    {
     "output_type": "stream",
     "name": "stdout",
     "text": [
      "Дисперсия равна: 144945.87169806537\n"
     ]
    },
    {
     "output_type": "display_data",
     "data": {
      "text/plain": [
       "<Figure size 432x288 with 1 Axes>"
      ],
      "image/png": "[encoded data removed]"
     },
     "metadata": {
      "needs_background": "light"
     }
    },
    {
     "output_type": "stream",
     "name": "stdout",
     "text": [
      "Для звонков тарифа smart: среднее: 418.26852267624605, дисперсия: 36127.77871672938, стандартное отклонение: 190.07308782868074, правило трёх сигм: 988.4877861622883\n"
     ]
    },
    {
     "output_type": "display_data",
     "data": {
      "text/plain": [
       "<Figure size 432x288 with 1 Axes>"
      ],
      "image/png": "[encoded data removed]"
     },
     "metadata": {
      "needs_background": "light"
     }
    },
    {
     "output_type": "stream",
     "name": "stdout",
     "text": [
      "Для интернет-трафика тарифа smart: среднее: 16243.763358778626, дисперсия: 34340091.55358943, стандартное отклонение: 5860.041941282454, правило трёх сигм: 33823.889182625986\n"
     ]
    },
    {
     "output_type": "display_data",
     "data": {
      "text/plain": [
       "<Figure size 432x288 with 1 Axes>"
      ],
      "image/png": "[encoded data removed]"
     },
     "metadata": {
      "needs_background": "light"
     }
    },
    {
     "output_type": "stream",
     "name": "stdout",
     "text": [
      "Для сообщений тарифа smart: среднее: 33.41311180960934, дисперсия: 796.5857758918057, стандартное отклонение: 28.223851188167178, правило трёх сигм: 118.08466537411087\n"
     ]
    },
    {
     "output_type": "display_data",
     "data": {
      "text/plain": [
       "<Figure size 432x288 with 1 Axes>"
      ],
      "image/png": "[encoded data removed]"
     },
     "metadata": {
      "needs_background": "light"
     }
    },
    {
     "output_type": "display_data",
     "data": {
      "text/plain": [
       "count    2227.000000\n",
       "mean     1295.308038\n",
       "std       820.998289\n",
       "min       550.000000\n",
       "25%       550.000000\n",
       "50%      1039.000000\n",
       "75%      1750.000000\n",
       "max      6770.000000\n",
       "Name: monthly_profit_per_user, dtype: float64"
      ]
     },
     "metadata": {}
    },
    {
     "output_type": "stream",
     "name": "stdout",
     "text": [
      "Дисперсия равна: 674038.1907844227\n"
     ]
    }
   ],
   "metadata": {}
  },
  {
   "cell_type": "markdown",
   "source": [
    "### Вывод:"
   ],
   "metadata": {}
  },
  {
   "cell_type": "markdown",
   "source": [
    "* Для тарифа ultra:\n",
    "    * Гистограмма звонков стремится к нормальному распределению, имеет положительную скошенность.\n",
    "    * среднее - 530 минут разговора, стандартное отклонение - 317, по правилу трёх сигм получаем, что 99% пользователей достаточно 1482 минуты на звонки в месяц.\n",
    "    * Гистограмма использованных мегабайт имеет нормальное распределение значений.\n",
    "    * Среднее - 19706 мб, стандартное отклонение - 9937, по правилу трёх сигм получаем, что 99% пользователей достаточно 49518 мб интернет-трафика в месяц.\n",
    "    * Гистограмма сообщений имеет распределение Пуассона.\n",
    "    * Среднее - 49, стандартное отклонение - 47, по правилу трёх сигм получаем, что 99% пользователей достаточно 193 сообщения в месяц.\n",
    "    * На последней гистограмме видно, что более 800 ежемесячных платежей из 974 равны платежу по тарифу и не больше, но есть и люди, которым не хватает минут, мегабайт или сообщений и такие люди раскошеливаются вплоть до 4800р за месяц, но их очень мало.\n",
    "    \n",
    "* Для тарифа smart:\n",
    "    * Гистограмма звонков стремится к нормальному распределению.\n",
    "    * среднее - 418 минут разговора, стандартное отклонение - 190, по правилу трёх сигм получаем, что 99% пользователей достаточно 988 минут на звонки в месяц.\n",
    "    * Гистограмма использованных мегабайт имеет нормальное распределение значений.\n",
    "    * Среднее - 16243 мб, стандартное отклонение - 5860, по правилу трёх сигм получаем, что 99% пользователей достаточно 33823 мб интернет-трафика в месяц.\n",
    "    * Гистограмма сообщений имеет распределение Пуассона.\n",
    "    * Среднее - 33, стандартное отклонение - 28, по правилу трёх сигм получаем, что 99% пользователей достаточно 118 сообщений в месяц.\n",
    "    * На последней гистограмме видно, что около 650 ежемесячных платежей из 2227 равны платежу по тарифу и не больше, но есть и люди, которым не хватает минут, мегабайт или сообщений и такие люди раскошеливаются вплоть до 6770р за месяц, но их очень мало.\n",
    "\n",
    "    \n",
    "Подводя итоги по двум выборкам видно, что пользователи тарифа ultra наиболее верно выбрали для себя тариф и благодаря этому не переплачивают.\n",
    "    \n",
    "А вот пользователям тарифа smart всё время либо нужно идти на компромисс, либо раскошеливаться, т.к. среднее по интернету уже не укладывается в рамки тарифа (15360 мб), тоесть всем пользователям, чьи месячные платежи на графике находятся в интервале от 1950р до 6770р однозначно стоит задуматься о смене тарифа, а таких платежей приблизительно 1/4 часть."
   ],
   "metadata": {}
  },
  {
   "cell_type": "markdown",
   "source": [
    "### Шаг 4. Проверьте гипотезы\n",
    "* средняя выручка пользователей тарифов «Ультра» и «Смарт» различается;\n",
    "* средняя выручка пользователей из Москвы отличается от выручки пользователей из других регионов;\n",
    "* Пороговое значение alpha задайте самостоятельно.\n",
    "\n",
    "\n",
    "* Поясните:\n",
    "  1. как вы формулировали нулевую и альтернативную гипотезы;\n",
    "  2. какой критерий использовали для проверки гипотез и почему."
   ],
   "metadata": {}
  },
  {
   "cell_type": "code",
   "execution_count": 19,
   "source": [
    "data_filt_ultra['monthly_profit_per_user'].hist(bins=100)                         # строю гистограмму\r\n",
    "plt.xlabel('monthly_profit_per_user')\r\n",
    "plt.ylabel(\"кол-во платежей\")\r\n",
    "plt.suptitle(\"Отношение стоимости платежа к частоте встречаемости для ultra\")\r\n",
    "plt.show()\r\n",
    "display(data_filt_ultra['monthly_profit_per_user'].describe())                    # вывод общей информации о таблице\r\n",
    "print('Дисперсия равна:', data_filt_ultra['monthly_profit_per_user'].var(ddof=1)) # расчет дисперсии\r\n",
    "data_filt_smart['monthly_profit_per_user'].hist(bins=100)                         # строю гистограмму\r\n",
    "plt.xlabel('monthly_profit_per_user')\r\n",
    "plt.ylabel(\"кол-во платежей\")\r\n",
    "plt.suptitle(\"Отношение стоимости платежа к частоте встречаемости для smart\")\r\n",
    "plt.show()\r\n",
    "display(data_filt_smart['monthly_profit_per_user'].describe())                    # вывод общей информации о таблице\r\n",
    "print('Дисперсия равна:', data_filt_smart['monthly_profit_per_user'].var(ddof=1)) # расчет дисперсии\r\n",
    "\r\n",
    "\r\n",
    "alpha = .01\r\n",
    "results = st.ttest_ind(\r\n",
    "    data_filt_ultra['monthly_profit_per_user'],\r\n",
    "    data_filt_smart['monthly_profit_per_user']\r\n",
    ")\r\n",
    "\r\n",
    "print('р-значение:', results.pvalue)\r\n",
    "if results.pvalue < alpha:\r\n",
    "    print(\"Отвергаем нулевую гипотезу\")\r\n",
    "else:\r\n",
    "    print(\"Не получилось отвергнуть нулевую гипотезу\")\r\n",
    "    \r\n",
    "data_filt_moscow = data_merge.query('city == \"Москва\"')\r\n",
    "data_filt_noMoscow = data_merge.query('city != \"Москва\"')\r\n",
    "\r\n",
    "data_filt_moscow['monthly_profit_per_user'].hist(bins=100)                         # строю гистограмму\r\n",
    "plt.xlabel('monthly_profit_per_user')\r\n",
    "plt.ylabel(\"кол-во платежей\")\r\n",
    "plt.suptitle(\"Отношение стоимости платежа к частоте встречаемости для Москвы\")\r\n",
    "plt.show()\r\n",
    "display(data_filt_moscow['monthly_profit_per_user'].describe())                    # вывод общей информации о таблице\r\n",
    "print('Дисперсия равна:', data_filt_moscow['monthly_profit_per_user'].var(ddof=1)) # расчет дисперсии\r\n",
    "data_filt_noMoscow['monthly_profit_per_user'].hist(bins=100)                         # строю гистограмму\r\n",
    "plt.xlabel('monthly_profit_per_user')\r\n",
    "plt.ylabel(\"кол-во платежей\")\r\n",
    "plt.suptitle(\"Отношение стоимости платежа к частоте встречаемости для регионов\")\r\n",
    "plt.show()\r\n",
    "display(data_filt_noMoscow['monthly_profit_per_user'].describe())                    # вывод общей информации о таблице\r\n",
    "print('Дисперсия равна:', data_filt_noMoscow['monthly_profit_per_user'].var(ddof=1)) # расчет дисперсии    \r\n",
    "    \r\n",
    "alpha = .05\r\n",
    "results = st.ttest_ind(\r\n",
    "    data_merge.query('city == \"Москва\"')['monthly_profit_per_user'],\r\n",
    "    data_merge.query('city != \"Москва\"')['monthly_profit_per_user']\r\n",
    ")\r\n",
    "\r\n",
    "print('р-значение:', results.pvalue)\r\n",
    "if results.pvalue < alpha:\r\n",
    "    print(\"Отвергаем нулевую гипотезу\")\r\n",
    "else:\r\n",
    "    print(\"Не получилось отвергнуть нулевую гипотезу\")\r\n",
    "    "
   ],
   "outputs": [
    {
     "output_type": "display_data",
     "data": {
      "text/plain": [
       "<Figure size 432x288 with 1 Axes>"
      ],
      "image/png": "[encoded data removed]"
     },
     "metadata": {
      "needs_background": "light"
     }
    },
    {
     "output_type": "display_data",
     "data": {
      "text/plain": [
       "count     974.000000\n",
       "mean     2072.433265\n",
       "std       380.717575\n",
       "min      1950.000000\n",
       "25%      1950.000000\n",
       "50%      1950.000000\n",
       "75%      1950.000000\n",
       "max      4800.000000\n",
       "Name: monthly_profit_per_user, dtype: float64"
      ]
     },
     "metadata": {}
    },
    {
     "output_type": "stream",
     "name": "stdout",
     "text": [
      "Дисперсия равна: 144945.87169806537\n"
     ]
    },
    {
     "output_type": "display_data",
     "data": {
      "text/plain": [
       "<Figure size 432x288 with 1 Axes>"
      ],
      "image/png": "[encoded data removed]"
     },
     "metadata": {
      "needs_background": "light"
     }
    },
    {
     "output_type": "display_data",
     "data": {
      "text/plain": [
       "count    2227.000000\n",
       "mean     1295.308038\n",
       "std       820.998289\n",
       "min       550.000000\n",
       "25%       550.000000\n",
       "50%      1039.000000\n",
       "75%      1750.000000\n",
       "max      6770.000000\n",
       "Name: monthly_profit_per_user, dtype: float64"
      ]
     },
     "metadata": {}
    },
    {
     "output_type": "stream",
     "name": "stdout",
     "text": [
      "Дисперсия равна: 674038.1907844227\n",
      "р-значение: 7.438270645731764e-157\n",
      "Отвергаем нулевую гипотезу\n"
     ]
    },
    {
     "output_type": "display_data",
     "data": {
      "text/plain": [
       "<Figure size 432x288 with 1 Axes>"
      ],
      "image/png": "[encoded data removed]"
     },
     "metadata": {
      "needs_background": "light"
     }
    },
    {
     "output_type": "display_data",
     "data": {
      "text/plain": [
       "count     611.000000\n",
       "mean     1550.805237\n",
       "std       752.451347\n",
       "min       550.000000\n",
       "25%       798.000000\n",
       "50%      1750.000000\n",
       "75%      1950.000000\n",
       "max      5321.000000\n",
       "Name: monthly_profit_per_user, dtype: float64"
      ]
     },
     "metadata": {}
    },
    {
     "output_type": "stream",
     "name": "stdout",
     "text": [
      "Дисперсия равна: 566183.0292184273\n"
     ]
    },
    {
     "output_type": "display_data",
     "data": {
      "text/plain": [
       "<Figure size 432x288 with 1 Axes>"
      ],
      "image/png": "[encoded data removed]"
     },
     "metadata": {
      "needs_background": "light"
     }
    },
    {
     "output_type": "display_data",
     "data": {
      "text/plain": [
       "count    2590.000000\n",
       "mean     1527.281467\n",
       "std       811.522303\n",
       "min       550.000000\n",
       "25%       750.000000\n",
       "50%      1576.500000\n",
       "75%      1950.000000\n",
       "max      6770.000000\n",
       "Name: monthly_profit_per_user, dtype: float64"
      ]
     },
     "metadata": {}
    },
    {
     "output_type": "stream",
     "name": "stdout",
     "text": [
      "Дисперсия равна: 658568.4487487157\n",
      "р-значение: 0.5136009483199212\n",
      "Не получилось отвергнуть нулевую гипотезу\n"
     ]
    }
   ],
   "metadata": {}
  },
  {
   "cell_type": "markdown",
   "source": [
    "### Вывод:"
   ],
   "metadata": {}
  },
  {
   "cell_type": "markdown",
   "source": [
    "* H0 в 1 случае означает, что средняя выручка пользователей тарифов «Ультра» и «Смарт» НЕ различается\n",
    "* Н1 в 1 случае означает, что средняя выручка пользователей тарифов «Ультра» и «Смарт» различается\n",
    "    \n",
    "    \n",
    "* H0 во 2 случае означает, что средняя выручка пользователей из Москвы НЕ отличается от выручки пользователей из других регионов\n",
    "* Н1 во 2 случае означает, что средняя выручка пользователей из Москвы отличается от выручки пользователей из других регионов\n",
    "    \n",
    "    \n",
    "* В обеих гипотезах я задал `alpha` отталкиваясь от значения `p-value` и исходя из общепринятых значений в `1% и 5%`, и первый раз получил отклонение нулевой гипотезы, а во второй раз не получилось отклонить нулевую гипотезу, т.к. `p-value=5,1%`, что абсолютно верно, т.к. среднее для `smart - 1295`, для `ultra - 2072`, с городами разница не существенна, но всёже отличие есть и составляет `61 рубль` в большую сторону для Москвы.\n",
    "    \n",
    "    \n",
    "* Я использовал t-критерий Стьюдента для независимых выборок, потому как я сравнивал оба раза средние из выборок, различающихся по параметрам: в первом случае по тарифу, во втором по городу. Если бы я использовал одну выборку и сравнение проводил бы с ней же, но поменяв в ней значения одного из столбцов, то в этом случае использовал бы  t-критерий Стьюдента для связанных выборок."
   ],
   "metadata": {}
  },
  {
   "cell_type": "markdown",
   "source": [
    "<div class=\"alert alert-info\">\n",
    "\n",
    "Распределение Пуассона, а оно стремится к нормальному.\n",
    "\n",
    "</div>"
   ],
   "metadata": {}
  },
  {
   "cell_type": "markdown",
   "source": [
    "### Шаг 5. Напишите общий вывод"
   ],
   "metadata": {}
  },
  {
   "cell_type": "markdown",
   "source": [
    "Задание было - определить, какой из тарифов приносит больше денег.\n",
    "    \n",
    "* Мной было установлено, что выгоднее рекламировать тариф smart т.к.:\n",
    "    * в нём уже больше месячных платежей, что говорит о расположенности людей к более бюджетному тарифу.\n",
    "    * порядка 1400 платежей больше стоимости тарифа и около 500 из них больше, чем стоит тариф ultra.\n",
    "    * максимальная плата больше на 2000р, чем в тарифе ultra.\n",
    "\n",
    "Проще говоря, люди хотят сэкономить, и 3/4 платежей действительно меньше стоимости ultra, но всёравно есть 1/4 платежей, которая больше стоимости ultra. И по количеству платежей эта самая 1/4 совсем немногим меньше всего количества платежей тарифа ultra."
   ],
   "metadata": {}
  }
 ],
 "metadata": {
  "kernelspec": {
   "display_name": "Python 3",
   "language": "python",
   "name": "python3"
  },
  "language_info": {
   "codemirror_mode": {
    "name": "ipython",
    "version": 3
   },
   "file_extension": ".py",
   "mimetype": "text/x-python",
   "name": "python",
   "nbconvert_exporter": "python",
   "pygments_lexer": "ipython3",
   "version": "3.7.8"
  },
  "toc": {
   "base_numbering": 1,
   "nav_menu": {},
   "number_sections": true,
   "sideBar": true,
   "skip_h1_title": false,
   "title_cell": "Table of Contents",
   "title_sidebar": "Contents",
   "toc_cell": false,
   "toc_position": {},
   "toc_section_display": true,
   "toc_window_display": false
  }
 },
 "nbformat": 4,
 "nbformat_minor": 2
}