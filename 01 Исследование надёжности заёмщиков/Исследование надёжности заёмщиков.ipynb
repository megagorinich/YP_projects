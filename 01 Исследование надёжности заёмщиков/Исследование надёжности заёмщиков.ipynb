{
 "cells": [
  {
   "cell_type": "markdown",
   "source": [
    "## Исследование надёжности заёмщиков\n",
    "\n",
    "Заказчик — кредитный отдел банка. Нужно разобраться, влияет ли семейное положение и количество детей клиента на факт погашения кредита в срок. Входные данные от банка — статистика о платёжеспособности клиентов.\n",
    "\n",
    "Результаты исследования будут учтены при построении модели **кредитного скоринга** — специальной системы, которая оценивает способность потенциального заёмщика вернуть кредит банку."
   ],
   "metadata": {}
  },
  {
   "cell_type": "markdown",
   "source": [
    "### Шаг 1. Откройте файл с данными и изучите общую информацию. "
   ],
   "metadata": {}
  },
  {
   "cell_type": "code",
   "execution_count": 1,
   "source": [
    "import pandas as pd\r\n",
    "solvency_statistics = pd.read_csv('/datasets/data.csv')\r\n",
    "from IPython.display import display\r\n",
    "from pymystem3 import Mystem\r\n",
    "m = Mystem()\r\n",
    "import matplotlib.pyplot as plt\r\n",
    "\r\n",
    "display(solvency_statistics)\r\n",
    "solvency_statistics.info()"
   ],
   "outputs": [
    {
     "output_type": "display_data",
     "data": {
      "text/plain": [
       "       children  days_employed  dob_years education  education_id  \\\n",
       "0             1   -8437.673028         42    высшее             0   \n",
       "1             1   -4024.803754         36   среднее             1   \n",
       "2             0   -5623.422610         33   Среднее             1   \n",
       "3             3   -4124.747207         32   среднее             1   \n",
       "4             0  340266.072047         53   среднее             1   \n",
       "...         ...            ...        ...       ...           ...   \n",
       "21520         1   -4529.316663         43   среднее             1   \n",
       "21521         0  343937.404131         67   среднее             1   \n",
       "21522         1   -2113.346888         38   среднее             1   \n",
       "21523         3   -3112.481705         38   среднее             1   \n",
       "21524         2   -1984.507589         40   среднее             1   \n",
       "\n",
       "          family_status  family_status_id gender income_type  debt  \\\n",
       "0       женат / замужем                 0      F   сотрудник     0   \n",
       "1       женат / замужем                 0      F   сотрудник     0   \n",
       "2       женат / замужем                 0      M   сотрудник     0   \n",
       "3       женат / замужем                 0      M   сотрудник     0   \n",
       "4      гражданский брак                 1      F   пенсионер     0   \n",
       "...                 ...               ...    ...         ...   ...   \n",
       "21520  гражданский брак                 1      F   компаньон     0   \n",
       "21521   женат / замужем                 0      F   пенсионер     0   \n",
       "21522  гражданский брак                 1      M   сотрудник     1   \n",
       "21523   женат / замужем                 0      M   сотрудник     1   \n",
       "21524   женат / замужем                 0      F   сотрудник     0   \n",
       "\n",
       "        total_income                       purpose  \n",
       "0      253875.639453                 покупка жилья  \n",
       "1      112080.014102       приобретение автомобиля  \n",
       "2      145885.952297                 покупка жилья  \n",
       "3      267628.550329    дополнительное образование  \n",
       "4      158616.077870               сыграть свадьбу  \n",
       "...              ...                           ...  \n",
       "21520  224791.862382             операции с жильем  \n",
       "21521  155999.806512          сделка с автомобилем  \n",
       "21522   89672.561153                  недвижимость  \n",
       "21523  244093.050500  на покупку своего автомобиля  \n",
       "21524   82047.418899         на покупку автомобиля  \n",
       "\n",
       "[21525 rows x 12 columns]"
      ],
      "text/html": [
       "<div>\n",
       "<style scoped>\n",
       "    .dataframe tbody tr th:only-of-type {\n",
       "        vertical-align: middle;\n",
       "    }\n",
       "\n",
       "    .dataframe tbody tr th {\n",
       "        vertical-align: top;\n",
       "    }\n",
       "\n",
       "    .dataframe thead th {\n",
       "        text-align: right;\n",
       "    }\n",
       "</style>\n",
       "<table border=\"1\" class=\"dataframe\">\n",
       "  <thead>\n",
       "    <tr style=\"text-align: right;\">\n",
       "      <th></th>\n",
       "      <th>children</th>\n",
       "      <th>days_employed</th>\n",
       "      <th>dob_years</th>\n",
       "      <th>education</th>\n",
       "      <th>education_id</th>\n",
       "      <th>family_status</th>\n",
       "      <th>family_status_id</th>\n",
       "      <th>gender</th>\n",
       "      <th>income_type</th>\n",
       "      <th>debt</th>\n",
       "      <th>total_income</th>\n",
       "      <th>purpose</th>\n",
       "    </tr>\n",
       "  </thead>\n",
       "  <tbody>\n",
       "    <tr>\n",
       "      <td>0</td>\n",
       "      <td>1</td>\n",
       "      <td>-8437.673028</td>\n",
       "      <td>42</td>\n",
       "      <td>высшее</td>\n",
       "      <td>0</td>\n",
       "      <td>женат / замужем</td>\n",
       "      <td>0</td>\n",
       "      <td>F</td>\n",
       "      <td>сотрудник</td>\n",
       "      <td>0</td>\n",
       "      <td>253875.639453</td>\n",
       "      <td>покупка жилья</td>\n",
       "    </tr>\n",
       "    <tr>\n",
       "      <td>1</td>\n",
       "      <td>1</td>\n",
       "      <td>-4024.803754</td>\n",
       "      <td>36</td>\n",
       "      <td>среднее</td>\n",
       "      <td>1</td>\n",
       "      <td>женат / замужем</td>\n",
       "      <td>0</td>\n",
       "      <td>F</td>\n",
       "      <td>сотрудник</td>\n",
       "      <td>0</td>\n",
       "      <td>112080.014102</td>\n",
       "      <td>приобретение автомобиля</td>\n",
       "    </tr>\n",
       "    <tr>\n",
       "      <td>2</td>\n",
       "      <td>0</td>\n",
       "      <td>-5623.422610</td>\n",
       "      <td>33</td>\n",
       "      <td>Среднее</td>\n",
       "      <td>1</td>\n",
       "      <td>женат / замужем</td>\n",
       "      <td>0</td>\n",
       "      <td>M</td>\n",
       "      <td>сотрудник</td>\n",
       "      <td>0</td>\n",
       "      <td>145885.952297</td>\n",
       "      <td>покупка жилья</td>\n",
       "    </tr>\n",
       "    <tr>\n",
       "      <td>3</td>\n",
       "      <td>3</td>\n",
       "      <td>-4124.747207</td>\n",
       "      <td>32</td>\n",
       "      <td>среднее</td>\n",
       "      <td>1</td>\n",
       "      <td>женат / замужем</td>\n",
       "      <td>0</td>\n",
       "      <td>M</td>\n",
       "      <td>сотрудник</td>\n",
       "      <td>0</td>\n",
       "      <td>267628.550329</td>\n",
       "      <td>дополнительное образование</td>\n",
       "    </tr>\n",
       "    <tr>\n",
       "      <td>4</td>\n",
       "      <td>0</td>\n",
       "      <td>340266.072047</td>\n",
       "      <td>53</td>\n",
       "      <td>среднее</td>\n",
       "      <td>1</td>\n",
       "      <td>гражданский брак</td>\n",
       "      <td>1</td>\n",
       "      <td>F</td>\n",
       "      <td>пенсионер</td>\n",
       "      <td>0</td>\n",
       "      <td>158616.077870</td>\n",
       "      <td>сыграть свадьбу</td>\n",
       "    </tr>\n",
       "    <tr>\n",
       "      <td>...</td>\n",
       "      <td>...</td>\n",
       "      <td>...</td>\n",
       "      <td>...</td>\n",
       "      <td>...</td>\n",
       "      <td>...</td>\n",
       "      <td>...</td>\n",
       "      <td>...</td>\n",
       "      <td>...</td>\n",
       "      <td>...</td>\n",
       "      <td>...</td>\n",
       "      <td>...</td>\n",
       "      <td>...</td>\n",
       "    </tr>\n",
       "    <tr>\n",
       "      <td>21520</td>\n",
       "      <td>1</td>\n",
       "      <td>-4529.316663</td>\n",
       "      <td>43</td>\n",
       "      <td>среднее</td>\n",
       "      <td>1</td>\n",
       "      <td>гражданский брак</td>\n",
       "      <td>1</td>\n",
       "      <td>F</td>\n",
       "      <td>компаньон</td>\n",
       "      <td>0</td>\n",
       "      <td>224791.862382</td>\n",
       "      <td>операции с жильем</td>\n",
       "    </tr>\n",
       "    <tr>\n",
       "      <td>21521</td>\n",
       "      <td>0</td>\n",
       "      <td>343937.404131</td>\n",
       "      <td>67</td>\n",
       "      <td>среднее</td>\n",
       "      <td>1</td>\n",
       "      <td>женат / замужем</td>\n",
       "      <td>0</td>\n",
       "      <td>F</td>\n",
       "      <td>пенсионер</td>\n",
       "      <td>0</td>\n",
       "      <td>155999.806512</td>\n",
       "      <td>сделка с автомобилем</td>\n",
       "    </tr>\n",
       "    <tr>\n",
       "      <td>21522</td>\n",
       "      <td>1</td>\n",
       "      <td>-2113.346888</td>\n",
       "      <td>38</td>\n",
       "      <td>среднее</td>\n",
       "      <td>1</td>\n",
       "      <td>гражданский брак</td>\n",
       "      <td>1</td>\n",
       "      <td>M</td>\n",
       "      <td>сотрудник</td>\n",
       "      <td>1</td>\n",
       "      <td>89672.561153</td>\n",
       "      <td>недвижимость</td>\n",
       "    </tr>\n",
       "    <tr>\n",
       "      <td>21523</td>\n",
       "      <td>3</td>\n",
       "      <td>-3112.481705</td>\n",
       "      <td>38</td>\n",
       "      <td>среднее</td>\n",
       "      <td>1</td>\n",
       "      <td>женат / замужем</td>\n",
       "      <td>0</td>\n",
       "      <td>M</td>\n",
       "      <td>сотрудник</td>\n",
       "      <td>1</td>\n",
       "      <td>244093.050500</td>\n",
       "      <td>на покупку своего автомобиля</td>\n",
       "    </tr>\n",
       "    <tr>\n",
       "      <td>21524</td>\n",
       "      <td>2</td>\n",
       "      <td>-1984.507589</td>\n",
       "      <td>40</td>\n",
       "      <td>среднее</td>\n",
       "      <td>1</td>\n",
       "      <td>женат / замужем</td>\n",
       "      <td>0</td>\n",
       "      <td>F</td>\n",
       "      <td>сотрудник</td>\n",
       "      <td>0</td>\n",
       "      <td>82047.418899</td>\n",
       "      <td>на покупку автомобиля</td>\n",
       "    </tr>\n",
       "  </tbody>\n",
       "</table>\n",
       "<p>21525 rows × 12 columns</p>\n",
       "</div>"
      ]
     },
     "metadata": {}
    },
    {
     "output_type": "stream",
     "name": "stdout",
     "text": [
      "<class 'pandas.core.frame.DataFrame'>\n",
      "RangeIndex: 21525 entries, 0 to 21524\n",
      "Data columns (total 12 columns):\n",
      "children            21525 non-null int64\n",
      "days_employed       19351 non-null float64\n",
      "dob_years           21525 non-null int64\n",
      "education           21525 non-null object\n",
      "education_id        21525 non-null int64\n",
      "family_status       21525 non-null object\n",
      "family_status_id    21525 non-null int64\n",
      "gender              21525 non-null object\n",
      "income_type         21525 non-null object\n",
      "debt                21525 non-null int64\n",
      "total_income        19351 non-null float64\n",
      "purpose             21525 non-null object\n",
      "dtypes: float64(2), int64(5), object(5)\n",
      "memory usage: 2.0+ MB\n"
     ]
    }
   ],
   "metadata": {}
  },
  {
   "cell_type": "code",
   "execution_count": 2,
   "source": [
    "print(solvency_statistics['education'].unique())"
   ],
   "outputs": [
    {
     "output_type": "stream",
     "name": "stdout",
     "text": [
      "['высшее' 'среднее' 'Среднее' 'СРЕДНЕЕ' 'ВЫСШЕЕ' 'неоконченное высшее'\n",
      " 'начальное' 'Высшее' 'НЕОКОНЧЕННОЕ ВЫСШЕЕ' 'Неоконченное высшее'\n",
      " 'НАЧАЛЬНОЕ' 'Начальное' 'Ученая степень' 'УЧЕНАЯ СТЕПЕНЬ'\n",
      " 'ученая степень']\n"
     ]
    }
   ],
   "metadata": {}
  },
  {
   "cell_type": "markdown",
   "source": [
    "### Вывод"
   ],
   "metadata": {}
  },
  {
   "cell_type": "markdown",
   "source": [
    "После открытия файла я обнаруживаю:\n",
    "\n",
    "1. пропуски в двух столбцах: **days_employed** и **total_income**\n",
    "2. повторения в столбце **purpose**\n",
    "3. отрицательные значения в столбце **days_employed**\n",
    "4. дубликаты из-за регистра в стобце **education**\n",
    "5. тип данных столбца **days_employed** необходимо заменить на целочисленный\n",
    "6. тип данных столбца **total_income** также хочется изменить на int, но ранее в курсе было неплохо сказано, что это не просто цифры, а деньги пользователей, в конкретном случае, банка, так что я ещё подумаю над необходимостью округлять."
   ],
   "metadata": {}
  },
  {
   "cell_type": "markdown",
   "source": [
    "### Шаг 2. Предобработка данных"
   ],
   "metadata": {}
  },
  {
   "cell_type": "markdown",
   "source": [
    "### Обработка пропусков"
   ],
   "metadata": {}
  },
  {
   "cell_type": "code",
   "execution_count": 3,
   "source": [
    "solvency_statistics_filter = solvency_statistics[solvency_statistics['days_employed'].isna()] # создаю новую таблицу \r\n",
    "# c отфильтрованными значениями\r\n",
    "# по столбцу 'days_employed'\r\n",
    "solvency_statistics_filter.info()"
   ],
   "outputs": [
    {
     "output_type": "stream",
     "name": "stdout",
     "text": [
      "<class 'pandas.core.frame.DataFrame'>\n",
      "Int64Index: 2174 entries, 12 to 21510\n",
      "Data columns (total 12 columns):\n",
      "children            2174 non-null int64\n",
      "days_employed       0 non-null float64\n",
      "dob_years           2174 non-null int64\n",
      "education           2174 non-null object\n",
      "education_id        2174 non-null int64\n",
      "family_status       2174 non-null object\n",
      "family_status_id    2174 non-null int64\n",
      "gender              2174 non-null object\n",
      "income_type         2174 non-null object\n",
      "debt                2174 non-null int64\n",
      "total_income        0 non-null float64\n",
      "purpose             2174 non-null object\n",
      "dtypes: float64(2), int64(5), object(5)\n",
      "memory usage: 220.8+ KB\n"
     ]
    }
   ],
   "metadata": {}
  },
  {
   "cell_type": "code",
   "execution_count": 4,
   "source": [
    "print(solvency_statistics_filter['children'].value_counts() / solvency_statistics['children'].value_counts() * 100)\r\n",
    "# % не вернувших кредит в срок для категорий столбца children"
   ],
   "outputs": [
    {
     "output_type": "stream",
     "name": "stdout",
     "text": [
      "-1      6.382979\n",
      " 0     10.170330\n",
      " 1      9.858863\n",
      " 2      9.927007\n",
      " 3     10.909091\n",
      " 4     17.073171\n",
      " 5     11.111111\n",
      " 20    11.842105\n",
      "Name: children, dtype: float64\n"
     ]
    }
   ],
   "metadata": {}
  },
  {
   "cell_type": "code",
   "execution_count": 5,
   "source": [
    "solvency_statistics.groupby('children')['debt'].mean().reset_index()"
   ],
   "outputs": [
    {
     "output_type": "execute_result",
     "data": {
      "text/plain": [
       "   children      debt\n",
       "0        -1  0.021277\n",
       "1         0  0.075129\n",
       "2         1  0.092154\n",
       "3         2  0.094404\n",
       "4         3  0.081818\n",
       "5         4  0.097561\n",
       "6         5  0.000000\n",
       "7        20  0.105263"
      ],
      "text/html": [
       "<div>\n",
       "<style scoped>\n",
       "    .dataframe tbody tr th:only-of-type {\n",
       "        vertical-align: middle;\n",
       "    }\n",
       "\n",
       "    .dataframe tbody tr th {\n",
       "        vertical-align: top;\n",
       "    }\n",
       "\n",
       "    .dataframe thead th {\n",
       "        text-align: right;\n",
       "    }\n",
       "</style>\n",
       "<table border=\"1\" class=\"dataframe\">\n",
       "  <thead>\n",
       "    <tr style=\"text-align: right;\">\n",
       "      <th></th>\n",
       "      <th>children</th>\n",
       "      <th>debt</th>\n",
       "    </tr>\n",
       "  </thead>\n",
       "  <tbody>\n",
       "    <tr>\n",
       "      <td>0</td>\n",
       "      <td>-1</td>\n",
       "      <td>0.021277</td>\n",
       "    </tr>\n",
       "    <tr>\n",
       "      <td>1</td>\n",
       "      <td>0</td>\n",
       "      <td>0.075129</td>\n",
       "    </tr>\n",
       "    <tr>\n",
       "      <td>2</td>\n",
       "      <td>1</td>\n",
       "      <td>0.092154</td>\n",
       "    </tr>\n",
       "    <tr>\n",
       "      <td>3</td>\n",
       "      <td>2</td>\n",
       "      <td>0.094404</td>\n",
       "    </tr>\n",
       "    <tr>\n",
       "      <td>4</td>\n",
       "      <td>3</td>\n",
       "      <td>0.081818</td>\n",
       "    </tr>\n",
       "    <tr>\n",
       "      <td>5</td>\n",
       "      <td>4</td>\n",
       "      <td>0.097561</td>\n",
       "    </tr>\n",
       "    <tr>\n",
       "      <td>6</td>\n",
       "      <td>5</td>\n",
       "      <td>0.000000</td>\n",
       "    </tr>\n",
       "    <tr>\n",
       "      <td>7</td>\n",
       "      <td>20</td>\n",
       "      <td>0.105263</td>\n",
       "    </tr>\n",
       "  </tbody>\n",
       "</table>\n",
       "</div>"
      ]
     },
     "metadata": {},
     "execution_count": 5
    }
   ],
   "metadata": {}
  },
  {
   "cell_type": "code",
   "execution_count": 6,
   "source": [
    "display(solvency_statistics_filter.groupby('children')['debt'].count() / \r\n",
    "solvency_statistics.groupby('children')['debt'].count() * 100)"
   ],
   "outputs": [
    {
     "output_type": "display_data",
     "data": {
      "text/plain": [
       "children\n",
       "-1      6.382979\n",
       " 0     10.170330\n",
       " 1      9.858863\n",
       " 2      9.927007\n",
       " 3     10.909091\n",
       " 4     17.073171\n",
       " 5     11.111111\n",
       " 20    11.842105\n",
       "Name: debt, dtype: float64"
      ]
     },
     "metadata": {}
    }
   ],
   "metadata": {}
  },
  {
   "cell_type": "code",
   "execution_count": 7,
   "source": [
    "print(solvency_statistics_filter['family_status'].value_counts() / solvency_statistics['family_status'].value_counts() * 100)"
   ],
   "outputs": [
    {
     "output_type": "stream",
     "name": "stdout",
     "text": [
      "женат / замужем           9.991922\n",
      "гражданский брак         10.581757\n",
      "Не женат / не замужем    10.238180\n",
      "в разводе                 9.372385\n",
      "вдовец / вдова            9.895833\n",
      "Name: family_status, dtype: float64\n"
     ]
    }
   ],
   "metadata": {}
  },
  {
   "cell_type": "code",
   "execution_count": 8,
   "source": [
    "display(solvency_statistics_filter.groupby('family_status')['debt'].count() / \r\n",
    "solvency_statistics.groupby('family_status')['debt'].count() * 100)\r\n",
    "# тоже самое, что и чуть выше, но другим способом"
   ],
   "outputs": [
    {
     "output_type": "display_data",
     "data": {
      "text/plain": [
       "family_status\n",
       "Не женат / не замужем    10.238180\n",
       "в разводе                 9.372385\n",
       "вдовец / вдова            9.895833\n",
       "гражданский брак         10.581757\n",
       "женат / замужем           9.991922\n",
       "Name: debt, dtype: float64"
      ]
     },
     "metadata": {}
    }
   ],
   "metadata": {}
  },
  {
   "cell_type": "code",
   "execution_count": 9,
   "source": [
    "solvency_statistics_filtered = solvency_statistics.dropna().reset_index(drop=True) # создаю таблицу, очищенную от пропусков.\r\n",
    "solvency_statistics_filtered.info()"
   ],
   "outputs": [
    {
     "output_type": "stream",
     "name": "stdout",
     "text": [
      "<class 'pandas.core.frame.DataFrame'>\n",
      "RangeIndex: 19351 entries, 0 to 19350\n",
      "Data columns (total 12 columns):\n",
      "children            19351 non-null int64\n",
      "days_employed       19351 non-null float64\n",
      "dob_years           19351 non-null int64\n",
      "education           19351 non-null object\n",
      "education_id        19351 non-null int64\n",
      "family_status       19351 non-null object\n",
      "family_status_id    19351 non-null int64\n",
      "gender              19351 non-null object\n",
      "income_type         19351 non-null object\n",
      "debt                19351 non-null int64\n",
      "total_income        19351 non-null float64\n",
      "purpose             19351 non-null object\n",
      "dtypes: float64(2), int64(5), object(5)\n",
      "memory usage: 1.8+ MB\n"
     ]
    }
   ],
   "metadata": {}
  },
  {
   "cell_type": "markdown",
   "source": [
    "### Вывод"
   ],
   "metadata": {}
  },
  {
   "cell_type": "markdown",
   "source": [
    "Я обнаружил пропуски в количественных переменных, нашел взаимосвязь, что пропуски в столбцах 'days_employed' и 'total_income' находятся в одних и тех же строках. Также сравнил данные, интересующих меня по заданию столбцов, в таблицах: solvency_statistics и solvency_statistics_filter и увидел, что данные в таблице solvency_statistics_filter составляют приблизительно 10% от данных solvency_statistics. Соответственно, если удалить все строки, содержащие NaN в каком-либо столбце, то общая картина происходящего не изменится. Есть конечно в данных выброс в виде 17% не вернувших деньги в срок в категории семьи с 4 детьми, но это можно рассматривать, как выброс, вызванный малым количеством данных.\n",
    "\n",
    "Я постарался найти взаимосвязь появления пропусков в зависимости от пола, кол-ва детей или образования, семейного положения, но никакой взаимосвязи выявить не удалось, соответственно, это не позволяет мне свалить всю вину на многодетную мать без образования, и я могу предположить, что пропуски вызваны системной ошибкой, так как при отправлении заявки на кредит все поля являются обязательными для заполнения, что исключает возможность, что кто-то хотел заполнить, а кому-то было лень."
   ],
   "metadata": {}
  },
  {
   "cell_type": "markdown",
   "source": [
    "### Замена типа данных"
   ],
   "metadata": {}
  },
  {
   "cell_type": "code",
   "execution_count": 10,
   "source": [
    "solvency_statistics_filtered[['days_employed', 'total_income']] = solvency_statistics_filtered[['days_employed', 'total_income']].astype('int')\r\n",
    "# меняю тип данных на int\r\n",
    "# solvency_statistics_filtered['total_income'] = solvency_statistics_filtered['total_income'].astype('int')\r\n",
    "# меняю тип данных на int\r\n",
    "solvency_statistics_filtered.info()"
   ],
   "outputs": [
    {
     "output_type": "stream",
     "name": "stdout",
     "text": [
      "<class 'pandas.core.frame.DataFrame'>\n",
      "RangeIndex: 19351 entries, 0 to 19350\n",
      "Data columns (total 12 columns):\n",
      "children            19351 non-null int64\n",
      "days_employed       19351 non-null int64\n",
      "dob_years           19351 non-null int64\n",
      "education           19351 non-null object\n",
      "education_id        19351 non-null int64\n",
      "family_status       19351 non-null object\n",
      "family_status_id    19351 non-null int64\n",
      "gender              19351 non-null object\n",
      "income_type         19351 non-null object\n",
      "debt                19351 non-null int64\n",
      "total_income        19351 non-null int64\n",
      "purpose             19351 non-null object\n",
      "dtypes: int64(7), object(5)\n",
      "memory usage: 1.8+ MB\n"
     ]
    }
   ],
   "metadata": {}
  },
  {
   "cell_type": "markdown",
   "source": [
    "### Вывод"
   ],
   "metadata": {}
  },
  {
   "cell_type": "markdown",
   "source": [
    "Поскольку данные в столбце days_employed уже имели тип float, то мне нужно было лишь воспользоваться методом astype для перевода в int.\n",
    "\n",
    "Для удобства дальнейшего использования и из-за отсутствия нужды в подсчёте копеек округляю и данные с зарплатами."
   ],
   "metadata": {}
  },
  {
   "cell_type": "markdown",
   "source": [
    "### Обработка дубликатов"
   ],
   "metadata": {}
  },
  {
   "cell_type": "code",
   "execution_count": 11,
   "source": [
    "print(solvency_statistics_filtered['education'].value_counts())"
   ],
   "outputs": [
    {
     "output_type": "stream",
     "name": "stdout",
     "text": [
      "среднее                12342\n",
      "высшее                  4222\n",
      "СРЕДНЕЕ                  705\n",
      "Среднее                  646\n",
      "неоконченное высшее      613\n",
      "ВЫСШЕЕ                   251\n",
      "Высшее                   243\n",
      "начальное                231\n",
      "Неоконченное высшее       40\n",
      "НЕОКОНЧЕННОЕ ВЫСШЕЕ       22\n",
      "НАЧАЛЬНОЕ                 16\n",
      "Начальное                 14\n",
      "ученая степень             4\n",
      "УЧЕНАЯ СТЕПЕНЬ             1\n",
      "Ученая степень             1\n",
      "Name: education, dtype: int64\n"
     ]
    }
   ],
   "metadata": {}
  },
  {
   "cell_type": "code",
   "execution_count": 12,
   "source": [
    "solvency_statistics_filtered['education'] = solvency_statistics_filtered['education'].str.lower() # приведение к нижнему регистру\r\n",
    "print(solvency_statistics_filtered['education'].value_counts())"
   ],
   "outputs": [
    {
     "output_type": "stream",
     "name": "stdout",
     "text": [
      "среднее                13693\n",
      "высшее                  4716\n",
      "неоконченное высшее      675\n",
      "начальное                261\n",
      "ученая степень             6\n",
      "Name: education, dtype: int64\n"
     ]
    }
   ],
   "metadata": {}
  },
  {
   "cell_type": "markdown",
   "source": [
    "### Вывод"
   ],
   "metadata": {}
  },
  {
   "cell_type": "markdown",
   "source": [
    "Метод str.lower() был использован по причине наличия разного регистра, чем и было вызвано дублирование.\n",
    "\n",
    "1. Причина дублирования в том, что у пользователя нет возможности просто выбрать тип образования, а необходимо его вводить вручную.\n",
    "2. Причина, что отсутствует подсказка каким регистром требуется заполнить поле.\n",
    "3. Нет проверки на регистр, которая выдавала бы ошибку пользователю.\n",
    "4. Ну а если есть поле с подсказкой, то, очевидно, тут уже ошибка самого пользователя."
   ],
   "metadata": {}
  },
  {
   "cell_type": "markdown",
   "source": [
    "### Лемматизация"
   ],
   "metadata": {}
  },
  {
   "cell_type": "code",
   "execution_count": 13,
   "source": [
    "def solvency_statistics_purpose(purpose):\r\n",
    "    \"\"\"\r\n",
    "    создаю функцию, которая лемматизирует\r\n",
    "    входные данные и записывает их\r\n",
    "    в переменную lemmas\r\n",
    "    \"\"\"\r\n",
    "    lemmas = m.lemmatize(purpose)\r\n",
    "    return lemmas\r\n",
    "\r\n",
    "solvency_statistics_filtered['purpose_lemm'] = solvency_statistics_filtered['purpose'].apply(solvency_statistics_purpose)\r\n",
    "# добавляю в датафрейм новый столбец с лемматизированными данными\r\n",
    "print(solvency_statistics_filtered['purpose_lemm'].value_counts())"
   ],
   "outputs": [
    {
     "output_type": "stream",
     "name": "stdout",
     "text": [
      "[автомобиль, \\n]                                          875\n",
      "[свадьба, \\n]                                             721\n",
      "[сыграть,  , свадьба, \\n]                                 693\n",
      "[на,  , проведение,  , свадьба, \\n]                       685\n",
      "[операция,  , с,  , недвижимость, \\n]                     615\n",
      "[покупка,  , коммерческий,  , недвижимость, \\n]           597\n",
      "[покупка,  , жилье, \\n]                                   595\n",
      "[покупка,  , жилье,  , для,  , сдача, \\n]                 588\n",
      "[жилье, \\n]                                               587\n",
      "[операция,  , с,  , коммерческий,  , недвижимость, \\n]    581\n",
      "[строительство,  , жилой,  , недвижимость, \\n]            580\n",
      "[операция,  , с,  , жилье, \\n]                            579\n",
      "[покупка,  , свой,  , жилье, \\n]                          574\n",
      "[недвижимость, \\n]                                        572\n",
      "[покупка,  , жилье,  , для,  , семья, \\n]                 570\n",
      "[строительство,  , недвижимость, \\n]                      561\n",
      "[строительство,  , собственный,  , недвижимость, \\n]      560\n",
      "[операция,  , со,  , свой,  , недвижимость, \\n]           559\n",
      "[покупка,  , недвижимость, \\n]                            552\n",
      "[покупка,  , жилой,  , недвижимость, \\n]                  546\n",
      "[ремонт,  , жилье, \\n]                                    542\n",
      "[на,  , покупка,  , свой,  , автомобиль, \\n]              452\n",
      "[на,  , покупка,  , автомобиль, \\n]                       442\n",
      "[заниматься,  , высокий,  , образование, \\n]              440\n",
      "[на,  , покупка,  , подержать,  , автомобиль, \\n]         437\n",
      "[сделка,  , с,  , подержанный,  , автомобиль, \\n]         435\n",
      "[свой,  , автомобиль, \\n]                                 428\n",
      "[приобретение,  , автомобиль, \\n]                         419\n",
      "[дополнительный,  , образование, \\n]                      414\n",
      "[высокий,  , образование, \\n]                             413\n",
      "[сделка,  , с,  , автомобиль, \\n]                         409\n",
      "[образование, \\n]                                         405\n",
      "[получение,  , дополнительный,  , образование, \\n]        396\n",
      "[получение,  , образование, \\n]                           393\n",
      "[получение,  , высокий,  , образование, \\n]               390\n",
      "[профильный,  , образование, \\n]                          389\n",
      "[заниматься,  , образование, \\n]                          357\n",
      "Name: purpose_lemm, dtype: int64\n"
     ]
    }
   ],
   "metadata": {}
  },
  {
   "cell_type": "markdown",
   "source": [
    "### Вывод"
   ],
   "metadata": {}
  },
  {
   "cell_type": "markdown",
   "source": [
    "Я сделал лемматизацию с помощью библиотеки pymystem3, создал функцию, с помощью которой лемматизировал весь столбец и записал все лемматизированные данные в новый столбец."
   ],
   "metadata": {}
  },
  {
   "cell_type": "markdown",
   "source": [
    "### Категоризация данных"
   ],
   "metadata": {}
  },
  {
   "cell_type": "code",
   "execution_count": 14,
   "source": [
    "def purpose_credit(purpose_lemm):\r\n",
    "    \"\"\"\r\n",
    "    я выбрал 5 категорий\r\n",
    "    и с помощью данной функции\r\n",
    "    подобрал в каждой строчке столбца \"цель кредита\"\r\n",
    "    свою категорию\r\n",
    "    \"\"\"\r\n",
    "    if 'автомобиль' in purpose_lemm:\r\n",
    "        return 'операции с автомобилем'\r\n",
    "    if 'жилье' in purpose_lemm or ['жилой', 'недвижимость'] in purpose_lemm:\r\n",
    "        return 'операции с жильем'\r\n",
    "    if 'образование' in purpose_lemm:\r\n",
    "        return 'получение образования'\r\n",
    "    if 'свадьба' in purpose_lemm:\r\n",
    "        return 'свадьба'\r\n",
    "    return 'операции с недвижимостью'\r\n",
    "\r\n",
    "solvency_statistics_filtered['purpose_group'] = solvency_statistics_filtered['purpose_lemm'].apply(purpose_credit)\r\n",
    "# записал данные после работы функции в новый столбец\r\n",
    "solvency_statistics_filtered = solvency_statistics_filtered.drop(['purpose_lemm'], axis=1)\r\n",
    "# удалил столбец с леммами, чтобы не было лишних данных в датафрейме\r\n",
    "print(solvency_statistics_filtered['purpose_group'].value_counts())"
   ],
   "outputs": [
    {
     "output_type": "stream",
     "name": "stdout",
     "text": [
      "операции с недвижимостью    5723\n",
      "операции с жильем           4035\n",
      "операции с автомобилем      3897\n",
      "получение образования       3597\n",
      "свадьба                     2099\n",
      "Name: purpose_group, dtype: int64\n"
     ]
    }
   ],
   "metadata": {}
  },
  {
   "cell_type": "markdown",
   "source": [
    "### Вывод"
   ],
   "metadata": {}
  },
  {
   "cell_type": "markdown",
   "source": [
    "Я сгруппировал данные по типу события, теперь в таблице стало проще ориентироваться.\n",
    "\n",
    "Можно заметить, что 3 лидирующие строчки заняты недвижимостью, жильём и автомобилями, а вот в образование люди вкладываются гораздо реже. А если было бы наоборт? Может, более высокая зп позволила бы удовлетворять потребности без кредитов, да и кредиты на свадьбы может вообще перестали бы брать?"
   ],
   "metadata": {}
  },
  {
   "cell_type": "markdown",
   "source": [
    "### Шаг 3. Ответьте на вопросы"
   ],
   "metadata": {}
  },
  {
   "cell_type": "markdown",
   "source": [
    "- Есть ли зависимость между наличием детей и возвратом кредита в срок?"
   ],
   "metadata": {}
  },
  {
   "cell_type": "code",
   "execution_count": 15,
   "source": [
    "def children_abs(children):\r\n",
    "    \"\"\"\r\n",
    "    функция для замены отрицательных\r\n",
    "    значений на положительные\r\n",
    "    \"\"\"\r\n",
    "    children = abs(children)\r\n",
    "    return children\r\n",
    "\r\n",
    "solvency_statistics_filtered['children'] = solvency_statistics_filtered['children'].apply(children_abs)\r\n",
    "# перезаписываю столбец данными, полученными на выходе функции  children_abs\r\n",
    "\r\n",
    "def column_mean(name_column):\r\n",
    "    \"\"\"\r\n",
    "    функция для рассчета \r\n",
    "    количества должников для\r\n",
    "    каждой категории столбцов\r\n",
    "    датафрейма\r\n",
    "    \"\"\"\r\n",
    "    # print(solvency_statistics_filtered.groupby(name_column)['debt'].sum()) # количество не вернувших кредит в срок\r\n",
    "    # print(solvency_statistics_filtered.groupby(name_column)['debt'].count()) # всего взяло кредит\r\n",
    "    solvency_statistics_name_column = solvency_statistics_filtered.groupby(name_column)['debt'].mean()*100 # процент должников для каждой из категорий\r\n",
    "    print(solvency_statistics_name_column)\r\n",
    "    \r\n",
    "    width = (solvency_statistics_name_column.max() - solvency_statistics_name_column.min()) / 20 \r\n",
    "    # автоподбор ширины линий гистограммы\r\n",
    "    plt.xlabel(name_column + ', %')\r\n",
    "    plt.ylabel('Кол-во категорий с n-ным % должников')\r\n",
    "    solvency_statistics_name_column.hist(width=width) # рисует гистограмму\r\n",
    "    \r\n",
    "column_mean('children')\r\n",
    "\r\n"
   ],
   "outputs": [
    {
     "output_type": "stream",
     "name": "stdout",
     "text": [
      "children\n",
      "0      7.490165\n",
      "1      9.323000\n",
      "2      9.562399\n",
      "3      7.482993\n",
      "4      8.823529\n",
      "5      0.000000\n",
      "20    11.940299\n",
      "Name: debt, dtype: float64\n"
     ]
    },
    {
     "output_type": "display_data",
     "data": {
      "text/plain": [
       "<Figure size 432x288 with 1 Axes>"
      ],
      "image/png": "[encoded data removed]"
     },
     "metadata": {
      "needs_background": "light"
     }
    }
   ],
   "metadata": {}
  },
  {
   "cell_type": "markdown",
   "source": [
    "<div class=\"alert alert-info\">\n",
    "Здесь также доработал\n",
    "</div>"
   ],
   "metadata": {}
  },
  {
   "cell_type": "code",
   "execution_count": 16,
   "source": [
    "solvency_statistics_filtered.groupby('children')['debt'].mean()"
   ],
   "outputs": [
    {
     "output_type": "execute_result",
     "data": {
      "text/plain": [
       "children\n",
       "0     0.074902\n",
       "1     0.093230\n",
       "2     0.095624\n",
       "3     0.074830\n",
       "4     0.088235\n",
       "5     0.000000\n",
       "20    0.119403\n",
       "Name: debt, dtype: float64"
      ]
     },
     "metadata": {},
     "execution_count": 16
    }
   ],
   "metadata": {
    "scrolled": true
   }
  },
  {
   "cell_type": "markdown",
   "source": [
    "### Вывод"
   ],
   "metadata": {}
  },
  {
   "cell_type": "markdown",
   "source": [
    "Определённая взаимосвязь проглядывается - с одной стороны наблюдается, что, чем больше детей, тем меньше шанс, что не выплатят в срок.\n",
    "С другой стороны это скорее от того, что чем меньше детей в семье, тем чаще берут кредиты, а процент невернувших при любом кол-ве детей всегда одинаков и составляет +-8%. Значения 0% и 12% можно рассматривать как некорректные из-за малого колличества данных.\n",
    "\n",
    "Таким образом, можно предположить, что большинство стараются разобраться с кредитами до появления первого ребенка.\n",
    "А дальше, в игру вступает маткапитал и разнообразные льготы для многодетных семей, в т.ч. и квартира от государства и смысла в кредите уже не так много."
   ],
   "metadata": {}
  },
  {
   "cell_type": "markdown",
   "source": [
    "- Есть ли зависимость между семейным положением и возвратом кредита в срок?"
   ],
   "metadata": {}
  },
  {
   "cell_type": "code",
   "execution_count": 17,
   "source": [
    "column_mean('family_status')\r\n",
    "    \r\n"
   ],
   "outputs": [
    {
     "output_type": "stream",
     "name": "stdout",
     "text": [
      "family_status\n",
      "Не женат / не замужем    10.059406\n",
      "в разводе                 7.017544\n",
      "вдовец / вдова            6.473988\n",
      "гражданский брак          9.076305\n",
      "женат / замужем           7.592210\n",
      "Name: debt, dtype: float64\n"
     ]
    },
    {
     "output_type": "display_data",
     "data": {
      "text/plain": [
       "<Figure size 432x288 with 1 Axes>"
      ],
      "image/png": "[encoded data removed]"
     },
     "metadata": {
      "needs_background": "light"
     }
    }
   ],
   "metadata": {}
  },
  {
   "cell_type": "markdown",
   "source": [
    "### Вывод"
   ],
   "metadata": {}
  },
  {
   "cell_type": "markdown",
   "source": [
    "Здесь также нет взаимосвязи между тем, что семейный статус каким то образом влият на выплату в срок, ибо невернувших в каждой категории около 6,5-10% от числа заёмщиков.\n",
    "Но зато видно, что чаще всего берут кредит уже женатые, видимо, чтобы побыстрее съехать от родителей)\n",
    "А вот реже всего берут те кто разведены или овдовели, наверно, это каким-то образом связано с психологией людей, возможно начинается депрессия и становится не до кредитов."
   ],
   "metadata": {}
  },
  {
   "cell_type": "markdown",
   "source": [
    "- Есть ли зависимость между уровнем дохода и возвратом кредита в срок?"
   ],
   "metadata": {}
  },
  {
   "cell_type": "code",
   "execution_count": 18,
   "source": [
    "def income(total_income):\r\n",
    "    \"\"\"\r\n",
    "    разбиваю весь доход\r\n",
    "    не несколько категорий\r\n",
    "    \"\"\"\r\n",
    "    if total_income <= 30000:\r\n",
    "        return '< 30000'\r\n",
    "    if 30001 <= total_income <= 50000:\r\n",
    "        return '30001 - 50000'\r\n",
    "    if 50001 <= total_income <= 70000:\r\n",
    "        return '50001 - 70000'\r\n",
    "    if 70001 <= total_income <= 100000:\r\n",
    "        return '70001 - 100000'\r\n",
    "    if 100001 <= total_income <= 150000:\r\n",
    "        return '100001 - 150000'\r\n",
    "    if 150001 <= total_income <= 200000:\r\n",
    "        return '150001 - 200000'\r\n",
    "    if 200001 <= total_income <= 500000:\r\n",
    "        return '200001 - 500000'\r\n",
    "    if 500001 <= total_income <= 700000:\r\n",
    "        return '500001 - 700000'\r\n",
    "    if 700001 <= total_income <= 1000000:\r\n",
    "        return '700001 - 1000000'\r\n",
    "    if 1000001 <= total_income <= 1200000:\r\n",
    "        return '1000001 - 1200000'\r\n",
    "    if 1200001 <= total_income <= 1500000:\r\n",
    "        return '1200001 - 1500000'\r\n",
    "    if 1500001 <= total_income <= 2000000:\r\n",
    "        return '1500000 - 2000000'\r\n",
    "    return 2265604\r\n",
    "\r\n",
    "solvency_statistics_filtered['income_rate'] = solvency_statistics_filtered['total_income'].apply(income)\r\n",
    "# добавляю новый столбец в дф с данными, обработанными функцией\r\n",
    "\r\n",
    "column_mean('income_rate')"
   ],
   "outputs": [
    {
     "output_type": "stream",
     "name": "stdout",
     "text": [
      "income_rate\n",
      "2265604              50.000000\n",
      "1000001 - 1200000     8.333333\n",
      "100001 - 150000       8.607994\n",
      "1200001 - 1500000     0.000000\n",
      "1500000 - 2000000     0.000000\n",
      "150001 - 200000       8.936377\n",
      "200001 - 500000       7.101569\n",
      "30001 - 50000         6.000000\n",
      "500001 - 700000       5.590062\n",
      "50001 - 70000         7.078040\n",
      "700001 - 1000000      8.333333\n",
      "70001 - 100000        8.464369\n",
      "< 30000               9.090909\n",
      "Name: debt, dtype: float64\n"
     ]
    },
    {
     "output_type": "display_data",
     "data": {
      "text/plain": [
       "<Figure size 432x288 with 1 Axes>"
      ],
      "image/png": "[encoded data removed]"
     },
     "metadata": {
      "needs_background": "light"
     }
    }
   ],
   "metadata": {}
  },
  {
   "cell_type": "markdown",
   "source": [
    "### Вывод"
   ],
   "metadata": {}
  },
  {
   "cell_type": "markdown",
   "source": [
    "Взаимосвязи также не обнаружено, и даже в данных по зарплате от 2млн, где из 2-ух занявших лишь 1 вернул в срок, нельзя однозначно утверждать, что таким людям не стоит давать кредиты, просто в данной генеральной выборке слишком мало данных для этой категории, и если бы в каждую категорию попало ровно по 100 наблюдений, то процент невернувших был бы в районе 6-9% для всех категорий, а это говорит мне, что сколько бы человеку не платили, он будет смотреть на что-то недоступное с его зп.\n",
    "\n",
    "Но видно, что чаще всего прибегают к кредитам те, чей доход от 70тыс до 500тыс. Тут можно предположить, что просто выборка взята по очень крупному городу с высокой средней зп. И в регионах самое большое кол-во кредитов было бы взято теми, у кого зп на уровне 30тыс."
   ],
   "metadata": {}
  },
  {
   "cell_type": "code",
   "execution_count": 19,
   "source": [
    "solvency_statistics_filtered.pivot_table(\r\n",
    "    index='income_rate',\r\n",
    "    values='debt',\r\n",
    "    aggfunc='mean'\r\n",
    ").round(2)"
   ],
   "outputs": [
    {
     "output_type": "execute_result",
     "data": {
      "text/plain": [
       "                   debt\n",
       "income_rate            \n",
       "2265604            0.50\n",
       "1000001 - 1200000  0.08\n",
       "100001 - 150000    0.09\n",
       "1200001 - 1500000  0.00\n",
       "1500000 - 2000000  0.00\n",
       "150001 - 200000    0.09\n",
       "200001 - 500000    0.07\n",
       "30001 - 50000      0.06\n",
       "500001 - 700000    0.06\n",
       "50001 - 70000      0.07\n",
       "700001 - 1000000   0.08\n",
       "70001 - 100000     0.08\n",
       "< 30000            0.09"
      ],
      "text/html": [
       "<div>\n",
       "<style scoped>\n",
       "    .dataframe tbody tr th:only-of-type {\n",
       "        vertical-align: middle;\n",
       "    }\n",
       "\n",
       "    .dataframe tbody tr th {\n",
       "        vertical-align: top;\n",
       "    }\n",
       "\n",
       "    .dataframe thead th {\n",
       "        text-align: right;\n",
       "    }\n",
       "</style>\n",
       "<table border=\"1\" class=\"dataframe\">\n",
       "  <thead>\n",
       "    <tr style=\"text-align: right;\">\n",
       "      <th></th>\n",
       "      <th>debt</th>\n",
       "    </tr>\n",
       "    <tr>\n",
       "      <th>income_rate</th>\n",
       "      <th></th>\n",
       "    </tr>\n",
       "  </thead>\n",
       "  <tbody>\n",
       "    <tr>\n",
       "      <td>2265604</td>\n",
       "      <td>0.50</td>\n",
       "    </tr>\n",
       "    <tr>\n",
       "      <td>1000001 - 1200000</td>\n",
       "      <td>0.08</td>\n",
       "    </tr>\n",
       "    <tr>\n",
       "      <td>100001 - 150000</td>\n",
       "      <td>0.09</td>\n",
       "    </tr>\n",
       "    <tr>\n",
       "      <td>1200001 - 1500000</td>\n",
       "      <td>0.00</td>\n",
       "    </tr>\n",
       "    <tr>\n",
       "      <td>1500000 - 2000000</td>\n",
       "      <td>0.00</td>\n",
       "    </tr>\n",
       "    <tr>\n",
       "      <td>150001 - 200000</td>\n",
       "      <td>0.09</td>\n",
       "    </tr>\n",
       "    <tr>\n",
       "      <td>200001 - 500000</td>\n",
       "      <td>0.07</td>\n",
       "    </tr>\n",
       "    <tr>\n",
       "      <td>30001 - 50000</td>\n",
       "      <td>0.06</td>\n",
       "    </tr>\n",
       "    <tr>\n",
       "      <td>500001 - 700000</td>\n",
       "      <td>0.06</td>\n",
       "    </tr>\n",
       "    <tr>\n",
       "      <td>50001 - 70000</td>\n",
       "      <td>0.07</td>\n",
       "    </tr>\n",
       "    <tr>\n",
       "      <td>700001 - 1000000</td>\n",
       "      <td>0.08</td>\n",
       "    </tr>\n",
       "    <tr>\n",
       "      <td>70001 - 100000</td>\n",
       "      <td>0.08</td>\n",
       "    </tr>\n",
       "    <tr>\n",
       "      <td>&lt; 30000</td>\n",
       "      <td>0.09</td>\n",
       "    </tr>\n",
       "  </tbody>\n",
       "</table>\n",
       "</div>"
      ]
     },
     "metadata": {},
     "execution_count": 19
    }
   ],
   "metadata": {}
  },
  {
   "cell_type": "markdown",
   "source": [
    "- Как разные цели кредита влияют на его возврат в срок?"
   ],
   "metadata": {}
  },
  {
   "cell_type": "code",
   "execution_count": 20,
   "source": [
    "column_mean('purpose_group')"
   ],
   "outputs": [
    {
     "output_type": "stream",
     "name": "stdout",
     "text": [
      "purpose_group\n",
      "операции с автомобилем      9.417501\n",
      "операции с жильем           6.988848\n",
      "операции с недвижимостью    7.565962\n",
      "получение образования       9.202113\n",
      "свадьба                     7.527394\n",
      "Name: debt, dtype: float64\n"
     ]
    },
    {
     "output_type": "display_data",
     "data": {
      "text/plain": [
       "<Figure size 432x288 with 1 Axes>"
      ],
      "image/png": "[encoded data removed]"
     },
     "metadata": {
      "needs_background": "light"
     }
    }
   ],
   "metadata": {}
  },
  {
   "cell_type": "markdown",
   "source": [
    "### Вывод"
   ],
   "metadata": {}
  },
  {
   "cell_type": "markdown",
   "source": [
    "Здесь также процент невернувших в срок от числа взявших в каждой категории колеблется на уровне 7-9%, что не позволяет сказать с уверенностью, что на недвижимость, жильё и свадьбы стоит давать деньги, а вот на авто и образование нет."
   ],
   "metadata": {}
  },
  {
   "cell_type": "markdown",
   "source": [
    "### Шаг 4. Общий вывод"
   ],
   "metadata": {}
  },
  {
   "cell_type": "code",
   "execution_count": 21,
   "source": [
    "def days_employed_abs(days_employed):\r\n",
    "    \"\"\"\r\n",
    "    функция для замены отрицательных\r\n",
    "    значений на положительные\r\n",
    "    \"\"\"\r\n",
    "    days_employed = abs(days_employed)\r\n",
    "    return days_employed\r\n",
    "solvency_statistics_filtered['days_employed'] = solvency_statistics_filtered['days_employed'].apply(days_employed_abs)\r\n",
    "# перезаписываю столбец данными, полученными на выходе функции  days_employed_abs\r\n",
    "print(solvency_statistics_filtered['days_employed'])"
   ],
   "outputs": [
    {
     "output_type": "stream",
     "name": "stdout",
     "text": [
      "0          8437\n",
      "1          4024\n",
      "2          5623\n",
      "3          4124\n",
      "4        340266\n",
      "          ...  \n",
      "19346      4529\n",
      "19347    343937\n",
      "19348      2113\n",
      "19349      3112\n",
      "19350      1984\n",
      "Name: days_employed, Length: 19351, dtype: int64\n"
     ]
    }
   ],
   "metadata": {}
  },
  {
   "cell_type": "markdown",
   "source": [
    "Сначала хочется ответить на вопрос откуда могли взяться минус дети и минус дни. Если пользователи вбивали не минус, а тирэ и поле не выдало ошибку 'недопустимый формат ввода', то, очевидно, это недоработка со стороны банка.\n",
    "Возможно, что минус появился из-за сбоя программы, или те, кто отправил csv файл сами ненарошно добавили артефактов.\n",
    "\n",
    "Влияние семейного положения и количества детей есть и можно было заметить, что среди вдовцов меньше должников, чем между неженатыми, а также бездетные и у кого 3 ребенка охотнее возвращают, чем те, у кого 1 или 2 ребенка, но разброс совершенно незначительный, и я готов предположить, что при наличии равного количества данных для всех категорий разброс стремился бы к 0."
   ],
   "metadata": {}
  }
 ],
 "metadata": {
  "kernelspec": {
   "display_name": "Python 3",
   "language": "python",
   "name": "python3"
  },
  "language_info": {
   "codemirror_mode": {
    "name": "ipython",
    "version": 3
   },
   "file_extension": ".py",
   "mimetype": "text/x-python",
   "name": "python",
   "nbconvert_exporter": "python",
   "pygments_lexer": "ipython3",
   "version": "3.7.8"
  },
  "toc": {
   "base_numbering": 1,
   "nav_menu": {},
   "number_sections": true,
   "sideBar": true,
   "skip_h1_title": false,
   "title_cell": "Table of Contents",
   "title_sidebar": "Contents",
   "toc_cell": false,
   "toc_position": {},
   "toc_section_display": true,
   "toc_window_display": false
  }
 },
 "nbformat": 4,
 "nbformat_minor": 2
}