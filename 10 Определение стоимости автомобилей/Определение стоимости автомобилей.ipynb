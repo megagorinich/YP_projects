{
 "cells": [
  {
   "cell_type": "markdown",
   "source": [
    "# Определение стоимости автомобилей"
   ],
   "metadata": {}
  },
  {
   "cell_type": "markdown",
   "source": [
    "Сервис по продаже автомобилей с пробегом «Не бит, не крашен» разрабатывает приложение для привлечения новых клиентов. В нём можно быстро узнать рыночную стоимость своего автомобиля. В вашем распоряжении исторические данные: технические характеристики, комплектации и цены автомобилей. Вам нужно построить модель для определения стоимости. \n",
    "\n",
    "Заказчику важны:\n",
    "\n",
    "- качество предсказания;\n",
    "- скорость предсказания;\n",
    "- время обучения."
   ],
   "metadata": {}
  },
  {
   "cell_type": "markdown",
   "source": [
    "## Подготовка данных"
   ],
   "metadata": {}
  },
  {
   "cell_type": "markdown",
   "source": [
    "Загрузите и подготовьте данные."
   ],
   "metadata": {}
  },
  {
   "cell_type": "code",
   "execution_count": 1,
   "source": [
    "import pandas as pd\r\n",
    "import numpy as np\r\n",
    "from IPython.display import display\r\n",
    "from sklearn.preprocessing import OrdinalEncoder, StandardScaler\r\n",
    "from sklearn.model_selection import train_test_split\r\n",
    "from catboost import CatBoostRegressor\r\n",
    "from sklearn.metrics import mean_squared_error\r\n",
    "from sklearn.model_selection import GridSearchCV\r\n",
    "import lightgbm as lgb\r\n",
    "from sklearn.tree import DecisionTreeRegressor\r\n",
    "\r\n",
    "import sys\r\n",
    "if not sys.warnoptions:\r\n",
    "    import warnings\r\n",
    "    warnings.simplefilter(\"ignore\")"
   ],
   "outputs": [],
   "metadata": {}
  },
  {
   "cell_type": "code",
   "execution_count": 2,
   "source": [
    "data = pd.read_csv(\"/datasets/autos.csv\")\r\n",
    "display(data.head())\r\n",
    "data.info()"
   ],
   "outputs": [
    {
     "output_type": "display_data",
     "data": {
      "text/plain": [
       "           DateCrawled  Price VehicleType  RegistrationYear Gearbox  Power  \\\n",
       "0  2016-03-24 11:52:17    480         NaN              1993  manual      0   \n",
       "1  2016-03-24 10:58:45  18300       coupe              2011  manual    190   \n",
       "2  2016-03-14 12:52:21   9800         suv              2004    auto    163   \n",
       "3  2016-03-17 16:54:04   1500       small              2001  manual     75   \n",
       "4  2016-03-31 17:25:20   3600       small              2008  manual     69   \n",
       "\n",
       "   Model  Kilometer  RegistrationMonth  FuelType       Brand NotRepaired  \\\n",
       "0   golf     150000                  0    petrol  volkswagen         NaN   \n",
       "1    NaN     125000                  5  gasoline        audi         yes   \n",
       "2  grand     125000                  8  gasoline        jeep         NaN   \n",
       "3   golf     150000                  6    petrol  volkswagen          no   \n",
       "4  fabia      90000                  7  gasoline       skoda          no   \n",
       "\n",
       "           DateCreated  NumberOfPictures  PostalCode             LastSeen  \n",
       "0  2016-03-24 00:00:00                 0       70435  2016-04-07 03:16:57  \n",
       "1  2016-03-24 00:00:00                 0       66954  2016-04-07 01:46:50  \n",
       "2  2016-03-14 00:00:00                 0       90480  2016-04-05 12:47:46  \n",
       "3  2016-03-17 00:00:00                 0       91074  2016-03-17 17:40:17  \n",
       "4  2016-03-31 00:00:00                 0       60437  2016-04-06 10:17:21  "
      ],
      "text/html": [
       "<div>\n",
       "<style scoped>\n",
       "    .dataframe tbody tr th:only-of-type {\n",
       "        vertical-align: middle;\n",
       "    }\n",
       "\n",
       "    .dataframe tbody tr th {\n",
       "        vertical-align: top;\n",
       "    }\n",
       "\n",
       "    .dataframe thead th {\n",
       "        text-align: right;\n",
       "    }\n",
       "</style>\n",
       "<table border=\"1\" class=\"dataframe\">\n",
       "  <thead>\n",
       "    <tr style=\"text-align: right;\">\n",
       "      <th></th>\n",
       "      <th>DateCrawled</th>\n",
       "      <th>Price</th>\n",
       "      <th>VehicleType</th>\n",
       "      <th>RegistrationYear</th>\n",
       "      <th>Gearbox</th>\n",
       "      <th>Power</th>\n",
       "      <th>Model</th>\n",
       "      <th>Kilometer</th>\n",
       "      <th>RegistrationMonth</th>\n",
       "      <th>FuelType</th>\n",
       "      <th>Brand</th>\n",
       "      <th>NotRepaired</th>\n",
       "      <th>DateCreated</th>\n",
       "      <th>NumberOfPictures</th>\n",
       "      <th>PostalCode</th>\n",
       "      <th>LastSeen</th>\n",
       "    </tr>\n",
       "  </thead>\n",
       "  <tbody>\n",
       "    <tr>\n",
       "      <td>0</td>\n",
       "      <td>2016-03-24 11:52:17</td>\n",
       "      <td>480</td>\n",
       "      <td>NaN</td>\n",
       "      <td>1993</td>\n",
       "      <td>manual</td>\n",
       "      <td>0</td>\n",
       "      <td>golf</td>\n",
       "      <td>150000</td>\n",
       "      <td>0</td>\n",
       "      <td>petrol</td>\n",
       "      <td>volkswagen</td>\n",
       "      <td>NaN</td>\n",
       "      <td>2016-03-24 00:00:00</td>\n",
       "      <td>0</td>\n",
       "      <td>70435</td>\n",
       "      <td>2016-04-07 03:16:57</td>\n",
       "    </tr>\n",
       "    <tr>\n",
       "      <td>1</td>\n",
       "      <td>2016-03-24 10:58:45</td>\n",
       "      <td>18300</td>\n",
       "      <td>coupe</td>\n",
       "      <td>2011</td>\n",
       "      <td>manual</td>\n",
       "      <td>190</td>\n",
       "      <td>NaN</td>\n",
       "      <td>125000</td>\n",
       "      <td>5</td>\n",
       "      <td>gasoline</td>\n",
       "      <td>audi</td>\n",
       "      <td>yes</td>\n",
       "      <td>2016-03-24 00:00:00</td>\n",
       "      <td>0</td>\n",
       "      <td>66954</td>\n",
       "      <td>2016-04-07 01:46:50</td>\n",
       "    </tr>\n",
       "    <tr>\n",
       "      <td>2</td>\n",
       "      <td>2016-03-14 12:52:21</td>\n",
       "      <td>9800</td>\n",
       "      <td>suv</td>\n",
       "      <td>2004</td>\n",
       "      <td>auto</td>\n",
       "      <td>163</td>\n",
       "      <td>grand</td>\n",
       "      <td>125000</td>\n",
       "      <td>8</td>\n",
       "      <td>gasoline</td>\n",
       "      <td>jeep</td>\n",
       "      <td>NaN</td>\n",
       "      <td>2016-03-14 00:00:00</td>\n",
       "      <td>0</td>\n",
       "      <td>90480</td>\n",
       "      <td>2016-04-05 12:47:46</td>\n",
       "    </tr>\n",
       "    <tr>\n",
       "      <td>3</td>\n",
       "      <td>2016-03-17 16:54:04</td>\n",
       "      <td>1500</td>\n",
       "      <td>small</td>\n",
       "      <td>2001</td>\n",
       "      <td>manual</td>\n",
       "      <td>75</td>\n",
       "      <td>golf</td>\n",
       "      <td>150000</td>\n",
       "      <td>6</td>\n",
       "      <td>petrol</td>\n",
       "      <td>volkswagen</td>\n",
       "      <td>no</td>\n",
       "      <td>2016-03-17 00:00:00</td>\n",
       "      <td>0</td>\n",
       "      <td>91074</td>\n",
       "      <td>2016-03-17 17:40:17</td>\n",
       "    </tr>\n",
       "    <tr>\n",
       "      <td>4</td>\n",
       "      <td>2016-03-31 17:25:20</td>\n",
       "      <td>3600</td>\n",
       "      <td>small</td>\n",
       "      <td>2008</td>\n",
       "      <td>manual</td>\n",
       "      <td>69</td>\n",
       "      <td>fabia</td>\n",
       "      <td>90000</td>\n",
       "      <td>7</td>\n",
       "      <td>gasoline</td>\n",
       "      <td>skoda</td>\n",
       "      <td>no</td>\n",
       "      <td>2016-03-31 00:00:00</td>\n",
       "      <td>0</td>\n",
       "      <td>60437</td>\n",
       "      <td>2016-04-06 10:17:21</td>\n",
       "    </tr>\n",
       "  </tbody>\n",
       "</table>\n",
       "</div>"
      ]
     },
     "metadata": {}
    },
    {
     "output_type": "stream",
     "name": "stdout",
     "text": [
      "<class 'pandas.core.frame.DataFrame'>\n",
      "RangeIndex: 354369 entries, 0 to 354368\n",
      "Data columns (total 16 columns):\n",
      "DateCrawled          354369 non-null object\n",
      "Price                354369 non-null int64\n",
      "VehicleType          316879 non-null object\n",
      "RegistrationYear     354369 non-null int64\n",
      "Gearbox              334536 non-null object\n",
      "Power                354369 non-null int64\n",
      "Model                334664 non-null object\n",
      "Kilometer            354369 non-null int64\n",
      "RegistrationMonth    354369 non-null int64\n",
      "FuelType             321474 non-null object\n",
      "Brand                354369 non-null object\n",
      "NotRepaired          283215 non-null object\n",
      "DateCreated          354369 non-null object\n",
      "NumberOfPictures     354369 non-null int64\n",
      "PostalCode           354369 non-null int64\n",
      "LastSeen             354369 non-null object\n",
      "dtypes: int64(7), object(9)\n",
      "memory usage: 43.3+ MB\n"
     ]
    }
   ],
   "metadata": {}
  },
  {
   "cell_type": "markdown",
   "source": [
    "Есть пропуски в столбцах `VehicleType`, `Gearbox`, `Model`, `FuelType`, `NotRepaired`. Могут быть вызваны, как сбоем программы, так и невнимательностью пользователей."
   ],
   "metadata": {}
  },
  {
   "cell_type": "code",
   "execution_count": 3,
   "source": [
    "data['Gearbox'].unique()"
   ],
   "outputs": [
    {
     "output_type": "execute_result",
     "data": {
      "text/plain": [
       "array(['manual', 'auto', nan], dtype=object)"
      ]
     },
     "metadata": {},
     "execution_count": 3
    }
   ],
   "metadata": {}
  },
  {
   "cell_type": "markdown",
   "source": [
    "В столбце `Gearbox` очень мало вариантов, нет робота и вариатора например. Заменю пропуски на `other`."
   ],
   "metadata": {}
  },
  {
   "cell_type": "code",
   "execution_count": 4,
   "source": [
    "data['NotRepaired'].unique()"
   ],
   "outputs": [
    {
     "output_type": "execute_result",
     "data": {
      "text/plain": [
       "array([nan, 'yes', 'no'], dtype=object)"
      ]
     },
     "metadata": {},
     "execution_count": 4
    }
   ],
   "metadata": {}
  },
  {
   "cell_type": "markdown",
   "source": [
    "В столбце `NotRepaired` пропуски могут означать, что ремонтов не было, заменю `NaN` на `no`.\n",
    "\n",
    "В столбцах `VehicleType`, `Model`, `FuelType` есть вариант `other`, соответственно, все `NaN` заменю на `other`."
   ],
   "metadata": {}
  },
  {
   "cell_type": "code",
   "execution_count": 5,
   "source": [
    "data = data.fillna({\"VehicleType\" : 'other',\r\n",
    "                    \"Model\" : 'other',\r\n",
    "                    \"FuelType\" : 'other',\r\n",
    "                    \"Gearbox\" : 'other',\r\n",
    "                    \"NotRepaired\" : 'no'})\r\n",
    "data.info()"
   ],
   "outputs": [
    {
     "output_type": "stream",
     "name": "stdout",
     "text": [
      "<class 'pandas.core.frame.DataFrame'>\n",
      "RangeIndex: 354369 entries, 0 to 354368\n",
      "Data columns (total 16 columns):\n",
      "DateCrawled          354369 non-null object\n",
      "Price                354369 non-null int64\n",
      "VehicleType          354369 non-null object\n",
      "RegistrationYear     354369 non-null int64\n",
      "Gearbox              354369 non-null object\n",
      "Power                354369 non-null int64\n",
      "Model                354369 non-null object\n",
      "Kilometer            354369 non-null int64\n",
      "RegistrationMonth    354369 non-null int64\n",
      "FuelType             354369 non-null object\n",
      "Brand                354369 non-null object\n",
      "NotRepaired          354369 non-null object\n",
      "DateCreated          354369 non-null object\n",
      "NumberOfPictures     354369 non-null int64\n",
      "PostalCode           354369 non-null int64\n",
      "LastSeen             354369 non-null object\n",
      "dtypes: int64(7), object(9)\n",
      "memory usage: 43.3+ MB\n"
     ]
    }
   ],
   "metadata": {}
  },
  {
   "cell_type": "markdown",
   "source": [
    "Изменю тип данных столбцов `DateCrawled`, `DateCreated`, `LastSeen`"
   ],
   "metadata": {}
  },
  {
   "cell_type": "code",
   "execution_count": 6,
   "source": [
    "data = data.astype({'DateCrawled' : 'datetime64[ns]',\r\n",
    "                   'DateCreated' : 'datetime64[ns]',\r\n",
    "                   'LastSeen' : 'datetime64[ns]'})"
   ],
   "outputs": [],
   "metadata": {}
  },
  {
   "cell_type": "markdown",
   "source": [
    "Дальше я очищаю таблицу от строк, в которых год регистрации 2016, но месяц регистрации больше, чем месяц скачивания анкеты из базы."
   ],
   "metadata": {}
  },
  {
   "cell_type": "code",
   "execution_count": 7,
   "source": [
    "data.drop(\r\n",
    "    data[(data['DateCrawled'].dt.year == data['RegistrationYear'])\r\n",
    "         & (data['DateCrawled'].dt.month < data['RegistrationMonth'])].index, inplace=True)"
   ],
   "outputs": [],
   "metadata": {}
  },
  {
   "cell_type": "code",
   "execution_count": 8,
   "source": [
    "data[\"NumberOfPictures\"].unique()"
   ],
   "outputs": [
    {
     "output_type": "execute_result",
     "data": {
      "text/plain": [
       "array([0])"
      ]
     },
     "metadata": {},
     "execution_count": 8
    }
   ],
   "metadata": {}
  },
  {
   "cell_type": "markdown",
   "source": [
    "Видно, что столбец `NumberOfPictures` абсолютно пустой, поэтому можно его удалить."
   ],
   "metadata": {}
  },
  {
   "cell_type": "code",
   "execution_count": 9,
   "source": [
    "data = data.drop(['NumberOfPictures'], axis=1)"
   ],
   "outputs": [],
   "metadata": {}
  },
  {
   "cell_type": "markdown",
   "source": [
    "<div class=\"alert alert-block alert-success\">\n",
    "<b>Успех:</b> Отлично, что ты нашел и удалил этот константный признак.\n",
    "    \n",
    "</div>"
   ],
   "metadata": {}
  },
  {
   "cell_type": "code",
   "execution_count": 10,
   "source": [
    "data['RegistrationMonth'].value_counts()"
   ],
   "outputs": [
    {
     "output_type": "execute_result",
     "data": {
      "text/plain": [
       "0     37352\n",
       "3     34373\n",
       "6     30747\n",
       "4     28731\n",
       "5     28446\n",
       "7     26620\n",
       "10    25495\n",
       "12    23821\n",
       "11    23677\n",
       "9     23313\n",
       "1     23219\n",
       "8     22079\n",
       "2     21267\n",
       "Name: RegistrationMonth, dtype: int64"
      ]
     },
     "metadata": {},
     "execution_count": 10
    }
   ],
   "metadata": {}
  },
  {
   "cell_type": "markdown",
   "source": [
    "Очень странно выглядит месяц регистрации 0. Возможно, машина слишком старая, или документы утеряны. Ничем заменять не буду."
   ],
   "metadata": {}
  },
  {
   "cell_type": "code",
   "execution_count": 11,
   "source": [
    "data['RegistrationYear'].sort_values().unique()"
   ],
   "outputs": [
    {
     "output_type": "execute_result",
     "data": {
      "text/plain": [
       "array([1000, 1001, 1039, 1111, 1200, 1234, 1253, 1255, 1300, 1400, 1500,\n",
       "       1600, 1602, 1688, 1800, 1910, 1915, 1919, 1920, 1923, 1925, 1927,\n",
       "       1928, 1929, 1930, 1931, 1932, 1933, 1934, 1935, 1936, 1937, 1938,\n",
       "       1940, 1941, 1942, 1943, 1944, 1945, 1946, 1947, 1948, 1949, 1950,\n",
       "       1951, 1952, 1953, 1954, 1955, 1956, 1957, 1958, 1959, 1960, 1961,\n",
       "       1962, 1963, 1964, 1965, 1966, 1967, 1968, 1969, 1970, 1971, 1972,\n",
       "       1973, 1974, 1975, 1976, 1977, 1978, 1979, 1980, 1981, 1982, 1983,\n",
       "       1984, 1985, 1986, 1987, 1988, 1989, 1990, 1991, 1992, 1993, 1994,\n",
       "       1995, 1996, 1997, 1998, 1999, 2000, 2001, 2002, 2003, 2004, 2005,\n",
       "       2006, 2007, 2008, 2009, 2010, 2011, 2012, 2013, 2014, 2015, 2016,\n",
       "       2017, 2018, 2019, 2066, 2200, 2222, 2290, 2500, 2800, 2900, 3000,\n",
       "       3200, 3500, 3700, 3800, 4000, 4100, 4500, 4800, 5000, 5300, 5555,\n",
       "       5600, 5900, 5911, 6000, 6500, 7000, 7100, 7500, 7800, 8000, 8200,\n",
       "       8455, 8500, 8888, 9000, 9229, 9450, 9996, 9999])"
      ]
     },
     "metadata": {},
     "execution_count": 11
    }
   ],
   "metadata": {}
  },
  {
   "cell_type": "markdown",
   "source": [
    "Я зашёл на сайт auto.ru и у них минимальный год начинается с 1890, а максимальный у нас может быть 2016, т.к. данные собраны именно в 2016. Все остальные значения удалю."
   ],
   "metadata": {}
  },
  {
   "cell_type": "code",
   "execution_count": 12,
   "source": [
    "data = data[(data['RegistrationYear'] >= 1890) & (data['RegistrationYear'] <= 2016)]\r\n",
    "data.info()"
   ],
   "outputs": [
    {
     "output_type": "stream",
     "name": "stdout",
     "text": [
      "<class 'pandas.core.frame.DataFrame'>\n",
      "Int64Index: 334544 entries, 0 to 354368\n",
      "Data columns (total 15 columns):\n",
      "DateCrawled          334544 non-null datetime64[ns]\n",
      "Price                334544 non-null int64\n",
      "VehicleType          334544 non-null object\n",
      "RegistrationYear     334544 non-null int64\n",
      "Gearbox              334544 non-null object\n",
      "Power                334544 non-null int64\n",
      "Model                334544 non-null object\n",
      "Kilometer            334544 non-null int64\n",
      "RegistrationMonth    334544 non-null int64\n",
      "FuelType             334544 non-null object\n",
      "Brand                334544 non-null object\n",
      "NotRepaired          334544 non-null object\n",
      "DateCreated          334544 non-null datetime64[ns]\n",
      "PostalCode           334544 non-null int64\n",
      "LastSeen             334544 non-null datetime64[ns]\n",
      "dtypes: datetime64[ns](3), int64(6), object(6)\n",
      "memory usage: 40.8+ MB\n"
     ]
    }
   ],
   "metadata": {}
  },
  {
   "cell_type": "code",
   "execution_count": 13,
   "source": [
    "data['Price'].value_counts()"
   ],
   "outputs": [
    {
     "output_type": "execute_result",
     "data": {
      "text/plain": [
       "0       9746\n",
       "500     5317\n",
       "1500    5006\n",
       "1000    4266\n",
       "1200    4255\n",
       "        ... \n",
       "193        1\n",
       "1112       1\n",
       "5210       1\n",
       "1368       1\n",
       "8188       1\n",
       "Name: Price, Length: 3688, dtype: int64"
      ]
     },
     "metadata": {},
     "execution_count": 13
    }
   ],
   "metadata": {}
  },
  {
   "cell_type": "markdown",
   "source": [
    "Очень много объявлений с ценой 0. Быть может, это очень старые машины, либо битые."
   ],
   "metadata": {}
  },
  {
   "cell_type": "code",
   "execution_count": 14,
   "source": [
    "data[data['Price'] == 0]['Kilometer'].value_counts()"
   ],
   "outputs": [
    {
     "output_type": "execute_result",
     "data": {
      "text/plain": [
       "150000    6923\n",
       "5000       945\n",
       "125000     619\n",
       "100000     399\n",
       "90000      156\n",
       "80000      137\n",
       "20000      125\n",
       "30000       94\n",
       "70000       91\n",
       "50000       76\n",
       "60000       70\n",
       "10000       59\n",
       "40000       52\n",
       "Name: Kilometer, dtype: int64"
      ]
     },
     "metadata": {},
     "execution_count": 14
    }
   ],
   "metadata": {}
  },
  {
   "cell_type": "markdown",
   "source": [
    "Да, так и есть - абсолютное большинство с пробегом 150000. Оставлю эти 0 без изменений."
   ],
   "metadata": {}
  },
  {
   "cell_type": "code",
   "execution_count": 15,
   "source": [
    "data.reset_index(drop=True, inplace=True)"
   ],
   "outputs": [],
   "metadata": {}
  },
  {
   "cell_type": "markdown",
   "source": [
    "Составил список категориальных данных:"
   ],
   "metadata": {}
  },
  {
   "cell_type": "code",
   "execution_count": 16,
   "source": [
    "data_ordinal = data[['VehicleType', 'Gearbox', 'Model', 'FuelType', 'Brand', 'NotRepaired']]"
   ],
   "outputs": [],
   "metadata": {}
  },
  {
   "cell_type": "markdown",
   "source": [
    "## Вывод"
   ],
   "metadata": {}
  },
  {
   "cell_type": "markdown",
   "source": [
    "В данном этапе я избавился от пропусков в столбцах `VehicleType`, `Gearbox`, `Model`, `FuelType`, `NotRepaired`.\n",
    "\n",
    "Поменял типы данных столбцов `DateCrawled`, `DateCreated`, `LastSeen`.\n",
    "\n",
    "Удалил выбросы, также использовал ordinal encoder для кодирования.\n",
    "\n",
    "По итогу я удалил всего 5.6% значений."
   ],
   "metadata": {}
  },
  {
   "cell_type": "markdown",
   "source": [
    "## Обучение моделей"
   ],
   "metadata": {}
  },
  {
   "cell_type": "markdown",
   "source": [
    "Обучите разные модели. Для каждой попробуйте различные гиперпараметры."
   ],
   "metadata": {}
  },
  {
   "cell_type": "markdown",
   "source": [
    "Для начала разобью данные на target и features:"
   ],
   "metadata": {}
  },
  {
   "cell_type": "code",
   "execution_count": 17,
   "source": [
    "features = data.drop(['DateCrawled', 'DateCreated', 'LastSeen', 'Price'], axis=1)\r\n",
    "target = data['Price']"
   ],
   "outputs": [],
   "metadata": {}
  },
  {
   "cell_type": "markdown",
   "source": [
    "Далее надо разбить выборку на обучающую и валидационную:"
   ],
   "metadata": {}
  },
  {
   "cell_type": "code",
   "execution_count": 18,
   "source": [
    "features_train, features_test, target_train, target_test = train_test_split(\r\n",
    "    features, target, test_size=0.25, random_state=12345)"
   ],
   "outputs": [],
   "metadata": {}
  },
  {
   "cell_type": "markdown",
   "source": [
    "Теперь обучу модель `CatBoostRegressor` и подберу наилучшие параметры с помощью `grid_search`:"
   ],
   "metadata": {}
  },
  {
   "cell_type": "code",
   "execution_count": 29,
   "source": [
    "cat_features = data_ordinal\r\n",
    "model_CatBoost = CatBoostRegressor(loss_function='RMSE', random_seed=12345, cat_features=cat_features)\r\n",
    "\r\n",
    "grid = {'learning_rate': [0.03, 0.1],\r\n",
    "        'depth': [9, 10],\r\n",
    "        'iterations' : [1, 200],\r\n",
    "        'l2_leaf_reg': [1, 2]}\r\n",
    "\r\n",
    "grid_search_result = model_CatBoost.grid_search(grid, \r\n",
    "                                       X=features_train, \r\n",
    "                                       y=target_train,\r\n",
    "                                       verbose = True)"
   ],
   "outputs": [],
   "metadata": {}
  },
  {
   "cell_type": "markdown",
   "source": [
    "Наилучшее `RMSE` при значениях гиперпараметров:"
   ],
   "metadata": {}
  },
  {
   "cell_type": "code",
   "execution_count": 20,
   "source": [
    "grid_search_result['params']"
   ],
   "outputs": [],
   "metadata": {}
  },
  {
   "cell_type": "markdown",
   "source": [
    "Меняю тип данных на `category`:"
   ],
   "metadata": {}
  },
  {
   "cell_type": "code",
   "execution_count": 21,
   "source": [
    "features_train_lgbm = features_train.astype({\r\n",
    "    'VehicleType' : 'category',\r\n",
    "    'Gearbox' : 'category',\r\n",
    "    'Model' : 'category',\r\n",
    "    'FuelType' : 'category',\r\n",
    "    'Brand' : 'category',\r\n",
    "    'NotRepaired'  : 'category'\r\n",
    "})\r\n",
    "features_test_lgbm = features_test.astype({\r\n",
    "    'VehicleType' : 'category',\r\n",
    "    'Gearbox' : 'category',\r\n",
    "    'Model' : 'category',\r\n",
    "    'FuelType' : 'category',\r\n",
    "    'Brand' : 'category',\r\n",
    "    'NotRepaired'  : 'category'\r\n",
    "})"
   ],
   "outputs": [],
   "metadata": {}
  },
  {
   "cell_type": "markdown",
   "source": [
    "Перебираю гиперпараметры для `LGBMRegressor`:"
   ],
   "metadata": {}
  },
  {
   "cell_type": "code",
   "execution_count": 22,
   "source": [
    "gridParams = {\r\n",
    "    'learning_rate': [1],\r\n",
    "    'max_depth' : [1, 100],\r\n",
    "    'num_leaves' : [2, 98],\r\n",
    "    'n_estimators' : [1, 100]\r\n",
    "    }"
   ],
   "outputs": [],
   "metadata": {}
  },
  {
   "cell_type": "code",
   "execution_count": 23,
   "source": [
    "model_lgbm = lgb.LGBMRegressor(metric='rmse',random_state=12345)\r\n",
    "grid = GridSearchCV(model_lgbm, gridParams, cv=2)\r\n",
    "grid.fit(features_train_lgbm, target_train)\r\n",
    "print(grid.best_params_)"
   ],
   "outputs": [
    {
     "output_type": "stream",
     "name": "stdout",
     "text": [
      "{'learning_rate': 1, 'max_depth': 100, 'n_estimators': 100, 'num_leaves': 98}\n"
     ]
    }
   ],
   "metadata": {}
  },
  {
   "cell_type": "markdown",
   "source": [
    "Для обучения дерева решений кодирую категориальные признаки с помощью `OrdinalEncoder`:"
   ],
   "metadata": {}
  },
  {
   "cell_type": "code",
   "execution_count": 24,
   "source": [
    "data_tree = data\r\n",
    "encoder = OrdinalEncoder()\r\n",
    "data_ordinal = pd.DataFrame(encoder.fit_transform(data_ordinal), columns=data_ordinal.columns)\r\n",
    "data_tree[['VehicleType', 'Gearbox', 'Model', 'FuelType', 'Brand', 'NotRepaired']] = data_ordinal[['VehicleType', 'Gearbox', 'Model', 'FuelType', 'Brand', 'NotRepaired']]"
   ],
   "outputs": [
    {
     "output_type": "display_data",
     "data": {
      "text/plain": [
       "          DateCrawled  Price  VehicleType  RegistrationYear  Gearbox  Power  \\\n",
       "0 2016-03-24 11:52:17    480          3.0              1993      1.0      0   \n",
       "1 2016-03-24 10:58:45  18300          2.0              2011      1.0    190   \n",
       "2 2016-03-14 12:52:21   9800          6.0              2004      0.0    163   \n",
       "3 2016-03-17 16:54:04   1500          5.0              2001      1.0     75   \n",
       "4 2016-03-31 17:25:20   3600          5.0              2008      1.0     69   \n",
       "\n",
       "   Model  Kilometer  RegistrationMonth  FuelType  Brand  NotRepaired  \\\n",
       "0  116.0     150000                  0       6.0   38.0          0.0   \n",
       "1  166.0     125000                  5       2.0    1.0          1.0   \n",
       "2  117.0     125000                  8       2.0   14.0          0.0   \n",
       "3  116.0     150000                  6       6.0   38.0          0.0   \n",
       "4  101.0      90000                  7       2.0   31.0          0.0   \n",
       "\n",
       "  DateCreated  PostalCode            LastSeen  \n",
       "0  2016-03-24       70435 2016-04-07 03:16:57  \n",
       "1  2016-03-24       66954 2016-04-07 01:46:50  \n",
       "2  2016-03-14       90480 2016-04-05 12:47:46  \n",
       "3  2016-03-17       91074 2016-03-17 17:40:17  \n",
       "4  2016-03-31       60437 2016-04-06 10:17:21  "
      ],
      "text/html": [
       "<div>\n",
       "<style scoped>\n",
       "    .dataframe tbody tr th:only-of-type {\n",
       "        vertical-align: middle;\n",
       "    }\n",
       "\n",
       "    .dataframe tbody tr th {\n",
       "        vertical-align: top;\n",
       "    }\n",
       "\n",
       "    .dataframe thead th {\n",
       "        text-align: right;\n",
       "    }\n",
       "</style>\n",
       "<table border=\"1\" class=\"dataframe\">\n",
       "  <thead>\n",
       "    <tr style=\"text-align: right;\">\n",
       "      <th></th>\n",
       "      <th>DateCrawled</th>\n",
       "      <th>Price</th>\n",
       "      <th>VehicleType</th>\n",
       "      <th>RegistrationYear</th>\n",
       "      <th>Gearbox</th>\n",
       "      <th>Power</th>\n",
       "      <th>Model</th>\n",
       "      <th>Kilometer</th>\n",
       "      <th>RegistrationMonth</th>\n",
       "      <th>FuelType</th>\n",
       "      <th>Brand</th>\n",
       "      <th>NotRepaired</th>\n",
       "      <th>DateCreated</th>\n",
       "      <th>PostalCode</th>\n",
       "      <th>LastSeen</th>\n",
       "    </tr>\n",
       "  </thead>\n",
       "  <tbody>\n",
       "    <tr>\n",
       "      <td>0</td>\n",
       "      <td>2016-03-24 11:52:17</td>\n",
       "      <td>480</td>\n",
       "      <td>3.0</td>\n",
       "      <td>1993</td>\n",
       "      <td>1.0</td>\n",
       "      <td>0</td>\n",
       "      <td>116.0</td>\n",
       "      <td>150000</td>\n",
       "      <td>0</td>\n",
       "      <td>6.0</td>\n",
       "      <td>38.0</td>\n",
       "      <td>0.0</td>\n",
       "      <td>2016-03-24</td>\n",
       "      <td>70435</td>\n",
       "      <td>2016-04-07 03:16:57</td>\n",
       "    </tr>\n",
       "    <tr>\n",
       "      <td>1</td>\n",
       "      <td>2016-03-24 10:58:45</td>\n",
       "      <td>18300</td>\n",
       "      <td>2.0</td>\n",
       "      <td>2011</td>\n",
       "      <td>1.0</td>\n",
       "      <td>190</td>\n",
       "      <td>166.0</td>\n",
       "      <td>125000</td>\n",
       "      <td>5</td>\n",
       "      <td>2.0</td>\n",
       "      <td>1.0</td>\n",
       "      <td>1.0</td>\n",
       "      <td>2016-03-24</td>\n",
       "      <td>66954</td>\n",
       "      <td>2016-04-07 01:46:50</td>\n",
       "    </tr>\n",
       "    <tr>\n",
       "      <td>2</td>\n",
       "      <td>2016-03-14 12:52:21</td>\n",
       "      <td>9800</td>\n",
       "      <td>6.0</td>\n",
       "      <td>2004</td>\n",
       "      <td>0.0</td>\n",
       "      <td>163</td>\n",
       "      <td>117.0</td>\n",
       "      <td>125000</td>\n",
       "      <td>8</td>\n",
       "      <td>2.0</td>\n",
       "      <td>14.0</td>\n",
       "      <td>0.0</td>\n",
       "      <td>2016-03-14</td>\n",
       "      <td>90480</td>\n",
       "      <td>2016-04-05 12:47:46</td>\n",
       "    </tr>\n",
       "    <tr>\n",
       "      <td>3</td>\n",
       "      <td>2016-03-17 16:54:04</td>\n",
       "      <td>1500</td>\n",
       "      <td>5.0</td>\n",
       "      <td>2001</td>\n",
       "      <td>1.0</td>\n",
       "      <td>75</td>\n",
       "      <td>116.0</td>\n",
       "      <td>150000</td>\n",
       "      <td>6</td>\n",
       "      <td>6.0</td>\n",
       "      <td>38.0</td>\n",
       "      <td>0.0</td>\n",
       "      <td>2016-03-17</td>\n",
       "      <td>91074</td>\n",
       "      <td>2016-03-17 17:40:17</td>\n",
       "    </tr>\n",
       "    <tr>\n",
       "      <td>4</td>\n",
       "      <td>2016-03-31 17:25:20</td>\n",
       "      <td>3600</td>\n",
       "      <td>5.0</td>\n",
       "      <td>2008</td>\n",
       "      <td>1.0</td>\n",
       "      <td>69</td>\n",
       "      <td>101.0</td>\n",
       "      <td>90000</td>\n",
       "      <td>7</td>\n",
       "      <td>2.0</td>\n",
       "      <td>31.0</td>\n",
       "      <td>0.0</td>\n",
       "      <td>2016-03-31</td>\n",
       "      <td>60437</td>\n",
       "      <td>2016-04-06 10:17:21</td>\n",
       "    </tr>\n",
       "  </tbody>\n",
       "</table>\n",
       "</div>"
      ]
     },
     "metadata": {}
    },
    {
     "output_type": "stream",
     "name": "stdout",
     "text": [
      "<class 'pandas.core.frame.DataFrame'>\n",
      "RangeIndex: 334544 entries, 0 to 334543\n",
      "Data columns (total 15 columns):\n",
      "DateCrawled          334544 non-null datetime64[ns]\n",
      "Price                334544 non-null int64\n",
      "VehicleType          334544 non-null float64\n",
      "RegistrationYear     334544 non-null int64\n",
      "Gearbox              334544 non-null float64\n",
      "Power                334544 non-null int64\n",
      "Model                334544 non-null float64\n",
      "Kilometer            334544 non-null int64\n",
      "RegistrationMonth    334544 non-null int64\n",
      "FuelType             334544 non-null float64\n",
      "Brand                334544 non-null float64\n",
      "NotRepaired          334544 non-null float64\n",
      "DateCreated          334544 non-null datetime64[ns]\n",
      "PostalCode           334544 non-null int64\n",
      "LastSeen             334544 non-null datetime64[ns]\n",
      "dtypes: datetime64[ns](3), float64(6), int64(6)\n",
      "memory usage: 38.3 MB\n"
     ]
    }
   ],
   "metadata": {}
  },
  {
   "cell_type": "markdown",
   "source": [
    "Для дерева решений разбиваю на выборки таблицу с закодированными категориальными признаками:"
   ],
   "metadata": {}
  },
  {
   "cell_type": "code",
   "execution_count": 25,
   "source": [
    "features_tree = data_tree.drop(['DateCrawled', 'DateCreated', 'LastSeen', 'Price'], axis=1)\r\n",
    "target_tree = data_tree['Price']\r\n",
    "features_train_tree, features_test_tree, target_train_tree, target_test_tree = train_test_split(\r\n",
    "    features_tree, target_tree, test_size=0.25, random_state=12345)"
   ],
   "outputs": [],
   "metadata": {}
  },
  {
   "cell_type": "markdown",
   "source": [
    "Выполняю масштабирование признаков:"
   ],
   "metadata": {}
  },
  {
   "cell_type": "code",
   "execution_count": 26,
   "source": [
    "numeric = ['VehicleType', 'RegistrationYear', 'Gearbox', 'Power', 'Model', 'Kilometer', 'RegistrationMonth', 'FuelType', 'Brand', 'NotRepaired']\r\n",
    "\r\n",
    "scaler = StandardScaler()\r\n",
    "scaler.fit(features_train_tree[numeric])\r\n",
    "features_train_tree[numeric] = scaler.transform(features_train_tree[numeric])\r\n",
    "features_test_tree[numeric] = scaler.transform(features_test_tree[numeric])"
   ],
   "outputs": [],
   "metadata": {}
  },
  {
   "cell_type": "markdown",
   "source": [
    "Подбираю гиперпараметры для `DecisionTreeRegressor`:"
   ],
   "metadata": {}
  },
  {
   "cell_type": "code",
   "execution_count": 27,
   "source": [
    "best_depth = 0\r\n",
    "max_result = 10000\r\n",
    "for depth in range(1, 14):\r\n",
    "    model_tree = DecisionTreeRegressor(random_state=12345, max_depth=depth)\r\n",
    "    model_tree.fit(features_train_tree, target_train_tree)\r\n",
    "    predictions_valid = model_tree.predict(features_test_tree)\r\n",
    "    result = mean_squared_error(target_test_tree, predictions_valid)**0.5\r\n",
    "    if result < max_result:\r\n",
    "        best_depth = depth\r\n",
    "        max_result = result\r\n",
    "print('max_depth:', best_depth)\r\n",
    "print('accuracy:', max_result) "
   ],
   "outputs": [
    {
     "output_type": "stream",
     "name": "stdout",
     "text": [
      "max_depth: 13\n",
      "accuracy: 2039.0947251787165\n"
     ]
    }
   ],
   "metadata": {}
  },
  {
   "cell_type": "markdown",
   "source": [
    "## Вывод"
   ],
   "metadata": {}
  },
  {
   "cell_type": "markdown",
   "source": [
    "В данном шаге я разбил данные на выдорки и сделал масштабирование признаков.\n",
    "\n",
    "Подбирал значения гиперпараметров для трёх моделей: `CatBoostRegressor`, `LGBMRegressor`, `DecisionTreeRegressor`, использовал для этого `grid_search`, `GridSearchCV` и `цикл for`, соответственно."
   ],
   "metadata": {}
  },
  {
   "cell_type": "markdown",
   "source": [
    "## Анализ моделей"
   ],
   "metadata": {}
  },
  {
   "cell_type": "markdown",
   "source": [
    "Проанализируйте скорость работы и качество моделей."
   ],
   "metadata": {}
  },
  {
   "cell_type": "markdown",
   "source": [
    "Подставляю наилучшие параметры в модель CatBoostRegressor:"
   ],
   "metadata": {}
  },
  {
   "cell_type": "code",
   "execution_count": 30,
   "source": [
    "model_CatBoost = CatBoostRegressor(loss_function='RMSE', random_seed=12345, learning_rate=0.1, depth=10, iterations=200, l2_leaf_reg=2, cat_features=cat_features)"
   ],
   "outputs": [],
   "metadata": {}
  },
  {
   "cell_type": "markdown",
   "source": [
    "Узнаю время обучения и предсказания:"
   ],
   "metadata": {}
  },
  {
   "cell_type": "code",
   "execution_count": 31,
   "source": [
    "%%time\r\n",
    "model_CatBoost.fit(features_train, target_train, verbose=100)"
   ],
   "outputs": [
    {
     "output_type": "stream",
     "name": "stdout",
     "text": [
      "0:\tlearn: 4230.9547886\ttotal: 1.64s\tremaining: 5m 27s\n",
      "100:\tlearn: 1718.8659367\ttotal: 2m 34s\tremaining: 2m 31s\n",
      "199:\tlearn: 1616.6608960\ttotal: 5m 10s\tremaining: 0us\n",
      "CPU times: user 4min 52s, sys: 19.6 s, total: 5min 11s\n",
      "Wall time: 5min 13s\n"
     ]
    },
    {
     "output_type": "execute_result",
     "data": {
      "text/plain": [
       "<catboost.core.CatBoostRegressor at 0x7f8eba7e7f50>"
      ]
     },
     "metadata": {},
     "execution_count": 31
    }
   ],
   "metadata": {}
  },
  {
   "cell_type": "code",
   "execution_count": 32,
   "source": [
    "%%time\r\n",
    "predict_test = model_CatBoost.predict(features_test)"
   ],
   "outputs": [
    {
     "output_type": "stream",
     "name": "stdout",
     "text": [
      "CPU times: user 610 ms, sys: 29.4 ms, total: 640 ms\n",
      "Wall time: 629 ms\n"
     ]
    }
   ],
   "metadata": {}
  },
  {
   "cell_type": "markdown",
   "source": [
    "Высчитываю RMSE:"
   ],
   "metadata": {}
  },
  {
   "cell_type": "code",
   "execution_count": 33,
   "source": [
    "print('Значение RMSE: ',mean_squared_error(target_test, predict_test)**0.5)"
   ],
   "outputs": [
    {
     "output_type": "stream",
     "name": "stdout",
     "text": [
      "Значение RMSE:  1719.060160777975\n"
     ]
    }
   ],
   "metadata": {}
  },
  {
   "cell_type": "markdown",
   "source": [
    "Подставляю наилучшие параметры в модель LGBMRegressor:"
   ],
   "metadata": {}
  },
  {
   "cell_type": "code",
   "execution_count": 34,
   "source": [
    "model_lgbm = lgb.LGBMRegressor(random_state=12345,max_depth=100,num_leaves=98,n_estimators=100,learning_rate=1)"
   ],
   "outputs": [],
   "metadata": {}
  },
  {
   "cell_type": "markdown",
   "source": [
    "Узнаю время обучения и предсказания:"
   ],
   "metadata": {}
  },
  {
   "cell_type": "code",
   "execution_count": 37,
   "source": [
    "%%time\r\n",
    "model_lgbm.fit(features_train_lgbm, target_train)"
   ],
   "outputs": [
    {
     "output_type": "stream",
     "name": "stdout",
     "text": [
      "CPU times: user 6min 48s, sys: 1.75 s, total: 6min 50s\n",
      "Wall time: 6min 53s\n"
     ]
    },
    {
     "output_type": "execute_result",
     "data": {
      "text/plain": [
       "LGBMRegressor(boosting_type='gbdt', class_weight=None, colsample_bytree=1.0,\n",
       "              importance_type='split', learning_rate=1, max_depth=100,\n",
       "              min_child_samples=20, min_child_weight=0.001, min_split_gain=0.0,\n",
       "              n_estimators=100, n_jobs=-1, num_leaves=98, objective=None,\n",
       "              random_state=12345, reg_alpha=0.0, reg_lambda=0.0, silent=True,\n",
       "              subsample=1.0, subsample_for_bin=200000, subsample_freq=0)"
      ]
     },
     "metadata": {},
     "execution_count": 37
    }
   ],
   "metadata": {}
  },
  {
   "cell_type": "code",
   "execution_count": 38,
   "source": [
    "%%time\r\n",
    "predictions = model_lgbm.predict(features_test_lgbm)"
   ],
   "outputs": [
    {
     "output_type": "stream",
     "name": "stdout",
     "text": [
      "CPU times: user 1.07 s, sys: 3.33 ms, total: 1.07 s\n",
      "Wall time: 1.07 s\n"
     ]
    }
   ],
   "metadata": {}
  },
  {
   "cell_type": "markdown",
   "source": [
    "Высчитываю RMSE:"
   ],
   "metadata": {}
  },
  {
   "cell_type": "code",
   "execution_count": 39,
   "source": [
    "print('Значение RMSE: ',mean_squared_error(target_test, predictions)**0.5)"
   ],
   "outputs": [
    {
     "output_type": "stream",
     "name": "stdout",
     "text": [
      "Значение RMSE:  1923.761139344335\n"
     ]
    }
   ],
   "metadata": {}
  },
  {
   "cell_type": "markdown",
   "source": [
    "Подставляю наилучшие параметры в модель DecisionTreeRegressor:"
   ],
   "metadata": {}
  },
  {
   "cell_type": "code",
   "execution_count": 40,
   "source": [
    "model_tree = DecisionTreeRegressor(random_state=12345, max_depth=13)"
   ],
   "outputs": [],
   "metadata": {}
  },
  {
   "cell_type": "markdown",
   "source": [
    "Узнаю время обучения и предсказания:"
   ],
   "metadata": {}
  },
  {
   "cell_type": "code",
   "execution_count": 41,
   "source": [
    "%%time\r\n",
    "model_tree.fit(features_train_tree, target_train_tree)"
   ],
   "outputs": [
    {
     "output_type": "stream",
     "name": "stdout",
     "text": [
      "CPU times: user 1.31 s, sys: 3.03 ms, total: 1.32 s\n",
      "Wall time: 1.33 s\n"
     ]
    },
    {
     "output_type": "execute_result",
     "data": {
      "text/plain": [
       "DecisionTreeRegressor(criterion='mse', max_depth=13, max_features=None,\n",
       "                      max_leaf_nodes=None, min_impurity_decrease=0.0,\n",
       "                      min_impurity_split=None, min_samples_leaf=1,\n",
       "                      min_samples_split=2, min_weight_fraction_leaf=0.0,\n",
       "                      presort=False, random_state=12345, splitter='best')"
      ]
     },
     "metadata": {},
     "execution_count": 41
    }
   ],
   "metadata": {}
  },
  {
   "cell_type": "code",
   "execution_count": 42,
   "source": [
    "%%time\r\n",
    "predictions_test = model_tree.predict(features_test_tree)"
   ],
   "outputs": [
    {
     "output_type": "stream",
     "name": "stdout",
     "text": [
      "CPU times: user 22.4 ms, sys: 21 µs, total: 22.5 ms\n",
      "Wall time: 21 ms\n"
     ]
    }
   ],
   "metadata": {}
  },
  {
   "cell_type": "markdown",
   "source": [
    "Высчитываю RMSE:"
   ],
   "metadata": {}
  },
  {
   "cell_type": "code",
   "execution_count": 43,
   "source": [
    "print('Значение RMSE: ',mean_squared_error(target_test_tree, predictions_test)**0.5)"
   ],
   "outputs": [
    {
     "output_type": "stream",
     "name": "stdout",
     "text": [
      "Значение RMSE:  2039.0947251787165\n"
     ]
    }
   ],
   "metadata": {}
  },
  {
   "cell_type": "markdown",
   "source": [
    "Объединяю данные в таблицу для наглядности:"
   ],
   "metadata": {}
  },
  {
   "cell_type": "code",
   "execution_count": 49,
   "source": [
    "columns = ['Модель','RMSE','Время обучения','Время предсказания']\r\n",
    "data_time = [['CatBoostRegressor', 1719, '5min 13s', '629ms'],\r\n",
    "             ['LGBMRegressor', 1923, '6min 53s','1.07s'],\r\n",
    "             ['DecisionTreeRegressor', 2039,'1.33s','21ms']]\r\n",
    "import pandas as pd\r\n",
    "display(pd.DataFrame(data=data_time, columns=columns))"
   ],
   "outputs": [
    {
     "output_type": "display_data",
     "data": {
      "text/plain": [
       "                  Модель  RMSE Время обучения Время предсказания\n",
       "0      CatBoostRegressor  1719       5min 13s              629ms\n",
       "1          LGBMRegressor  1923       6min 53s              1.07s\n",
       "2  DecisionTreeRegressor  2039          1.33s               21ms"
      ],
      "text/html": [
       "<div>\n",
       "<style scoped>\n",
       "    .dataframe tbody tr th:only-of-type {\n",
       "        vertical-align: middle;\n",
       "    }\n",
       "\n",
       "    .dataframe tbody tr th {\n",
       "        vertical-align: top;\n",
       "    }\n",
       "\n",
       "    .dataframe thead th {\n",
       "        text-align: right;\n",
       "    }\n",
       "</style>\n",
       "<table border=\"1\" class=\"dataframe\">\n",
       "  <thead>\n",
       "    <tr style=\"text-align: right;\">\n",
       "      <th></th>\n",
       "      <th>Модель</th>\n",
       "      <th>RMSE</th>\n",
       "      <th>Время обучения</th>\n",
       "      <th>Время предсказания</th>\n",
       "    </tr>\n",
       "  </thead>\n",
       "  <tbody>\n",
       "    <tr>\n",
       "      <td>0</td>\n",
       "      <td>CatBoostRegressor</td>\n",
       "      <td>1719</td>\n",
       "      <td>5min 13s</td>\n",
       "      <td>629ms</td>\n",
       "    </tr>\n",
       "    <tr>\n",
       "      <td>1</td>\n",
       "      <td>LGBMRegressor</td>\n",
       "      <td>1923</td>\n",
       "      <td>6min 53s</td>\n",
       "      <td>1.07s</td>\n",
       "    </tr>\n",
       "    <tr>\n",
       "      <td>2</td>\n",
       "      <td>DecisionTreeRegressor</td>\n",
       "      <td>2039</td>\n",
       "      <td>1.33s</td>\n",
       "      <td>21ms</td>\n",
       "    </tr>\n",
       "  </tbody>\n",
       "</table>\n",
       "</div>"
      ]
     },
     "metadata": {}
    }
   ],
   "metadata": {}
  },
  {
   "cell_type": "markdown",
   "source": [
    "## Вывод"
   ],
   "metadata": {}
  },
  {
   "cell_type": "markdown",
   "source": [
    "По итогу лучшее RMSE дала модель CatBoostRegressor, я уверен, что подобных значений можно было добиться и от LGBMRegressor, но у него параметры перебираются больше трёх часов и это просто жесть (в масштабах учебного проекта).\n",
    "\n",
    "Время предсказаний у всех моделей очень малое.\n",
    "\n",
    "Хотя сложно назвать такие значения хорошими, ведь это значит, что модель ошибается на 1700 евро в обе стороны во время предсказаний. С другой стороны у нас очень мало признаков дано изначально, да и сама площадка объявлений позволяет пользователям не заполнять многие поля, в результате чего в начальном этапе я столкнулся с таким большим количеством пропусков в определённых признаках. Всё это негативно сказывается на точности предсказаний."
   ],
   "metadata": {}
  }
 ],
 "metadata": {
  "kernelspec": {
   "display_name": "Python 3",
   "language": "python",
   "name": "python3"
  },
  "language_info": {
   "codemirror_mode": {
    "name": "ipython",
    "version": 3
   },
   "file_extension": ".py",
   "mimetype": "text/x-python",
   "name": "python",
   "nbconvert_exporter": "python",
   "pygments_lexer": "ipython3",
   "version": "3.7.8"
  },
  "toc": {
   "base_numbering": 1,
   "nav_menu": {},
   "number_sections": true,
   "sideBar": true,
   "skip_h1_title": true,
   "title_cell": "Table of Contents",
   "title_sidebar": "Contents",
   "toc_cell": false,
   "toc_position": {},
   "toc_section_display": true,
   "toc_window_display": false
  }
 },
 "nbformat": 4,
 "nbformat_minor": 2
}