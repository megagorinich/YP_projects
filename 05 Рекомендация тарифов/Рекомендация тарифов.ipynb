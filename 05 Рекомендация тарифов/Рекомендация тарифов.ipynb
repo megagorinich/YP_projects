{
 "cells": [
  {
   "cell_type": "markdown",
   "source": [
    "# Рекомендация тарифов"
   ],
   "metadata": {}
  },
  {
   "cell_type": "markdown",
   "source": [
    "В вашем распоряжении данные о поведении клиентов, которые уже перешли на эти тарифы (из проекта курса «Статистический анализ данных»). Нужно построить модель для задачи классификации, которая выберет подходящий тариф. Предобработка данных не понадобится — вы её уже сделали.\n",
    "\n",
    "Постройте модель с максимально большим значением *accuracy*. Чтобы сдать проект успешно, нужно довести долю правильных ответов по крайней мере до 0.75. Проверьте *accuracy* на тестовой выборке самостоятельно."
   ],
   "metadata": {}
  },
  {
   "cell_type": "markdown",
   "source": [
    "## Откройте и изучите файл"
   ],
   "metadata": {}
  },
  {
   "cell_type": "code",
   "execution_count": 1,
   "source": [
    "import pandas as pd\r\n",
    "import numpy as np\r\n",
    "from IPython.display import display\r\n",
    "from sklearn.tree import DecisionTreeClassifier\r\n",
    "from sklearn.ensemble import RandomForestClassifier\r\n",
    "from sklearn.linear_model import LogisticRegression\r\n",
    "from sklearn.metrics import accuracy_score\r\n",
    "from sklearn.model_selection import train_test_split\r\n",
    "from sklearn.dummy import DummyClassifier\r\n",
    "data = pd.read_csv('/datasets/users_behavior.csv')\r\n",
    "display(data.head())\r\n",
    "data.info()"
   ],
   "outputs": [
    {
     "output_type": "display_data",
     "data": {
      "text/plain": [
       "   calls  minutes  messages   mb_used  is_ultra\n",
       "0   40.0   311.90      83.0  19915.42         0\n",
       "1   85.0   516.75      56.0  22696.96         0\n",
       "2   77.0   467.66      86.0  21060.45         0\n",
       "3  106.0   745.53      81.0   8437.39         1\n",
       "4   66.0   418.74       1.0  14502.75         0"
      ],
      "text/html": [
       "<div>\n",
       "<style scoped>\n",
       "    .dataframe tbody tr th:only-of-type {\n",
       "        vertical-align: middle;\n",
       "    }\n",
       "\n",
       "    .dataframe tbody tr th {\n",
       "        vertical-align: top;\n",
       "    }\n",
       "\n",
       "    .dataframe thead th {\n",
       "        text-align: right;\n",
       "    }\n",
       "</style>\n",
       "<table border=\"1\" class=\"dataframe\">\n",
       "  <thead>\n",
       "    <tr style=\"text-align: right;\">\n",
       "      <th></th>\n",
       "      <th>calls</th>\n",
       "      <th>minutes</th>\n",
       "      <th>messages</th>\n",
       "      <th>mb_used</th>\n",
       "      <th>is_ultra</th>\n",
       "    </tr>\n",
       "  </thead>\n",
       "  <tbody>\n",
       "    <tr>\n",
       "      <td>0</td>\n",
       "      <td>40.0</td>\n",
       "      <td>311.90</td>\n",
       "      <td>83.0</td>\n",
       "      <td>19915.42</td>\n",
       "      <td>0</td>\n",
       "    </tr>\n",
       "    <tr>\n",
       "      <td>1</td>\n",
       "      <td>85.0</td>\n",
       "      <td>516.75</td>\n",
       "      <td>56.0</td>\n",
       "      <td>22696.96</td>\n",
       "      <td>0</td>\n",
       "    </tr>\n",
       "    <tr>\n",
       "      <td>2</td>\n",
       "      <td>77.0</td>\n",
       "      <td>467.66</td>\n",
       "      <td>86.0</td>\n",
       "      <td>21060.45</td>\n",
       "      <td>0</td>\n",
       "    </tr>\n",
       "    <tr>\n",
       "      <td>3</td>\n",
       "      <td>106.0</td>\n",
       "      <td>745.53</td>\n",
       "      <td>81.0</td>\n",
       "      <td>8437.39</td>\n",
       "      <td>1</td>\n",
       "    </tr>\n",
       "    <tr>\n",
       "      <td>4</td>\n",
       "      <td>66.0</td>\n",
       "      <td>418.74</td>\n",
       "      <td>1.0</td>\n",
       "      <td>14502.75</td>\n",
       "      <td>0</td>\n",
       "    </tr>\n",
       "  </tbody>\n",
       "</table>\n",
       "</div>"
      ]
     },
     "metadata": {}
    },
    {
     "output_type": "stream",
     "name": "stdout",
     "text": [
      "<class 'pandas.core.frame.DataFrame'>\n",
      "RangeIndex: 3214 entries, 0 to 3213\n",
      "Data columns (total 5 columns):\n",
      "calls       3214 non-null float64\n",
      "minutes     3214 non-null float64\n",
      "messages    3214 non-null float64\n",
      "mb_used     3214 non-null float64\n",
      "is_ultra    3214 non-null int64\n",
      "dtypes: float64(4), int64(1)\n",
      "memory usage: 125.7 KB\n"
     ]
    }
   ],
   "metadata": {}
  },
  {
   "cell_type": "markdown",
   "source": [
    "## Вывод:"
   ],
   "metadata": {}
  },
  {
   "cell_type": "markdown",
   "source": [
    "Мне дана таблица на `3214` объектов и `5` признаков.\n",
    "\n",
    "Таблица без пропусков, типы данных соответствуют.\n",
    "\n",
    "Целевой признак - `is_ultra`\n",
    "\n",
    "Целевой признак категориальный, категорий всего 2, тоесть это бинарная классификация.\n",
    "\n",
    "`calls, minutes, messages, mb_used` - признаки"
   ],
   "metadata": {}
  },
  {
   "cell_type": "markdown",
   "source": [
    "## Разбейте данные на выборки"
   ],
   "metadata": {}
  },
  {
   "cell_type": "code",
   "execution_count": 2,
   "source": [
    "data_train, data_valid, data_test = np.split(data, [int(.6*len(data)), int(.8*len(data))])\r\n",
    "\r\n",
    "print(\"Размер обучающей выборки:\", data_train.shape)\r\n",
    "print(\"Размер валидационной выборки:\", data_valid.shape)\r\n",
    "print(\"Размер тестовой выборки:\", data_test.shape)"
   ],
   "outputs": [
    {
     "output_type": "stream",
     "name": "stdout",
     "text": [
      "Размер обучающей выборки: (1928, 5)\n",
      "Размер валидационной выборки: (643, 5)\n",
      "Размер тестовой выборки: (643, 5)\n"
     ]
    }
   ],
   "metadata": {}
  },
  {
   "cell_type": "code",
   "execution_count": 3,
   "source": [
    "features_train = data_train.drop(['is_ultra'], axis=1)\r\n",
    "target_train = data_train['is_ultra']\r\n",
    "\r\n",
    "features_valid = data_valid.drop(['is_ultra'], axis=1)\r\n",
    "target_valid = data_valid['is_ultra']\r\n",
    "\r\n",
    "features_test = data_test.drop(['is_ultra'], axis=1)\r\n",
    "target_test = data_test['is_ultra'] "
   ],
   "outputs": [],
   "metadata": {}
  },
  {
   "cell_type": "markdown",
   "source": [
    "## Вывод:"
   ],
   "metadata": {}
  },
  {
   "cell_type": "markdown",
   "source": [
    "В данном шаге я разбил данные на 3 выборки размерами `60%, 20%, 20%`.\n",
    "\n",
    "Далее из всех 3 выборок выделяю признаки и записываю во `features_` и целевой признак и записываю его в `target_`."
   ],
   "metadata": {}
  },
  {
   "cell_type": "markdown",
   "source": [
    "## Исследуйте модели"
   ],
   "metadata": {}
  },
  {
   "cell_type": "code",
   "execution_count": 4,
   "source": [
    "best_depth = 0\r\n",
    "max_result = 0\r\n",
    "for depth in range(1, 11):\r\n",
    "    model_tree = DecisionTreeClassifier(random_state=12345, max_depth=depth)\r\n",
    "    model_tree.fit(features_train, target_train)\r\n",
    "    predictions_valid = model_tree.predict(features_valid)\r\n",
    "    result = accuracy_score(target_valid, predictions_valid)\r\n",
    "    if result > max_result:\r\n",
    "        best_depth = depth\r\n",
    "        max_result = result\r\n",
    "print('max_depth:', best_depth)\r\n",
    "print('accuracy:', max_result) "
   ],
   "outputs": [
    {
     "output_type": "stream",
     "name": "stdout",
     "text": [
      "max_depth: 9\n",
      "accuracy: 0.8133748055987559\n"
     ]
    }
   ],
   "metadata": {}
  },
  {
   "cell_type": "markdown",
   "source": [
    "Я начал с обучения модели дерева решений.\n",
    "\n",
    "Наибольшее значение `accuracy` стал искать, меняя параметр `max_depth` в диапазоне `1-10`.\n",
    "\n",
    "Установил: если значение параметра меньше 9, то модель недообучается и если больше 9, то переобучается."
   ],
   "metadata": {}
  },
  {
   "cell_type": "code",
   "execution_count": 5,
   "source": [
    "best_est = 0\r\n",
    "max_result = 0\r\n",
    "for est in range(70, 81):\r\n",
    "    model_forest = RandomForestClassifier(random_state=12345, n_estimators=est)\r\n",
    "    model_forest.fit(features_train, target_train)\r\n",
    "    predictions_valid = model_forest.predict(features_valid)\r\n",
    "    result = accuracy_score(target_valid, predictions_valid)\r\n",
    "    if result > max_result:\r\n",
    "        max_result = result\r\n",
    "        best_est = est\r\n",
    "print('n_estimators:', best_est)\r\n",
    "print('accuracy:', max_result) "
   ],
   "outputs": [
    {
     "output_type": "stream",
     "name": "stdout",
     "text": [
      "n_estimators: 73\n",
      "accuracy: 0.8133748055987559\n"
     ]
    }
   ],
   "metadata": {}
  },
  {
   "cell_type": "markdown",
   "source": [
    "Далее идёт модель случайного леса.\n",
    "\n",
    "Изначально параметр `n_estimators` я искал в диапазоне от `1 до 500` и нашёл максимальное `accuracy` при `n_estimators=73`, далее для уменьшения времени на вычисления я сузил границы от `70 до 80`.\n",
    "\n",
    "Значение `accuracy` полностью соответствует значению модели дерева решений, но по скорости сильно ей уступает."
   ],
   "metadata": {}
  },
  {
   "cell_type": "code",
   "execution_count": 6,
   "source": [
    "model_logreg = LogisticRegression(random_state=12345)\r\n",
    "model_logreg.fit(features_train, target_train)\r\n",
    "predictions_valid = model_logreg.predict(features_valid)\r\n",
    "result = accuracy_score(target_valid, predictions_valid)\r\n",
    "print('accuracy:', result)"
   ],
   "outputs": [
    {
     "output_type": "stream",
     "name": "stdout",
     "text": [
      "accuracy: 0.7527216174183515\n"
     ]
    },
    {
     "output_type": "stream",
     "name": "stderr",
     "text": [
      "/opt/conda/lib/python3.7/site-packages/sklearn/linear_model/logistic.py:432: FutureWarning: Default solver will be changed to 'lbfgs' in 0.22. Specify a solver to silence this warning.\n",
      "  FutureWarning)\n"
     ]
    }
   ],
   "metadata": {}
  },
  {
   "cell_type": "markdown",
   "source": [
    "Модель номер 3 - логистическая регрессия.\n",
    "\n",
    "Значение accuracy получилось минимальное среди трёх моделей, но скорость работы выше всего."
   ],
   "metadata": {}
  },
  {
   "cell_type": "markdown",
   "source": [
    "## Вывод:"
   ],
   "metadata": {}
  },
  {
   "cell_type": "markdown",
   "source": [
    "После обучения трёх моделей видно, что наиболее точны модель дерева решений и модель случайного леса, а по скорости работы модели распределились в следующем порядке: логистическая регрессия, дерево решений, случайный лес.\n",
    "\n",
    "Из всего этого делаю вывод, что наиболее удачная - модель дерева решений."
   ],
   "metadata": {}
  },
  {
   "cell_type": "markdown",
   "source": [
    "## Проверьте модель на тестовой выборке"
   ],
   "metadata": {}
  },
  {
   "cell_type": "code",
   "execution_count": 7,
   "source": [
    "model_tree = DecisionTreeClassifier(random_state=12345, max_depth=9)\r\n",
    "model_tree.fit(features_train, target_train)\r\n",
    "predictions_test = model_tree.predict(features_test)\r\n",
    "result = accuracy_score(target_test, predictions_test)\r\n",
    "print('accuracy:', result)"
   ],
   "outputs": [
    {
     "output_type": "stream",
     "name": "stdout",
     "text": [
      "accuracy: 0.7993779160186625\n"
     ]
    }
   ],
   "metadata": {}
  },
  {
   "cell_type": "code",
   "execution_count": 8,
   "source": [
    "model_forest = RandomForestClassifier(random_state=12345, n_estimators=73)\r\n",
    "model_forest.fit(features_train, target_train)\r\n",
    "predictions_test = model_forest.predict(features_test)\r\n",
    "result = accuracy_score(target_test, predictions_test)\r\n",
    "print('accuracy:', result)"
   ],
   "outputs": [
    {
     "output_type": "stream",
     "name": "stdout",
     "text": [
      "accuracy: 0.8040435458786936\n"
     ]
    }
   ],
   "metadata": {}
  },
  {
   "cell_type": "code",
   "execution_count": 9,
   "source": [
    "predictions_test = model_logreg.predict(features_test)\r\n",
    "result = accuracy_score(target_test, predictions_test)\r\n",
    "print('accuracy:', result)"
   ],
   "outputs": [
    {
     "output_type": "stream",
     "name": "stdout",
     "text": [
      "accuracy: 0.7293934681181959\n"
     ]
    }
   ],
   "metadata": {}
  },
  {
   "cell_type": "markdown",
   "source": [
    "## Вывод:"
   ],
   "metadata": {}
  },
  {
   "cell_type": "markdown",
   "source": [
    "По всей видимости, в предыдущем шаге я поспешил с выводами и, не смотря на меньшую скорость работы, в тестовых испытаниях наибольшую точность показала модель случайного леса, тоесть теперь очевидно, что лучшая модель для точности - случайный лес, для скорости и точности - дерево решений."
   ],
   "metadata": {}
  },
  {
   "cell_type": "markdown",
   "source": [
    "## (бонус) Проверьте модели на адекватность"
   ],
   "metadata": {}
  },
  {
   "cell_type": "code",
   "execution_count": 11,
   "source": [
    "model_dummy = DummyClassifier(random_state=12345, strategy='uniform')\r\n",
    "model_dummy.fit(features_train, target_train)\r\n",
    "\r\n",
    "predictions_valid = model_dummy.predict(features_valid)\r\n",
    "result_valid = accuracy_score(target_valid, predictions_valid)\r\n",
    "print('accuracy valid:', result_valid)\r\n",
    "\r\n",
    "predictions_test = model_dummy.predict(features_test)\r\n",
    "result_test = accuracy_score(target_test, predictions_test)\r\n",
    "print('accuracy test:', result_test)"
   ],
   "outputs": [
    {
     "output_type": "stream",
     "name": "stdout",
     "text": [
      "accuracy valid: 0.49455676516329705\n",
      "accuracy test: 0.5116640746500778\n"
     ]
    }
   ],
   "metadata": {}
  },
  {
   "cell_type": "markdown",
   "source": [
    "Для сравнения с моделями я выбрал тривиальную модель `uniform`.\n",
    "\n",
    "Получил сильно меньшие, чем у моих моделей значения и для валидационной выборки и для тестовой выборки.\n",
    "\n",
    "Это говорит, что мои модели прошли проверку на адекватность, ведь значения получены большие, чем от тривиальной."
   ],
   "metadata": {}
  },
  {
   "cell_type": "markdown",
   "source": [
    "## Вывод:"
   ],
   "metadata": {}
  },
  {
   "cell_type": "markdown",
   "source": [
    "В общем делаю следующий вывод, что по условию требовалась модель с точностью ответов не ниже 0.75, следовательно прошли модель дерева решений и модель случайного леса.\n",
    "\n",
    "Следующее условие - модель должна быть адекватна, и с этим условием справились уже все 3 модели.\n",
    "\n",
    "Accuracy на тестовой выборке показала для всех трёх моделей снижение качества предсказаний в сравнении с валидационной выборкой.\n",
    "\n",
    "В итоге получаем 2 хорошие модели из трёх, а дальше уже нужно плясать от требований заказчиков, если нужна скорость, то это дерево решений, если важна максимальная точность - это случайный лес."
   ],
   "metadata": {}
  }
 ],
 "metadata": {
  "kernelspec": {
   "display_name": "Python 3",
   "language": "python",
   "name": "python3"
  },
  "language_info": {
   "codemirror_mode": {
    "name": "ipython",
    "version": 3
   },
   "file_extension": ".py",
   "mimetype": "text/x-python",
   "name": "python",
   "nbconvert_exporter": "python",
   "pygments_lexer": "ipython3",
   "version": "3.7.8"
  },
  "toc": {
   "base_numbering": 1,
   "nav_menu": {},
   "number_sections": true,
   "sideBar": true,
   "skip_h1_title": true,
   "title_cell": "Table of Contents",
   "title_sidebar": "Contents",
   "toc_cell": false,
   "toc_position": {},
   "toc_section_display": true,
   "toc_window_display": false
  }
 },
 "nbformat": 4,
 "nbformat_minor": 2
}