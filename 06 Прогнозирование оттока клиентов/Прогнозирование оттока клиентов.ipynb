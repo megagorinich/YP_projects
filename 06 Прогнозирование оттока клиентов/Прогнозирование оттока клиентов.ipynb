{
 "cells": [
  {
   "cell_type": "markdown",
   "source": [
    "# Отток клиентов"
   ],
   "metadata": {}
  },
  {
   "cell_type": "markdown",
   "source": [
    "Из «Бета-Банка» стали уходить клиенты. Каждый месяц. Немного, но заметно. Банковские маркетологи посчитали: сохранять текущих клиентов дешевле, чем привлекать новых.\n",
    "\n",
    "Нужно спрогнозировать, уйдёт клиент из банка в ближайшее время или нет. Вам предоставлены исторические данные о поведении клиентов и расторжении договоров с банком. \n",
    "\n",
    "Постройте модель с предельно большим значением *F1*-меры. Чтобы сдать проект успешно, нужно довести метрику до 0.59. Проверьте *F1*-меру на тестовой выборке самостоятельно.\n",
    "\n",
    "Дополнительно измеряйте *AUC-ROC*, сравнивайте её значение с *F1*-мерой.\n",
    "\n",
    "Источник данных: [https://www.kaggle.com/barelydedicated/bank-customer-churn-modeling](https://www.kaggle.com/barelydedicated/bank-customer-churn-modeling)"
   ],
   "metadata": {}
  },
  {
   "cell_type": "markdown",
   "source": [
    "# 1. Подготовка данных"
   ],
   "metadata": {}
  },
  {
   "cell_type": "code",
   "execution_count": 1,
   "source": [
    "import pandas as pd\r\n",
    "from IPython.display import display\r\n",
    "import matplotlib.pyplot as plt\r\n",
    "from sklearn.preprocessing import OrdinalEncoder\r\n",
    "from sklearn.preprocessing import StandardScaler \r\n",
    "from sklearn.model_selection import train_test_split\r\n",
    "from sklearn.tree import DecisionTreeClassifier\r\n",
    "from sklearn.ensemble import RandomForestClassifier\r\n",
    "from sklearn.metrics import f1_score\r\n",
    "import numpy as np\r\n",
    "from sklearn.utils import shuffle\r\n",
    "from sklearn.metrics import roc_auc_score\r\n",
    "\r\n",
    "pd.options.mode.chained_assignment = None"
   ],
   "outputs": [],
   "metadata": {}
  },
  {
   "cell_type": "code",
   "execution_count": 2,
   "source": [
    "data = pd.read_csv('/datasets/Churn.csv')\r\n",
    "data.info()\r\n",
    "display(data.head())"
   ],
   "outputs": [
    {
     "output_type": "stream",
     "name": "stdout",
     "text": [
      "<class 'pandas.core.frame.DataFrame'>\n",
      "RangeIndex: 10000 entries, 0 to 9999\n",
      "Data columns (total 14 columns):\n",
      "RowNumber          10000 non-null int64\n",
      "CustomerId         10000 non-null int64\n",
      "Surname            10000 non-null object\n",
      "CreditScore        10000 non-null int64\n",
      "Geography          10000 non-null object\n",
      "Gender             10000 non-null object\n",
      "Age                10000 non-null int64\n",
      "Tenure             9091 non-null float64\n",
      "Balance            10000 non-null float64\n",
      "NumOfProducts      10000 non-null int64\n",
      "HasCrCard          10000 non-null int64\n",
      "IsActiveMember     10000 non-null int64\n",
      "EstimatedSalary    10000 non-null float64\n",
      "Exited             10000 non-null int64\n",
      "dtypes: float64(3), int64(8), object(3)\n",
      "memory usage: 1.1+ MB\n"
     ]
    },
    {
     "output_type": "display_data",
     "data": {
      "text/plain": [
       "   RowNumber  CustomerId   Surname  CreditScore Geography  Gender  Age  \\\n",
       "0          1    15634602  Hargrave          619    France  Female   42   \n",
       "1          2    15647311      Hill          608     Spain  Female   41   \n",
       "2          3    15619304      Onio          502    France  Female   42   \n",
       "3          4    15701354      Boni          699    France  Female   39   \n",
       "4          5    15737888  Mitchell          850     Spain  Female   43   \n",
       "\n",
       "   Tenure    Balance  NumOfProducts  HasCrCard  IsActiveMember  \\\n",
       "0     2.0       0.00              1          1               1   \n",
       "1     1.0   83807.86              1          0               1   \n",
       "2     8.0  159660.80              3          1               0   \n",
       "3     1.0       0.00              2          0               0   \n",
       "4     2.0  125510.82              1          1               1   \n",
       "\n",
       "   EstimatedSalary  Exited  \n",
       "0        101348.88       1  \n",
       "1        112542.58       0  \n",
       "2        113931.57       1  \n",
       "3         93826.63       0  \n",
       "4         79084.10       0  "
      ],
      "text/html": [
       "<div>\n",
       "<style scoped>\n",
       "    .dataframe tbody tr th:only-of-type {\n",
       "        vertical-align: middle;\n",
       "    }\n",
       "\n",
       "    .dataframe tbody tr th {\n",
       "        vertical-align: top;\n",
       "    }\n",
       "\n",
       "    .dataframe thead th {\n",
       "        text-align: right;\n",
       "    }\n",
       "</style>\n",
       "<table border=\"1\" class=\"dataframe\">\n",
       "  <thead>\n",
       "    <tr style=\"text-align: right;\">\n",
       "      <th></th>\n",
       "      <th>RowNumber</th>\n",
       "      <th>CustomerId</th>\n",
       "      <th>Surname</th>\n",
       "      <th>CreditScore</th>\n",
       "      <th>Geography</th>\n",
       "      <th>Gender</th>\n",
       "      <th>Age</th>\n",
       "      <th>Tenure</th>\n",
       "      <th>Balance</th>\n",
       "      <th>NumOfProducts</th>\n",
       "      <th>HasCrCard</th>\n",
       "      <th>IsActiveMember</th>\n",
       "      <th>EstimatedSalary</th>\n",
       "      <th>Exited</th>\n",
       "    </tr>\n",
       "  </thead>\n",
       "  <tbody>\n",
       "    <tr>\n",
       "      <td>0</td>\n",
       "      <td>1</td>\n",
       "      <td>15634602</td>\n",
       "      <td>Hargrave</td>\n",
       "      <td>619</td>\n",
       "      <td>France</td>\n",
       "      <td>Female</td>\n",
       "      <td>42</td>\n",
       "      <td>2.0</td>\n",
       "      <td>0.00</td>\n",
       "      <td>1</td>\n",
       "      <td>1</td>\n",
       "      <td>1</td>\n",
       "      <td>101348.88</td>\n",
       "      <td>1</td>\n",
       "    </tr>\n",
       "    <tr>\n",
       "      <td>1</td>\n",
       "      <td>2</td>\n",
       "      <td>15647311</td>\n",
       "      <td>Hill</td>\n",
       "      <td>608</td>\n",
       "      <td>Spain</td>\n",
       "      <td>Female</td>\n",
       "      <td>41</td>\n",
       "      <td>1.0</td>\n",
       "      <td>83807.86</td>\n",
       "      <td>1</td>\n",
       "      <td>0</td>\n",
       "      <td>1</td>\n",
       "      <td>112542.58</td>\n",
       "      <td>0</td>\n",
       "    </tr>\n",
       "    <tr>\n",
       "      <td>2</td>\n",
       "      <td>3</td>\n",
       "      <td>15619304</td>\n",
       "      <td>Onio</td>\n",
       "      <td>502</td>\n",
       "      <td>France</td>\n",
       "      <td>Female</td>\n",
       "      <td>42</td>\n",
       "      <td>8.0</td>\n",
       "      <td>159660.80</td>\n",
       "      <td>3</td>\n",
       "      <td>1</td>\n",
       "      <td>0</td>\n",
       "      <td>113931.57</td>\n",
       "      <td>1</td>\n",
       "    </tr>\n",
       "    <tr>\n",
       "      <td>3</td>\n",
       "      <td>4</td>\n",
       "      <td>15701354</td>\n",
       "      <td>Boni</td>\n",
       "      <td>699</td>\n",
       "      <td>France</td>\n",
       "      <td>Female</td>\n",
       "      <td>39</td>\n",
       "      <td>1.0</td>\n",
       "      <td>0.00</td>\n",
       "      <td>2</td>\n",
       "      <td>0</td>\n",
       "      <td>0</td>\n",
       "      <td>93826.63</td>\n",
       "      <td>0</td>\n",
       "    </tr>\n",
       "    <tr>\n",
       "      <td>4</td>\n",
       "      <td>5</td>\n",
       "      <td>15737888</td>\n",
       "      <td>Mitchell</td>\n",
       "      <td>850</td>\n",
       "      <td>Spain</td>\n",
       "      <td>Female</td>\n",
       "      <td>43</td>\n",
       "      <td>2.0</td>\n",
       "      <td>125510.82</td>\n",
       "      <td>1</td>\n",
       "      <td>1</td>\n",
       "      <td>1</td>\n",
       "      <td>79084.10</td>\n",
       "      <td>0</td>\n",
       "    </tr>\n",
       "  </tbody>\n",
       "</table>\n",
       "</div>"
      ]
     },
     "metadata": {}
    }
   ],
   "metadata": {}
  },
  {
   "cell_type": "markdown",
   "source": [
    "Вцелом, с данными всё в порядке, за исключением столбца `Tenure`, здесь есть недостающие значения."
   ],
   "metadata": {}
  },
  {
   "cell_type": "code",
   "execution_count": 3,
   "source": [
    "data['Tenure'].unique()"
   ],
   "outputs": [
    {
     "output_type": "execute_result",
     "data": {
      "text/plain": [
       "array([ 2.,  1.,  8.,  7.,  4.,  6.,  3., 10.,  5.,  9.,  0., nan])"
      ]
     },
     "metadata": {},
     "execution_count": 3
    }
   ],
   "metadata": {}
  },
  {
   "cell_type": "markdown",
   "source": [
    "Видно, что имеются значения `NaN и 0`. В итоге заменю `NaN` на `нули`, так как, скорее всего, отсутствие значения означает отсутствие недвижимости."
   ],
   "metadata": {}
  },
  {
   "cell_type": "code",
   "execution_count": 4,
   "source": [
    "data['Tenure'] = data['Tenure'].fillna(0)\r\n",
    "\r\n",
    "data.info()"
   ],
   "outputs": [
    {
     "output_type": "stream",
     "name": "stdout",
     "text": [
      "<class 'pandas.core.frame.DataFrame'>\n",
      "RangeIndex: 10000 entries, 0 to 9999\n",
      "Data columns (total 14 columns):\n",
      "RowNumber          10000 non-null int64\n",
      "CustomerId         10000 non-null int64\n",
      "Surname            10000 non-null object\n",
      "CreditScore        10000 non-null int64\n",
      "Geography          10000 non-null object\n",
      "Gender             10000 non-null object\n",
      "Age                10000 non-null int64\n",
      "Tenure             10000 non-null float64\n",
      "Balance            10000 non-null float64\n",
      "NumOfProducts      10000 non-null int64\n",
      "HasCrCard          10000 non-null int64\n",
      "IsActiveMember     10000 non-null int64\n",
      "EstimatedSalary    10000 non-null float64\n",
      "Exited             10000 non-null int64\n",
      "dtypes: float64(3), int64(8), object(3)\n",
      "memory usage: 1.1+ MB\n"
     ]
    }
   ],
   "metadata": {}
  },
  {
   "cell_type": "markdown",
   "source": [
    "Далее мне необходимо закодировать цифрами выраженные в тексте категории, и так как я буду использовать `модель случайного леса` и `дерево решений`, то это `Ordinal Encoding`."
   ],
   "metadata": {}
  },
  {
   "cell_type": "code",
   "execution_count": 5,
   "source": [
    "encoder = OrdinalEncoder()\r\n",
    "data_ordinal = data[['Surname', 'Geography', 'Gender']]\r\n",
    "data_ordinal = pd.DataFrame(encoder.fit_transform(data_ordinal), columns=data_ordinal.columns)\r\n",
    "data[['Surname', 'Geography', 'Gender']] = data_ordinal[['Surname', 'Geography', 'Gender']]\r\n",
    "display(data.head())\r\n",
    "data.info()"
   ],
   "outputs": [
    {
     "output_type": "display_data",
     "data": {
      "text/plain": [
       "   RowNumber  CustomerId  Surname  CreditScore  Geography  Gender  Age  \\\n",
       "0          1    15634602   1115.0          619        0.0     0.0   42   \n",
       "1          2    15647311   1177.0          608        2.0     0.0   41   \n",
       "2          3    15619304   2040.0          502        0.0     0.0   42   \n",
       "3          4    15701354    289.0          699        0.0     0.0   39   \n",
       "4          5    15737888   1822.0          850        2.0     0.0   43   \n",
       "\n",
       "   Tenure    Balance  NumOfProducts  HasCrCard  IsActiveMember  \\\n",
       "0     2.0       0.00              1          1               1   \n",
       "1     1.0   83807.86              1          0               1   \n",
       "2     8.0  159660.80              3          1               0   \n",
       "3     1.0       0.00              2          0               0   \n",
       "4     2.0  125510.82              1          1               1   \n",
       "\n",
       "   EstimatedSalary  Exited  \n",
       "0        101348.88       1  \n",
       "1        112542.58       0  \n",
       "2        113931.57       1  \n",
       "3         93826.63       0  \n",
       "4         79084.10       0  "
      ],
      "text/html": [
       "<div>\n",
       "<style scoped>\n",
       "    .dataframe tbody tr th:only-of-type {\n",
       "        vertical-align: middle;\n",
       "    }\n",
       "\n",
       "    .dataframe tbody tr th {\n",
       "        vertical-align: top;\n",
       "    }\n",
       "\n",
       "    .dataframe thead th {\n",
       "        text-align: right;\n",
       "    }\n",
       "</style>\n",
       "<table border=\"1\" class=\"dataframe\">\n",
       "  <thead>\n",
       "    <tr style=\"text-align: right;\">\n",
       "      <th></th>\n",
       "      <th>RowNumber</th>\n",
       "      <th>CustomerId</th>\n",
       "      <th>Surname</th>\n",
       "      <th>CreditScore</th>\n",
       "      <th>Geography</th>\n",
       "      <th>Gender</th>\n",
       "      <th>Age</th>\n",
       "      <th>Tenure</th>\n",
       "      <th>Balance</th>\n",
       "      <th>NumOfProducts</th>\n",
       "      <th>HasCrCard</th>\n",
       "      <th>IsActiveMember</th>\n",
       "      <th>EstimatedSalary</th>\n",
       "      <th>Exited</th>\n",
       "    </tr>\n",
       "  </thead>\n",
       "  <tbody>\n",
       "    <tr>\n",
       "      <td>0</td>\n",
       "      <td>1</td>\n",
       "      <td>15634602</td>\n",
       "      <td>1115.0</td>\n",
       "      <td>619</td>\n",
       "      <td>0.0</td>\n",
       "      <td>0.0</td>\n",
       "      <td>42</td>\n",
       "      <td>2.0</td>\n",
       "      <td>0.00</td>\n",
       "      <td>1</td>\n",
       "      <td>1</td>\n",
       "      <td>1</td>\n",
       "      <td>101348.88</td>\n",
       "      <td>1</td>\n",
       "    </tr>\n",
       "    <tr>\n",
       "      <td>1</td>\n",
       "      <td>2</td>\n",
       "      <td>15647311</td>\n",
       "      <td>1177.0</td>\n",
       "      <td>608</td>\n",
       "      <td>2.0</td>\n",
       "      <td>0.0</td>\n",
       "      <td>41</td>\n",
       "      <td>1.0</td>\n",
       "      <td>83807.86</td>\n",
       "      <td>1</td>\n",
       "      <td>0</td>\n",
       "      <td>1</td>\n",
       "      <td>112542.58</td>\n",
       "      <td>0</td>\n",
       "    </tr>\n",
       "    <tr>\n",
       "      <td>2</td>\n",
       "      <td>3</td>\n",
       "      <td>15619304</td>\n",
       "      <td>2040.0</td>\n",
       "      <td>502</td>\n",
       "      <td>0.0</td>\n",
       "      <td>0.0</td>\n",
       "      <td>42</td>\n",
       "      <td>8.0</td>\n",
       "      <td>159660.80</td>\n",
       "      <td>3</td>\n",
       "      <td>1</td>\n",
       "      <td>0</td>\n",
       "      <td>113931.57</td>\n",
       "      <td>1</td>\n",
       "    </tr>\n",
       "    <tr>\n",
       "      <td>3</td>\n",
       "      <td>4</td>\n",
       "      <td>15701354</td>\n",
       "      <td>289.0</td>\n",
       "      <td>699</td>\n",
       "      <td>0.0</td>\n",
       "      <td>0.0</td>\n",
       "      <td>39</td>\n",
       "      <td>1.0</td>\n",
       "      <td>0.00</td>\n",
       "      <td>2</td>\n",
       "      <td>0</td>\n",
       "      <td>0</td>\n",
       "      <td>93826.63</td>\n",
       "      <td>0</td>\n",
       "    </tr>\n",
       "    <tr>\n",
       "      <td>4</td>\n",
       "      <td>5</td>\n",
       "      <td>15737888</td>\n",
       "      <td>1822.0</td>\n",
       "      <td>850</td>\n",
       "      <td>2.0</td>\n",
       "      <td>0.0</td>\n",
       "      <td>43</td>\n",
       "      <td>2.0</td>\n",
       "      <td>125510.82</td>\n",
       "      <td>1</td>\n",
       "      <td>1</td>\n",
       "      <td>1</td>\n",
       "      <td>79084.10</td>\n",
       "      <td>0</td>\n",
       "    </tr>\n",
       "  </tbody>\n",
       "</table>\n",
       "</div>"
      ]
     },
     "metadata": {}
    },
    {
     "output_type": "stream",
     "name": "stdout",
     "text": [
      "<class 'pandas.core.frame.DataFrame'>\n",
      "RangeIndex: 10000 entries, 0 to 9999\n",
      "Data columns (total 14 columns):\n",
      "RowNumber          10000 non-null int64\n",
      "CustomerId         10000 non-null int64\n",
      "Surname            10000 non-null float64\n",
      "CreditScore        10000 non-null int64\n",
      "Geography          10000 non-null float64\n",
      "Gender             10000 non-null float64\n",
      "Age                10000 non-null int64\n",
      "Tenure             10000 non-null float64\n",
      "Balance            10000 non-null float64\n",
      "NumOfProducts      10000 non-null int64\n",
      "HasCrCard          10000 non-null int64\n",
      "IsActiveMember     10000 non-null int64\n",
      "EstimatedSalary    10000 non-null float64\n",
      "Exited             10000 non-null int64\n",
      "dtypes: float64(6), int64(8)\n",
      "memory usage: 1.1 MB\n"
     ]
    }
   ],
   "metadata": {}
  },
  {
   "cell_type": "markdown",
   "source": [
    "Закодировались столбцы `'Surname', 'Geography', 'Gender'`"
   ],
   "metadata": {}
  },
  {
   "cell_type": "markdown",
   "source": [
    "Теперь необходимо разбить данные на 3 выборки."
   ],
   "metadata": {}
  },
  {
   "cell_type": "code",
   "execution_count": 6,
   "source": [
    "data_train, data_valid, data_test = np.split(data, [int(.6*len(data)), int(.8*len(data))])\r\n",
    "\r\n",
    "print(\"Размер обучающей выборки:\", data_train.shape)\r\n",
    "print(\"Размер валидационной выборки:\", data_valid.shape)\r\n",
    "print(\"Размер тестовой выборки:\", data_test.shape)\r\n",
    "\r\n",
    "print('Проверка соотношения значений в столбце \"Exited\" в исходной таблице: ', data['Exited'].value_counts(normalize=True))\r\n",
    "print('Тренировачная выборка:', data_train['Exited'].value_counts(normalize=True))\r\n",
    "print('Валидационная выборка:', data_valid['Exited'].value_counts(normalize=True))\r\n",
    "print('Тестовая выборка:', data_test['Exited'].value_counts(normalize=True))"
   ],
   "outputs": [
    {
     "output_type": "stream",
     "name": "stdout",
     "text": [
      "Размер обучающей выборки: (6000, 14)\n",
      "Размер валидационной выборки: (2000, 14)\n",
      "Размер тестовой выборки: (2000, 14)\n",
      "Проверка соотношения значений в столбце \"Exited\" в исходной таблице:  0    0.7963\n",
      "1    0.2037\n",
      "Name: Exited, dtype: float64\n",
      "Тренировачная выборка: 0    0.791833\n",
      "1    0.208167\n",
      "Name: Exited, dtype: float64\n",
      "Валидационная выборка: 0    0.801\n",
      "1    0.199\n",
      "Name: Exited, dtype: float64\n",
      "Тестовая выборка: 0    0.805\n",
      "1    0.195\n",
      "Name: Exited, dtype: float64\n"
     ]
    }
   ],
   "metadata": {}
  },
  {
   "cell_type": "markdown",
   "source": [
    "Видно, что соотношение сохранено."
   ],
   "metadata": {}
  },
  {
   "cell_type": "code",
   "execution_count": 7,
   "source": [
    "features_train = data_train.drop(['CustomerId', 'Surname', 'Exited', 'RowNumber'], axis=1)\r\n",
    "target_train = data_train['Exited']\r\n",
    "\r\n",
    "features_valid = data_valid.drop(['CustomerId', 'Surname', 'Exited', 'RowNumber'], axis=1)\r\n",
    "target_valid = data_valid['Exited']\r\n",
    "\r\n",
    "features_test = data_test.drop(['CustomerId', 'Surname', 'Exited', 'RowNumber'], axis=1)\r\n",
    "target_test = data_test['Exited']"
   ],
   "outputs": [],
   "metadata": {}
  },
  {
   "cell_type": "markdown",
   "source": [
    "Определил, что войдёт в признаки `('Geography', 'Gender', 'CreditScore', 'Age', 'Tenure', 'Balance', 'NumOfProducts', 'HasCrCard', 'IsActiveMember', 'EstimatedSalary')`, а что в целевой признак `('Exited')`.\n",
    "\n",
    "Сейчас надо сделать масштабирование признаков."
   ],
   "metadata": {}
  },
  {
   "cell_type": "code",
   "execution_count": 8,
   "source": [
    "numeric = ['Geography', 'Gender', 'CreditScore', 'Age', 'Tenure', 'Balance', 'NumOfProducts', 'HasCrCard', 'IsActiveMember', 'EstimatedSalary']\r\n",
    "\r\n",
    "scaler = StandardScaler()\r\n",
    "scaler.fit(features_train[numeric])\r\n",
    "features_train[numeric] = scaler.transform(features_train[numeric])\r\n",
    "features_valid[numeric] = scaler.transform(features_valid[numeric])\r\n",
    "features_test[numeric] = scaler.transform(features_test[numeric])\r\n",
    "\r\n",
    "display(features_train.head())"
   ],
   "outputs": [
    {
     "output_type": "display_data",
     "data": {
      "text/plain": [
       "   CreditScore  Geography   Gender       Age    Tenure   Balance  \\\n",
       "0    -0.328324  -0.902929 -1.08202  0.290799 -0.819330 -1.227573   \n",
       "1    -0.441607   1.505952 -1.08202  0.195849 -1.140952  0.116434   \n",
       "2    -1.533246  -0.902929 -1.08202  0.290799  1.110398  1.332870   \n",
       "3     0.495554  -0.902929 -1.08202  0.005950 -1.140952 -1.227573   \n",
       "4     2.050625   1.505952 -1.08202  0.385748 -0.819330  0.785215   \n",
       "\n",
       "   NumOfProducts  HasCrCard  IsActiveMember  EstimatedSalary  \n",
       "0      -0.900618   0.644537        0.980850         0.015075  \n",
       "1      -0.900618  -1.551501        0.980850         0.209443  \n",
       "2       2.525956   0.644537       -1.019524         0.233562  \n",
       "3       0.812669  -1.551501       -1.019524        -0.115541  \n",
       "4      -0.900618   0.644537        0.980850        -0.371531  "
      ],
      "text/html": [
       "<div>\n",
       "<style scoped>\n",
       "    .dataframe tbody tr th:only-of-type {\n",
       "        vertical-align: middle;\n",
       "    }\n",
       "\n",
       "    .dataframe tbody tr th {\n",
       "        vertical-align: top;\n",
       "    }\n",
       "\n",
       "    .dataframe thead th {\n",
       "        text-align: right;\n",
       "    }\n",
       "</style>\n",
       "<table border=\"1\" class=\"dataframe\">\n",
       "  <thead>\n",
       "    <tr style=\"text-align: right;\">\n",
       "      <th></th>\n",
       "      <th>CreditScore</th>\n",
       "      <th>Geography</th>\n",
       "      <th>Gender</th>\n",
       "      <th>Age</th>\n",
       "      <th>Tenure</th>\n",
       "      <th>Balance</th>\n",
       "      <th>NumOfProducts</th>\n",
       "      <th>HasCrCard</th>\n",
       "      <th>IsActiveMember</th>\n",
       "      <th>EstimatedSalary</th>\n",
       "    </tr>\n",
       "  </thead>\n",
       "  <tbody>\n",
       "    <tr>\n",
       "      <td>0</td>\n",
       "      <td>-0.328324</td>\n",
       "      <td>-0.902929</td>\n",
       "      <td>-1.08202</td>\n",
       "      <td>0.290799</td>\n",
       "      <td>-0.819330</td>\n",
       "      <td>-1.227573</td>\n",
       "      <td>-0.900618</td>\n",
       "      <td>0.644537</td>\n",
       "      <td>0.980850</td>\n",
       "      <td>0.015075</td>\n",
       "    </tr>\n",
       "    <tr>\n",
       "      <td>1</td>\n",
       "      <td>-0.441607</td>\n",
       "      <td>1.505952</td>\n",
       "      <td>-1.08202</td>\n",
       "      <td>0.195849</td>\n",
       "      <td>-1.140952</td>\n",
       "      <td>0.116434</td>\n",
       "      <td>-0.900618</td>\n",
       "      <td>-1.551501</td>\n",
       "      <td>0.980850</td>\n",
       "      <td>0.209443</td>\n",
       "    </tr>\n",
       "    <tr>\n",
       "      <td>2</td>\n",
       "      <td>-1.533246</td>\n",
       "      <td>-0.902929</td>\n",
       "      <td>-1.08202</td>\n",
       "      <td>0.290799</td>\n",
       "      <td>1.110398</td>\n",
       "      <td>1.332870</td>\n",
       "      <td>2.525956</td>\n",
       "      <td>0.644537</td>\n",
       "      <td>-1.019524</td>\n",
       "      <td>0.233562</td>\n",
       "    </tr>\n",
       "    <tr>\n",
       "      <td>3</td>\n",
       "      <td>0.495554</td>\n",
       "      <td>-0.902929</td>\n",
       "      <td>-1.08202</td>\n",
       "      <td>0.005950</td>\n",
       "      <td>-1.140952</td>\n",
       "      <td>-1.227573</td>\n",
       "      <td>0.812669</td>\n",
       "      <td>-1.551501</td>\n",
       "      <td>-1.019524</td>\n",
       "      <td>-0.115541</td>\n",
       "    </tr>\n",
       "    <tr>\n",
       "      <td>4</td>\n",
       "      <td>2.050625</td>\n",
       "      <td>1.505952</td>\n",
       "      <td>-1.08202</td>\n",
       "      <td>0.385748</td>\n",
       "      <td>-0.819330</td>\n",
       "      <td>0.785215</td>\n",
       "      <td>-0.900618</td>\n",
       "      <td>0.644537</td>\n",
       "      <td>0.980850</td>\n",
       "      <td>-0.371531</td>\n",
       "    </tr>\n",
       "  </tbody>\n",
       "</table>\n",
       "</div>"
      ]
     },
     "metadata": {}
    }
   ],
   "metadata": {}
  },
  {
   "cell_type": "markdown",
   "source": [
    "Теперь с данными всё в полном порядке."
   ],
   "metadata": {}
  },
  {
   "cell_type": "markdown",
   "source": [
    "# Вывод"
   ],
   "metadata": {}
  },
  {
   "cell_type": "markdown",
   "source": [
    "* Были удалены 3 столбца из признаков `('CustomerId', 'Surname', 'RowNumber')`\n",
    "* Дозаполнены недостающие значения\n",
    "* Данные разбиты на 3 выборки с соотношением ответов в целевом признаке\n",
    "* Видно сильный дисбаланс классов\n",
    "* Закодированы столбцы с типом данных `object`\n",
    "* Выполнено масштабирование всех признаков\n",
    "\n",
    "\n",
    "Данные подготовлены для дальнейшей работы"
   ],
   "metadata": {}
  },
  {
   "cell_type": "markdown",
   "source": [
    "# 2. Исследование задачи"
   ],
   "metadata": {}
  },
  {
   "cell_type": "markdown",
   "source": [
    "Обучаю модель дерева решений и ищу наилучшее значение для depth"
   ],
   "metadata": {}
  },
  {
   "cell_type": "code",
   "execution_count": 9,
   "source": [
    "max_result = 0\r\n",
    "best_depth = 0\r\n",
    "for depth in range(1,10):\r\n",
    "    model_tree = DecisionTreeClassifier(random_state=12345, max_depth=depth)\r\n",
    "    model_tree.fit(features_train, target_train)\r\n",
    "    predictions_valid = model_tree.predict(features_valid)\r\n",
    "    result = f1_score(target_valid, predictions_valid)\r\n",
    "    if result > max_result:\r\n",
    "        max_result = result\r\n",
    "        best_depth = depth\r\n",
    "        auc_roc = roc_auc_score(target_valid, predictions_valid)\r\n",
    "        \r\n",
    "print(\"F1-score: {0} при max_depth: {1}\".format(max_result, best_depth))\r\n",
    "print(\"AUC-ROC:\", auc_roc)"
   ],
   "outputs": [
    {
     "output_type": "stream",
     "name": "stdout",
     "text": [
      "F1-score: 0.5678627145085804 при max_depth: 5\n",
      "AUC-ROC: 0.7096045144574307\n"
     ]
    },
    {
     "output_type": "stream",
     "name": "stderr",
     "text": [
      "/opt/conda/lib/python3.7/site-packages/sklearn/metrics/classification.py:1437: UndefinedMetricWarning: F-score is ill-defined and being set to 0.0 due to no predicted samples.\n",
      "  'precision', 'predicted', average, warn_for)\n"
     ]
    }
   ],
   "metadata": {}
  },
  {
   "cell_type": "markdown",
   "source": [
    "Обучаю модель случайного леса и ищу наилучшее значение для `max_depth`"
   ],
   "metadata": {}
  },
  {
   "cell_type": "code",
   "execution_count": 10,
   "source": [
    "max_result = 0\r\n",
    "best_depth = 0\r\n",
    "for depth in range(20, 30):\r\n",
    "        model_forest = RandomForestClassifier(n_estimators=20, random_state=12345, max_depth=depth)\r\n",
    "        model_forest.fit(features_train, target_train)\r\n",
    "        predictions_valid = model_forest.predict(features_valid)\r\n",
    "        result = f1_score(target_valid, predictions_valid)\r\n",
    "        if result > max_result:\r\n",
    "            max_result = result\r\n",
    "            best_depth = depth\r\n",
    "\r\n",
    "print(\"F1-score: {0} при max_depth: {1}\".format(max_result, best_depth))"
   ],
   "outputs": [
    {
     "output_type": "stream",
     "name": "stdout",
     "text": [
      "F1-score: 0.5942684766214178 при max_depth: 26\n"
     ]
    }
   ],
   "metadata": {}
  },
  {
   "cell_type": "markdown",
   "source": [
    "Обучаю модель случайного леса и ищу наилучшее значение для `n_estimators`"
   ],
   "metadata": {}
  },
  {
   "cell_type": "code",
   "execution_count": 11,
   "source": [
    "max_result = 0\r\n",
    "best_est = 0\r\n",
    "for est in range(20, 30):\r\n",
    "    model_forest = RandomForestClassifier(n_estimators=est, random_state=12345, max_depth=26)\r\n",
    "    model_forest.fit(features_train, target_train)\r\n",
    "    predictions_valid = model_forest.predict(features_valid)\r\n",
    "    result = f1_score(target_valid, predictions_valid)\r\n",
    "    if result > max_result:\r\n",
    "        max_result = result\r\n",
    "        best_est = est\r\n",
    "        auc_roc = roc_auc_score(target_valid, predictions_valid)\r\n",
    "        \r\n",
    "print(\"F1-score: {0} при max_depth: {1} и n_estimators: {2}, AUC-ROC: {3}\".format(max_result, best_depth, best_est, auc_roc))"
   ],
   "outputs": [
    {
     "output_type": "stream",
     "name": "stdout",
     "text": [
      "F1-score: 0.6074074074074073 при max_depth: 26 и n_estimators: 23, AUC-ROC: 0.7350657783298514\n"
     ]
    }
   ],
   "metadata": {}
  },
  {
   "cell_type": "markdown",
   "source": [
    "# Вывод"
   ],
   "metadata": {}
  },
  {
   "cell_type": "markdown",
   "source": [
    "Даже при дисбалансе классов, модель случайного леса показала значение F1 = 0.60 на валидационной выборке, при этом видно, что AUC-ROC и для модели случайного леса и для модели дерева решений находится очень далеко от 1."
   ],
   "metadata": {}
  },
  {
   "cell_type": "markdown",
   "source": [
    "# 3. Борьба с дисбалансом"
   ],
   "metadata": {}
  },
  {
   "cell_type": "markdown",
   "source": [
    "Так как наибольший результат дала модель случайного леса, то дальше буду рассматривать только её.\n",
    "\n",
    "Первым делом для борьбы с дисбалансом использую `class_weight='balanced'` и нахожу значения для max_depth и n_estimators"
   ],
   "metadata": {}
  },
  {
   "cell_type": "code",
   "execution_count": 12,
   "source": [
    "max_result = 0\r\n",
    "best_depth = 0\r\n",
    "for depth in range(10, 20):\r\n",
    "    model_forest = RandomForestClassifier(n_estimators=20, random_state=12345, max_depth=depth, class_weight='balanced')\r\n",
    "    model_forest.fit(features_train, target_train)\r\n",
    "    predictions_valid = model_forest.predict(features_valid)\r\n",
    "    result = f1_score(target_valid, predictions_valid)\r\n",
    "    if result > max_result:\r\n",
    "        max_result = result\r\n",
    "        best_depth = depth\r\n",
    "        \r\n",
    "print(\"F1-score: {0} при max_depth: {1}\".format(max_result, best_depth))"
   ],
   "outputs": [
    {
     "output_type": "stream",
     "name": "stdout",
     "text": [
      "F1-score: 0.606060606060606 при max_depth: 11\n"
     ]
    }
   ],
   "metadata": {}
  },
  {
   "cell_type": "code",
   "execution_count": 13,
   "source": [
    "max_result = 0\r\n",
    "best_est = 0\r\n",
    "for est in range(170, 180):\r\n",
    "    model_forest = RandomForestClassifier(n_estimators=est, random_state=12345, max_depth=11, class_weight='balanced')\r\n",
    "    model_forest.fit(features_train, target_train)\r\n",
    "    predictions_valid = model_forest.predict(features_valid)\r\n",
    "    result = f1_score(target_valid, predictions_valid)\r\n",
    "    if result > max_result:\r\n",
    "        max_result = result\r\n",
    "        best_est = est\r\n",
    "        auc_roc = roc_auc_score(target_valid, predictions_valid)\r\n",
    "        \r\n",
    "print(\"F1-score: {0} при max_depth: {1} и n_estimators: {2}, AUC-ROC: {3}\".format(max_result, best_depth, best_est, auc_roc))"
   ],
   "outputs": [
    {
     "output_type": "stream",
     "name": "stdout",
     "text": [
      "F1-score: 0.6193548387096773 при max_depth: 11 и n_estimators: 173, AUC-ROC: 0.7587484865024247\n"
     ]
    }
   ],
   "metadata": {}
  },
  {
   "cell_type": "markdown",
   "source": [
    "Можно заметить, что увеличились и `F1 0.607 -> 0.619` и `AUC-ROC 0.735 -> 0.758`, значит данным способом удалось улучшить модель.\n",
    "\n",
    "Следующий способ - `upsample`."
   ],
   "metadata": {}
  },
  {
   "cell_type": "code",
   "execution_count": 14,
   "source": [
    "def upsample(features, target, repeat):\r\n",
    "    features_zeros = features[target == 0]\r\n",
    "    features_ones = features[target == 1]\r\n",
    "    target_zeros = target[target == 0]\r\n",
    "    target_ones = target[target == 1]\r\n",
    "\r\n",
    "    features_upsampled = pd.concat([features_zeros] + [features_ones] * repeat)\r\n",
    "    target_upsampled = pd.concat([target_zeros] + [target_ones] * repeat)\r\n",
    "    \r\n",
    "    features_upsampled, target_upsampled = shuffle(\r\n",
    "        features_upsampled, target_upsampled, random_state=12345)\r\n",
    "    \r\n",
    "    return features_upsampled, target_upsampled\r\n",
    "\r\n",
    "features_upsampled, target_upsampled = upsample(features_train, target_train, 4)\r\n",
    "\r\n",
    "max_result = 0\r\n",
    "best_depth = 0\r\n",
    "for depth in range(10, 20):\r\n",
    "    model_forest = RandomForestClassifier(n_estimators=20, random_state=12345, max_depth=depth)\r\n",
    "    model_forest.fit(features_upsampled, target_upsampled)\r\n",
    "    predictions_valid = model_forest.predict(features_valid)\r\n",
    "    result = f1_score(target_valid, predictions_valid)\r\n",
    "    if result > max_result:\r\n",
    "        max_result = result\r\n",
    "        best_depth = depth\r\n",
    "        \r\n",
    "print(\"F1-score: {0} при max_depth: {1}\".format(max_result, best_depth))"
   ],
   "outputs": [
    {
     "output_type": "stream",
     "name": "stdout",
     "text": [
      "F1-score: 0.6029919447640967 при max_depth: 12\n"
     ]
    }
   ],
   "metadata": {}
  },
  {
   "cell_type": "code",
   "execution_count": 15,
   "source": [
    "max_result = 0\r\n",
    "best_est = 0\r\n",
    "for est in range(170, 180):\r\n",
    "    model_forest = RandomForestClassifier(n_estimators=est, random_state=12345, max_depth=12)\r\n",
    "    model_forest.fit(features_upsampled, target_upsampled)\r\n",
    "    predictions_valid = model_forest.predict(features_valid)\r\n",
    "    result = f1_score(target_valid, predictions_valid)\r\n",
    "    if result > max_result:\r\n",
    "        max_result = result\r\n",
    "        best_est = est\r\n",
    "        auc_roc = roc_auc_score(target_valid, predictions_valid)\r\n",
    "        \r\n",
    "print(\"F1-score: {0} при max_depth: {1} и n_estimators: {2}, AUC-ROC: {3}\".format(max_result, best_depth, best_est, auc_roc))"
   ],
   "outputs": [
    {
     "output_type": "stream",
     "name": "stdout",
     "text": [
      "F1-score: 0.6132075471698112 при max_depth: 12 и n_estimators: 172, AUC-ROC: 0.7673322919215303\n"
     ]
    }
   ],
   "metadata": {}
  },
  {
   "cell_type": "code",
   "execution_count": 16,
   "source": [
    "print(\"размер выборки до увеличения: {0}, после: {1} \".format(len(target_train), len(target_upsampled)))\r\n",
    "print('Соотношение 0 и 1: ')\r\n",
    "print(target_upsampled.value_counts(normalize=True))"
   ],
   "outputs": [
    {
     "output_type": "stream",
     "name": "stdout",
     "text": [
      "размер выборки до увеличения: 6000, после: 9747 \n",
      "Соотношение 0 и 1: \n",
      "1    0.512568\n",
      "0    0.487432\n",
      "Name: Exited, dtype: float64\n"
     ]
    }
   ],
   "metadata": {}
  },
  {
   "cell_type": "markdown",
   "source": [
    "Можно заметить, что количество `0 и 1` приравнялось `(0.487 и 0.512)`\n",
    "\n",
    "`F1` стал больше, чем при дисбалансе `0.607 -> 0.613`, но меньше, чем у предыдущего способа `0.619 -> 0.613`\n",
    "\n",
    "`AUC-ROC` показывает большее значение, чем в предыдущем методе `0.758 -> 0.767`, это ожидаемо, ведь выборка стала больше `(6000 -> 9747)`, и качество модели улучшилось."
   ],
   "metadata": {}
  },
  {
   "cell_type": "code",
   "execution_count": 17,
   "source": [
    "def downsample(features, target, fraction):\r\n",
    "    features_zeros = features[target == 0]\r\n",
    "    features_ones = features[target == 1]\r\n",
    "    target_zeros = target[target == 0]\r\n",
    "    target_ones = target[target == 1]\r\n",
    "\r\n",
    "    features_downsampled = pd.concat(\r\n",
    "        [features_zeros.sample(frac=fraction, random_state=12345)] + [features_ones])\r\n",
    "    target_downsampled = pd.concat(\r\n",
    "        [target_zeros.sample(frac=fraction, random_state=12345)] + [target_ones])\r\n",
    "    \r\n",
    "    features_downsampled, target_downsampled = shuffle(\r\n",
    "        features_downsampled, target_downsampled, random_state=12345)\r\n",
    "    \r\n",
    "    return features_downsampled, target_downsampled\r\n",
    "\r\n",
    "features_downsampled, target_downsampled = downsample(features_train, target_train, 0.2629)\r\n",
    "\r\n",
    "max_result = 0\r\n",
    "best_depth = 0\r\n",
    "for depth in range(1, 11):\r\n",
    "    model_forest = RandomForestClassifier(n_estimators=20, random_state=12345, max_depth=depth)\r\n",
    "    model_forest.fit(features_downsampled, target_downsampled)\r\n",
    "    predictions_valid = model_forest.predict(features_valid)\r\n",
    "    result = f1_score(target_valid, predictions_valid)\r\n",
    "    if result > max_result:\r\n",
    "        max_result = result\r\n",
    "        best_depth = depth\r\n",
    "        \r\n",
    "print(\"F1-score: {0} при max_depth: {1}\".format(max_result, best_depth))"
   ],
   "outputs": [
    {
     "output_type": "stream",
     "name": "stdout",
     "text": [
      "F1-score: 0.5887939221272555 при max_depth: 10\n"
     ]
    }
   ],
   "metadata": {}
  },
  {
   "cell_type": "code",
   "execution_count": 18,
   "source": [
    "print(\"размер выборки до увеличения: {0}, после: {1} \".format(len(target_train), len(target_downsampled)))\r\n",
    "print('Соотношение 0 и 1: ')\r\n",
    "target_downsampled.value_counts(normalize=True)"
   ],
   "outputs": [
    {
     "output_type": "stream",
     "name": "stdout",
     "text": [
      "размер выборки до увеличения: 6000, после: 2498 \n",
      "Соотношение 0 и 1: \n"
     ]
    },
    {
     "output_type": "execute_result",
     "data": {
      "text/plain": [
       "1    0.5\n",
       "0    0.5\n",
       "Name: Exited, dtype: float64"
      ]
     },
     "metadata": {},
     "execution_count": 18
    }
   ],
   "metadata": {}
  },
  {
   "cell_type": "code",
   "execution_count": 19,
   "source": [
    "max_result = 0\r\n",
    "best_est = 0\r\n",
    "for est in range(270, 280):\r\n",
    "    model_forest = RandomForestClassifier(n_estimators=est, random_state=12345, max_depth=10)\r\n",
    "    model_forest.fit(features_downsampled, target_downsampled)\r\n",
    "    predictions_valid = model_forest.predict(features_valid)\r\n",
    "    result = f1_score(target_valid, predictions_valid)\r\n",
    "    if result > max_result:\r\n",
    "        max_result = result\r\n",
    "        best_est = est\r\n",
    "        auc_roc = roc_auc_score(target_valid, predictions_valid)\r\n",
    "        \r\n",
    "print(\"F1-score: {0} при max_depth: {1} и n_estimators: {2}, AUC-ROC: {3}\".format(max_result, best_depth, best_est, auc_roc))"
   ],
   "outputs": [
    {
     "output_type": "stream",
     "name": "stdout",
     "text": [
      "F1-score: 0.5980198019801981 при max_depth: 10 и n_estimators: 272, AUC-ROC: 0.7826429274964083\n"
     ]
    }
   ],
   "metadata": {}
  },
  {
   "cell_type": "markdown",
   "source": [
    "`F1` стал меньше, чем при дисбалансе `0.607 -> 0.598`, а `AUC-ROC` наоборот показало наибольшее значение из всех методов борьбы с дисбалансом, это связано с уменьшение тренировочной выборки `6000 -> 2498`."
   ],
   "metadata": {}
  },
  {
   "cell_type": "markdown",
   "source": [
    "# Вывод"
   ],
   "metadata": {}
  },
  {
   "cell_type": "markdown",
   "source": [
    "Я исследовал 3 способа борьбы с дисбалансом на модели случайного леса и выяснил, что лучший способ - `upsample`, так как в нём F1 и AUC-ROC наиболее сбалансированы."
   ],
   "metadata": {}
  },
  {
   "cell_type": "markdown",
   "source": [
    "# 4. Тестирование модели"
   ],
   "metadata": {}
  },
  {
   "cell_type": "markdown",
   "source": [
    "Тестирование модели случайного леса без учета дисбаланса"
   ],
   "metadata": {}
  },
  {
   "cell_type": "code",
   "execution_count": 20,
   "source": [
    "model_forest = RandomForestClassifier(n_estimators=23, random_state=12345, max_depth=26)\r\n",
    "model_forest.fit(features_train, target_train)\r\n",
    "predictions_test = model_forest.predict(features_test)\r\n",
    "result = f1_score(target_test, predictions_test)\r\n",
    "print(\"F1: \", result)"
   ],
   "outputs": [
    {
     "output_type": "stream",
     "name": "stdout",
     "text": [
      "F1:  0.5588697017268446\n"
     ]
    }
   ],
   "metadata": {}
  },
  {
   "cell_type": "markdown",
   "source": [
    "Тестирование модели случайного леса с `class_weight='balanced'`"
   ],
   "metadata": {}
  },
  {
   "cell_type": "code",
   "execution_count": 21,
   "source": [
    "model_forest = RandomForestClassifier(n_estimators=173, random_state=12345, max_depth=11, class_weight='balanced')\r\n",
    "model_forest.fit(features_train, target_train)\r\n",
    "predictions_test = model_forest.predict(features_test)\r\n",
    "result = f1_score(target_test, predictions_test)\r\n",
    "print(\"F1: \", result)"
   ],
   "outputs": [
    {
     "output_type": "stream",
     "name": "stdout",
     "text": [
      "F1:  0.5898491083676269\n"
     ]
    }
   ],
   "metadata": {}
  },
  {
   "cell_type": "markdown",
   "source": [
    "Тестирование модели случайного леса с `upsample`"
   ],
   "metadata": {}
  },
  {
   "cell_type": "code",
   "execution_count": 22,
   "source": [
    "model_forest = RandomForestClassifier(n_estimators=172, random_state=12345, max_depth=12)\r\n",
    "model_forest.fit(features_upsampled, target_upsampled)\r\n",
    "predictions_test = model_forest.predict(features_test)\r\n",
    "result = f1_score(target_test, predictions_test)\r\n",
    "print(\"F1: \", result)"
   ],
   "outputs": [
    {
     "output_type": "stream",
     "name": "stdout",
     "text": [
      "F1:  0.6015037593984962\n"
     ]
    }
   ],
   "metadata": {}
  },
  {
   "cell_type": "markdown",
   "source": [
    "Тестирование модели случайного леса с `downsample`"
   ],
   "metadata": {}
  },
  {
   "cell_type": "code",
   "execution_count": 23,
   "source": [
    "model_forest = RandomForestClassifier(n_estimators=272, random_state=12345, max_depth=10)\r\n",
    "model_forest.fit(features_downsampled, target_downsampled)\r\n",
    "predictions_test = model_forest.predict(features_test)\r\n",
    "result = f1_score(target_test, predictions_test)\r\n",
    "print(\"F1: \", result)"
   ],
   "outputs": [
    {
     "output_type": "stream",
     "name": "stdout",
     "text": [
      "F1:  0.5717131474103586\n"
     ]
    }
   ],
   "metadata": {}
  },
  {
   "cell_type": "markdown",
   "source": [
    "# Вывод"
   ],
   "metadata": {}
  },
  {
   "cell_type": "markdown",
   "source": [
    "Тестовая выборка всё расставила на свои места:\n",
    "\n",
    "Минимальное значение `F1` у модели с неучтенным дисбалансом, хотя на валидной выборке она показала высокий результат, качество модели оставляет желать лучшего `(0.558)`\n",
    "\n",
    "Следующее значение `F1` у модели с `downsample`, так как очень мало данных, то модель недообучилась, отсюда и низкий результат. `(0.571)`\n",
    "\n",
    "Далее идёт модель с `class_weight='balanced'`, и вот она уже почти попадает под условие со значением `F1 0.589`\n",
    "\n",
    "И лучшим способом борьбы с дисбалансом оказался `upsample`. Ведь в данном случае самая большая выборка, хоть значения и повторяются. И `F1 0.601`. Таким образом условие получить 0.59 или больше на тестовой выборке выполнено."
   ],
   "metadata": {}
  }
 ],
 "metadata": {
  "kernelspec": {
   "display_name": "Python 3",
   "language": "python",
   "name": "python3"
  },
  "language_info": {
   "codemirror_mode": {
    "name": "ipython",
    "version": 3
   },
   "file_extension": ".py",
   "mimetype": "text/x-python",
   "name": "python",
   "nbconvert_exporter": "python",
   "pygments_lexer": "ipython3",
   "version": "3.7.8"
  },
  "toc": {
   "base_numbering": 1,
   "nav_menu": {},
   "number_sections": true,
   "sideBar": true,
   "skip_h1_title": true,
   "title_cell": "Table of Contents",
   "title_sidebar": "Contents",
   "toc_cell": false,
   "toc_position": {},
   "toc_section_display": true,
   "toc_window_display": false
  }
 },
 "nbformat": 4,
 "nbformat_minor": 2
}