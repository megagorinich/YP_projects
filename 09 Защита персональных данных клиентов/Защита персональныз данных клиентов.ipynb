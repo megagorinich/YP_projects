{
 "cells": [
  {
   "cell_type": "markdown",
   "source": [
    "# Защита персональных данных клиентов"
   ],
   "metadata": {}
  },
  {
   "cell_type": "markdown",
   "source": [
    "Вам нужно защитить данные клиентов страховой компании «Хоть потоп». Разработайте такой метод преобразования данных, чтобы по ним было сложно восстановить персональную информацию. Обоснуйте корректность его работы.\n",
    "\n",
    "Нужно защитить данные, чтобы при преобразовании качество моделей машинного обучения не ухудшилось. Подбирать наилучшую модель не требуется."
   ],
   "metadata": {}
  },
  {
   "cell_type": "markdown",
   "source": [
    "## Загрузка данных"
   ],
   "metadata": {}
  },
  {
   "cell_type": "code",
   "execution_count": 1,
   "source": [
    "import pandas as pd\r\n",
    "import numpy as np\r\n",
    "from sklearn.linear_model import LinearRegression\r\n",
    "from sklearn.model_selection import train_test_split\r\n",
    "from sklearn.metrics import r2_score\r\n",
    "from IPython.display import display"
   ],
   "outputs": [],
   "metadata": {}
  },
  {
   "cell_type": "code",
   "execution_count": 2,
   "source": [
    "data = pd.read_csv('/datasets/insurance.csv')\r\n",
    "display(data, data.info())"
   ],
   "outputs": [
    {
     "output_type": "stream",
     "name": "stdout",
     "text": [
      "<class 'pandas.core.frame.DataFrame'>\n",
      "RangeIndex: 5000 entries, 0 to 4999\n",
      "Data columns (total 5 columns):\n",
      "Пол                  5000 non-null int64\n",
      "Возраст              5000 non-null float64\n",
      "Зарплата             5000 non-null float64\n",
      "Члены семьи          5000 non-null int64\n",
      "Страховые выплаты    5000 non-null int64\n",
      "dtypes: float64(2), int64(3)\n",
      "memory usage: 195.4 KB\n"
     ]
    },
    {
     "output_type": "display_data",
     "data": {
      "text/plain": [
       "      Пол  Возраст  Зарплата  Члены семьи  Страховые выплаты\n",
       "0       1     41.0   49600.0            1                  0\n",
       "1       0     46.0   38000.0            1                  1\n",
       "2       0     29.0   21000.0            0                  0\n",
       "3       0     21.0   41700.0            2                  0\n",
       "4       1     28.0   26100.0            0                  0\n",
       "...   ...      ...       ...          ...                ...\n",
       "4995    0     28.0   35700.0            2                  0\n",
       "4996    0     34.0   52400.0            1                  0\n",
       "4997    0     20.0   33900.0            2                  0\n",
       "4998    1     22.0   32700.0            3                  0\n",
       "4999    1     28.0   40600.0            1                  0\n",
       "\n",
       "[5000 rows x 5 columns]"
      ],
      "text/html": [
       "<div>\n",
       "<style scoped>\n",
       "    .dataframe tbody tr th:only-of-type {\n",
       "        vertical-align: middle;\n",
       "    }\n",
       "\n",
       "    .dataframe tbody tr th {\n",
       "        vertical-align: top;\n",
       "    }\n",
       "\n",
       "    .dataframe thead th {\n",
       "        text-align: right;\n",
       "    }\n",
       "</style>\n",
       "<table border=\"1\" class=\"dataframe\">\n",
       "  <thead>\n",
       "    <tr style=\"text-align: right;\">\n",
       "      <th></th>\n",
       "      <th>Пол</th>\n",
       "      <th>Возраст</th>\n",
       "      <th>Зарплата</th>\n",
       "      <th>Члены семьи</th>\n",
       "      <th>Страховые выплаты</th>\n",
       "    </tr>\n",
       "  </thead>\n",
       "  <tbody>\n",
       "    <tr>\n",
       "      <td>0</td>\n",
       "      <td>1</td>\n",
       "      <td>41.0</td>\n",
       "      <td>49600.0</td>\n",
       "      <td>1</td>\n",
       "      <td>0</td>\n",
       "    </tr>\n",
       "    <tr>\n",
       "      <td>1</td>\n",
       "      <td>0</td>\n",
       "      <td>46.0</td>\n",
       "      <td>38000.0</td>\n",
       "      <td>1</td>\n",
       "      <td>1</td>\n",
       "    </tr>\n",
       "    <tr>\n",
       "      <td>2</td>\n",
       "      <td>0</td>\n",
       "      <td>29.0</td>\n",
       "      <td>21000.0</td>\n",
       "      <td>0</td>\n",
       "      <td>0</td>\n",
       "    </tr>\n",
       "    <tr>\n",
       "      <td>3</td>\n",
       "      <td>0</td>\n",
       "      <td>21.0</td>\n",
       "      <td>41700.0</td>\n",
       "      <td>2</td>\n",
       "      <td>0</td>\n",
       "    </tr>\n",
       "    <tr>\n",
       "      <td>4</td>\n",
       "      <td>1</td>\n",
       "      <td>28.0</td>\n",
       "      <td>26100.0</td>\n",
       "      <td>0</td>\n",
       "      <td>0</td>\n",
       "    </tr>\n",
       "    <tr>\n",
       "      <td>...</td>\n",
       "      <td>...</td>\n",
       "      <td>...</td>\n",
       "      <td>...</td>\n",
       "      <td>...</td>\n",
       "      <td>...</td>\n",
       "    </tr>\n",
       "    <tr>\n",
       "      <td>4995</td>\n",
       "      <td>0</td>\n",
       "      <td>28.0</td>\n",
       "      <td>35700.0</td>\n",
       "      <td>2</td>\n",
       "      <td>0</td>\n",
       "    </tr>\n",
       "    <tr>\n",
       "      <td>4996</td>\n",
       "      <td>0</td>\n",
       "      <td>34.0</td>\n",
       "      <td>52400.0</td>\n",
       "      <td>1</td>\n",
       "      <td>0</td>\n",
       "    </tr>\n",
       "    <tr>\n",
       "      <td>4997</td>\n",
       "      <td>0</td>\n",
       "      <td>20.0</td>\n",
       "      <td>33900.0</td>\n",
       "      <td>2</td>\n",
       "      <td>0</td>\n",
       "    </tr>\n",
       "    <tr>\n",
       "      <td>4998</td>\n",
       "      <td>1</td>\n",
       "      <td>22.0</td>\n",
       "      <td>32700.0</td>\n",
       "      <td>3</td>\n",
       "      <td>0</td>\n",
       "    </tr>\n",
       "    <tr>\n",
       "      <td>4999</td>\n",
       "      <td>1</td>\n",
       "      <td>28.0</td>\n",
       "      <td>40600.0</td>\n",
       "      <td>1</td>\n",
       "      <td>0</td>\n",
       "    </tr>\n",
       "  </tbody>\n",
       "</table>\n",
       "<p>5000 rows × 5 columns</p>\n",
       "</div>"
      ]
     },
     "metadata": {}
    },
    {
     "output_type": "display_data",
     "data": {
      "text/plain": [
       "None"
      ]
     },
     "metadata": {}
    }
   ],
   "metadata": {}
  },
  {
   "cell_type": "code",
   "execution_count": 3,
   "source": [
    "data = data.astype({'Возраст':'int', 'Зарплата':'int'})"
   ],
   "outputs": [],
   "metadata": {}
  },
  {
   "cell_type": "markdown",
   "source": [
    "## Вывод"
   ],
   "metadata": {}
  },
  {
   "cell_type": "markdown",
   "source": [
    "Имеем таблицу, пропусков нет, 5 столбцов, 5000 строк, изменил тип данных у 2-х столбцов на int."
   ],
   "metadata": {}
  },
  {
   "cell_type": "markdown",
   "source": [
    "## Умножение матриц"
   ],
   "metadata": {}
  },
  {
   "cell_type": "markdown",
   "source": [
    "В этом задании вы можете записывать формулы в *Jupyter Notebook.*\n",
    "\n",
    "Чтобы записать формулу внутри текста, окружите её символами доллара \\\\$; если снаружи —  двойными символами \\\\$\\\\$. Эти формулы записываются на языке вёрстки *LaTeX.* \n",
    "\n",
    "Для примера мы записали формулы линейной регрессии. Можете их скопировать и отредактировать, чтобы решить задачу.\n",
    "\n",
    "Работать в *LaTeX* необязательно."
   ],
   "metadata": {}
  },
  {
   "cell_type": "markdown",
   "source": [
    "Обозначения:\n",
    "\n",
    "- $X$ — матрица признаков (нулевой столбец состоит из единиц)\n",
    "\n",
    "- $y$ — вектор целевого признака\n",
    "\n",
    "- $P$ — матрица, на которую умножаются признаки\n",
    "\n",
    "- $w$ — вектор весов линейной регрессии (нулевой элемент равен сдвигу)"
   ],
   "metadata": {}
  },
  {
   "cell_type": "markdown",
   "source": [
    "Предсказания:\n",
    "\n",
    "$$\n",
    "a = Xw\n",
    "$$\n",
    "\n",
    "Задача обучения:\n",
    "\n",
    "$$\n",
    "w = \\arg\\min_w MSE(Xw, y)\n",
    "$$\n",
    "\n",
    "Формула обучения:\n",
    "\n",
    "$$\n",
    "w = (X^T X)^{-1} X^T y\n",
    "$$"
   ],
   "metadata": {}
  },
  {
   "cell_type": "markdown",
   "source": [
    "**Ответьте на вопрос и обоснуйте решение.**\n",
    "\n",
    "Признаки умножают на обратимую матрицу. Изменится ли качество линейной регрессии? (Её можно обучить заново.)\n",
    "\n",
    "a. Изменится. Приведите примеры матриц.\n",
    "\n",
    "b. Не изменится. Укажите, как связаны параметры линейной регрессии в исходной задаче и в преобразованной."
   ],
   "metadata": {}
  },
  {
   "cell_type": "markdown",
   "source": [
    "**Ответ:** b. Не изменится.\n",
    "\n",
    "**Обоснование:** \n",
    "\n",
    "Исходная формула выглядит так:\n",
    "\n",
    "$$ w' = ((XP)^T XP)^{-1} (XP)^T y $$\n",
    "\n",
    "Начинаю преобразования с раскрытия скобок:\n",
    "\n",
    "$$ (XP)^T = X^T P^T $$\n",
    "\n",
    "$$ (X^T P^T XP)^{-1} = (P^T)^{-1} (X^T XP)^{-1} = (P^T)^{-1} (X^T X)^{-1} P^{-1} $$\n",
    "\n",
    "После раскрытия скобок получаю формулу вида:\n",
    "\n",
    "$$ w' = (P^T)^{-1} (X^T X)^{-1} P^{-1} X^T P^T y $$\n",
    "\n",
    "Умножение обратной и обратимой матриц даёт единичную матрицу:\n",
    "\n",
    "$$ (P^T)^{-1} P^T = E^T = E $$\n",
    "\n",
    "Теперь формула выглядит так:\n",
    "\n",
    "$$ w' = E (X^T X)^{-1} P^{-1} X^T y $$\n",
    "\n",
    "Вывожу $y$ из формулы обучения:\n",
    "\n",
    "$$ y = w ((X^T X)^{-1} X^T)^{-1} $$\n",
    "\n",
    "Подставляю $y$ в формулу:\n",
    "\n",
    "$$ w' = (X^T X)^{-1} P^{-1} X^T w ((X^T X)^{-1} X^T)^{-1} $$\n",
    "\n",
    "Сокращаю:\n",
    "\n",
    "$$ w' = (X^T X)^{-1} P^{-1} X^T w (X^T X) (X^{-1})^T $$\n",
    "\n",
    "Получаю формулу:\n",
    "\n",
    "$$ w' = P^{-1} w $$\n",
    "\n",
    "Формула вектора предсказаний:\n",
    "\n",
    "$$ a' = X P w' $$\n",
    "\n",
    "Подставляю $w'$ в формулу вектора предсказаний:\n",
    "\n",
    "$$ a' = X P P^{-1} w $$\n",
    "\n",
    "В итоге:\n",
    "\n",
    "$$ a = X w = a' $$"
   ],
   "metadata": {}
  },
  {
   "cell_type": "markdown",
   "source": [
    "## Алгоритм преобразования"
   ],
   "metadata": {}
  },
  {
   "cell_type": "markdown",
   "source": [
    "Предложите алгоритм преобразования данных для решения задачи. \n",
    "\n",
    "Обоснуйте, почему качество линейной регрессии не поменяется."
   ],
   "metadata": {}
  },
  {
   "cell_type": "markdown",
   "source": [
    "**Алгоритм**\n",
    "\n",
    "1. Генерирую рандомную матрицу размера 4*4\n",
    "2. Проверяю на обратимость сгенерированную матрицу через try/except\n",
    "3. Домножау матрицу признаков на сгенерированную матрицу.\n",
    "4. Определяю R2 для признаков и признаков, умноженных на сгенерированную матрицу\n",
    "5. Сравниваю метрики с помощью isclose"
   ],
   "metadata": {}
  },
  {
   "cell_type": "markdown",
   "source": [
    "**Обоснование**\n",
    "\n",
    "Суть алгоритма заключается в том, что я подставляю в формулу весов признаки, умноженные на обратимую матрицу, а затем для получения предсказаний я умножаю признаки на обратную матрицу, а из формулы $ P P^{-1} = E$ и формулы $P E = P$ получается, что вектор предсказаний высчитывается на основе изначальных признаков, тоесть $ a = X w = a' $"
   ],
   "metadata": {}
  },
  {
   "cell_type": "markdown",
   "source": [
    "## Проверка алгоритма"
   ],
   "metadata": {}
  },
  {
   "cell_type": "markdown",
   "source": [
    "Запрограммируйте этот алгоритм, применив матричные операции. \n",
    "\n",
    "Проверьте, что качество линейной регрессии из sklearn не отличается до и после преобразования. \n",
    "\n",
    "Примените метрику R2."
   ],
   "metadata": {}
  },
  {
   "cell_type": "markdown",
   "source": [
    "Обучаю модель линейной регрессии на признаках:"
   ],
   "metadata": {}
  },
  {
   "cell_type": "code",
   "execution_count": 4,
   "source": [
    "features = data.drop(['Страховые выплаты'], axis=1) \r\n",
    "target = data['Страховые выплаты']\r\n",
    "\r\n",
    "features_train, features_valid, target_train, target_valid = train_test_split(\r\n",
    "    features, target, test_size=0.25, random_state=12345)\r\n",
    "\r\n",
    "model = LinearRegression()\r\n",
    "model.fit(features_train, target_train)\r\n",
    "predictions_valid_model1 = model.predict(features_valid)\r\n",
    "\r\n",
    "result = r2_score(target_valid, predictions_valid_model1)\r\n",
    "print(\"R2 модели линейной регрессии на валидационной выборке:\", result)"
   ],
   "outputs": [
    {
     "output_type": "stream",
     "name": "stdout",
     "text": [
      "R2 модели линейной регрессии на валидационной выборке: 0.4352275684083349\n"
     ]
    }
   ],
   "metadata": {}
  },
  {
   "cell_type": "markdown",
   "source": [
    "Обучаю модель линейной регрессии на признаках, умноженных на обратимую матрицу (чтоб получить обратимую матрицу, я умножил матрицу признаков на саму себя транспонированную):"
   ],
   "metadata": {}
  },
  {
   "cell_type": "code",
   "execution_count": 5,
   "source": [
    "features = data.drop(['Страховые выплаты'], axis=1) \r\n",
    "P = np.random.normal(size=(4,4))\r\n",
    "try:\r\n",
    "    P_inv = np.linalg.inv(P)\r\n",
    "except:\r\n",
    "    print('необратимая матрица')\r\n",
    "best_features = features.dot(P)\r\n",
    "target = data['Страховые выплаты']\r\n",
    "\r\n",
    "features_train, features_valid, target_train, target_valid = train_test_split(\r\n",
    "best_features, target, test_size=0.25, random_state=12345)\r\n",
    "\r\n",
    "model = LinearRegression()\r\n",
    "model.fit(features_train, target_train)\r\n",
    "predictions_valid_model2 = model.predict(features_valid)\r\n",
    "\r\n",
    "result = r2_score(target_valid, predictions_valid_model2)\r\n",
    "print(\"R2 модели линейной регрессии на валидационной выборке c признаками, умноженными на обратимую матрицу:\", result)\r\n"
   ],
   "outputs": [
    {
     "output_type": "stream",
     "name": "stdout",
     "text": [
      "R2 модели линейной регрессии на валидационной выборке c признаками, умноженными на обратимую матрицу: 0.43522756840796795\n"
     ]
    }
   ],
   "metadata": {}
  },
  {
   "cell_type": "markdown",
   "source": [
    "Проверка результатов на сходство:"
   ],
   "metadata": {}
  },
  {
   "cell_type": "code",
   "execution_count": 6,
   "source": [
    "np.isclose(r2_score(target_valid, predictions_valid_model1), r2_score(target_valid, predictions_valid_model2))"
   ],
   "outputs": [
    {
     "output_type": "execute_result",
     "data": {
      "text/plain": [
       "True"
      ]
     },
     "metadata": {},
     "execution_count": 6
    }
   ],
   "metadata": {}
  },
  {
   "cell_type": "markdown",
   "source": [
    "## Вывод"
   ],
   "metadata": {}
  },
  {
   "cell_type": "markdown",
   "source": [
    "В данном проекте я выполнил кодирование признаков путем умножения на обратимую матрицу и убедился, что качество модели линейной регрессии не ухудшилось."
   ],
   "metadata": {}
  }
 ],
 "metadata": {
  "kernelspec": {
   "display_name": "Python 3",
   "language": "python",
   "name": "python3"
  },
  "language_info": {
   "codemirror_mode": {
    "name": "ipython",
    "version": 3
   },
   "file_extension": ".py",
   "mimetype": "text/x-python",
   "name": "python",
   "nbconvert_exporter": "python",
   "pygments_lexer": "ipython3",
   "version": "3.7.8"
  },
  "toc": {
   "base_numbering": 1,
   "nav_menu": {},
   "number_sections": true,
   "sideBar": true,
   "skip_h1_title": true,
   "title_cell": "Содержание",
   "title_sidebar": "Contents",
   "toc_cell": true,
   "toc_position": {
    "height": "calc(100% - 180px)",
    "left": "10px",
    "top": "150px",
    "width": "258.396px"
   },
   "toc_section_display": true,
   "toc_window_display": false
  }
 },
 "nbformat": 4,
 "nbformat_minor": 2
}